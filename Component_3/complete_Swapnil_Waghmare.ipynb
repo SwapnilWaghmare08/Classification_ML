{
  "cells": [
    {
      "cell_type": "code",
      "execution_count": null,
      "id": "26d086fc",
      "metadata": {
        "id": "26d086fc"
      },
      "outputs": [],
      "source": [
        "import pandas as pd\n",
        "import matplotlib.pyplot as plt\n",
        "import seaborn as sns\n",
        "import numpy as np"
      ]
    },
    {
      "cell_type": "code",
      "execution_count": null,
      "id": "302b287a",
      "metadata": {
        "id": "302b287a"
      },
      "outputs": [],
      "source": [
        "df = pd.read_csv(\"/Users/swapnilsahebraowaghmare/Downloads/Mentormind_project/TravelInsurancePrediction.csv\")"
      ]
    },
    {
      "cell_type": "code",
      "execution_count": null,
      "id": "e81ebb9f",
      "metadata": {
        "id": "e81ebb9f",
        "outputId": "52b1b6ed-4dc2-41c4-83e7-9261e8cf3b82"
      },
      "outputs": [
        {
          "data": {
            "text/plain": [
              "(1987, 10)"
            ]
          },
          "execution_count": 3,
          "metadata": {},
          "output_type": "execute_result"
        }
      ],
      "source": [
        "df.shape"
      ]
    },
    {
      "cell_type": "code",
      "execution_count": null,
      "id": "69aefbfe",
      "metadata": {
        "id": "69aefbfe",
        "outputId": "f7fc489e-0004-43c0-ae40-a2aa8f1f86b5"
      },
      "outputs": [
        {
          "data": {
            "text/plain": [
              "Index(['Unnamed: 0', 'Age', 'Employment Type', 'GraduateOrNot', 'AnnualIncome',\n",
              "       'FamilyMembers', 'ChronicDiseases', 'FrequentFlyer',\n",
              "       'EverTravelledAbroad', 'TravelInsurance'],\n",
              "      dtype='object')"
            ]
          },
          "execution_count": 4,
          "metadata": {},
          "output_type": "execute_result"
        }
      ],
      "source": [
        "df.columns"
      ]
    },
    {
      "cell_type": "code",
      "execution_count": null,
      "id": "5d1484d1",
      "metadata": {
        "id": "5d1484d1",
        "outputId": "62583613-d53a-401f-f567-781104818503"
      },
      "outputs": [
        {
          "data": {
            "text/plain": [
              "Unnamed: 0              int64\n",
              "Age                     int64\n",
              "Employment Type        object\n",
              "GraduateOrNot          object\n",
              "AnnualIncome            int64\n",
              "FamilyMembers           int64\n",
              "ChronicDiseases         int64\n",
              "FrequentFlyer          object\n",
              "EverTravelledAbroad    object\n",
              "TravelInsurance         int64\n",
              "dtype: object"
            ]
          },
          "execution_count": 5,
          "metadata": {},
          "output_type": "execute_result"
        }
      ],
      "source": [
        "df.dtypes"
      ]
    },
    {
      "cell_type": "markdown",
      "id": "6e3a0a47",
      "metadata": {
        "id": "6e3a0a47"
      },
      "source": [
        "### to remove unnamed:0 column use index_col = 0 inside read_csv\n"
      ]
    },
    {
      "cell_type": "code",
      "execution_count": null,
      "id": "98c12263",
      "metadata": {
        "id": "98c12263"
      },
      "outputs": [],
      "source": [
        "file_path = \"/Users/swapnilsahebraowaghmare/Downloads/Mentormind_project/TravelInsurancePrediction.csv\"\n",
        "df = pd.read_csv(file_path,index_col = 0)"
      ]
    },
    {
      "cell_type": "code",
      "execution_count": null,
      "id": "069274a0",
      "metadata": {
        "id": "069274a0",
        "outputId": "8118c45e-68d0-4e9d-9ecb-a4f33e4022b3"
      },
      "outputs": [
        {
          "data": {
            "text/plain": [
              "(1987, 9)"
            ]
          },
          "execution_count": 7,
          "metadata": {},
          "output_type": "execute_result"
        }
      ],
      "source": [
        "df.shape"
      ]
    },
    {
      "cell_type": "code",
      "execution_count": null,
      "id": "c80bb998",
      "metadata": {
        "id": "c80bb998",
        "outputId": "044e7230-f8cf-4e6b-bf83-b69cbde8388c"
      },
      "outputs": [
        {
          "data": {
            "text/html": [
              "<div>\n",
              "<style scoped>\n",
              "    .dataframe tbody tr th:only-of-type {\n",
              "        vertical-align: middle;\n",
              "    }\n",
              "\n",
              "    .dataframe tbody tr th {\n",
              "        vertical-align: top;\n",
              "    }\n",
              "\n",
              "    .dataframe thead th {\n",
              "        text-align: right;\n",
              "    }\n",
              "</style>\n",
              "<table border=\"1\" class=\"dataframe\">\n",
              "  <thead>\n",
              "    <tr style=\"text-align: right;\">\n",
              "      <th></th>\n",
              "      <th>Age</th>\n",
              "      <th>Employment Type</th>\n",
              "      <th>GraduateOrNot</th>\n",
              "      <th>AnnualIncome</th>\n",
              "      <th>FamilyMembers</th>\n",
              "      <th>ChronicDiseases</th>\n",
              "      <th>FrequentFlyer</th>\n",
              "      <th>EverTravelledAbroad</th>\n",
              "      <th>TravelInsurance</th>\n",
              "    </tr>\n",
              "  </thead>\n",
              "  <tbody>\n",
              "    <tr>\n",
              "      <th>0</th>\n",
              "      <td>31</td>\n",
              "      <td>Government Sector</td>\n",
              "      <td>Yes</td>\n",
              "      <td>400000</td>\n",
              "      <td>6</td>\n",
              "      <td>1</td>\n",
              "      <td>No</td>\n",
              "      <td>No</td>\n",
              "      <td>0</td>\n",
              "    </tr>\n",
              "    <tr>\n",
              "      <th>1</th>\n",
              "      <td>31</td>\n",
              "      <td>Private Sector/Self Employed</td>\n",
              "      <td>Yes</td>\n",
              "      <td>1250000</td>\n",
              "      <td>7</td>\n",
              "      <td>0</td>\n",
              "      <td>No</td>\n",
              "      <td>No</td>\n",
              "      <td>0</td>\n",
              "    </tr>\n",
              "    <tr>\n",
              "      <th>2</th>\n",
              "      <td>34</td>\n",
              "      <td>Private Sector/Self Employed</td>\n",
              "      <td>Yes</td>\n",
              "      <td>500000</td>\n",
              "      <td>4</td>\n",
              "      <td>1</td>\n",
              "      <td>No</td>\n",
              "      <td>No</td>\n",
              "      <td>1</td>\n",
              "    </tr>\n",
              "    <tr>\n",
              "      <th>3</th>\n",
              "      <td>28</td>\n",
              "      <td>Private Sector/Self Employed</td>\n",
              "      <td>Yes</td>\n",
              "      <td>700000</td>\n",
              "      <td>3</td>\n",
              "      <td>1</td>\n",
              "      <td>No</td>\n",
              "      <td>No</td>\n",
              "      <td>0</td>\n",
              "    </tr>\n",
              "    <tr>\n",
              "      <th>4</th>\n",
              "      <td>28</td>\n",
              "      <td>Private Sector/Self Employed</td>\n",
              "      <td>Yes</td>\n",
              "      <td>700000</td>\n",
              "      <td>8</td>\n",
              "      <td>1</td>\n",
              "      <td>Yes</td>\n",
              "      <td>No</td>\n",
              "      <td>0</td>\n",
              "    </tr>\n",
              "  </tbody>\n",
              "</table>\n",
              "</div>"
            ],
            "text/plain": [
              "   Age               Employment Type GraduateOrNot  AnnualIncome  \\\n",
              "0   31             Government Sector           Yes        400000   \n",
              "1   31  Private Sector/Self Employed           Yes       1250000   \n",
              "2   34  Private Sector/Self Employed           Yes        500000   \n",
              "3   28  Private Sector/Self Employed           Yes        700000   \n",
              "4   28  Private Sector/Self Employed           Yes        700000   \n",
              "\n",
              "   FamilyMembers  ChronicDiseases FrequentFlyer EverTravelledAbroad  \\\n",
              "0              6                1            No                  No   \n",
              "1              7                0            No                  No   \n",
              "2              4                1            No                  No   \n",
              "3              3                1            No                  No   \n",
              "4              8                1           Yes                  No   \n",
              "\n",
              "   TravelInsurance  \n",
              "0                0  \n",
              "1                0  \n",
              "2                1  \n",
              "3                0  \n",
              "4                0  "
            ]
          },
          "execution_count": 8,
          "metadata": {},
          "output_type": "execute_result"
        }
      ],
      "source": [
        "df.head()"
      ]
    },
    {
      "cell_type": "code",
      "execution_count": null,
      "id": "7d8d2e85",
      "metadata": {
        "id": "7d8d2e85",
        "outputId": "bfb3558b-6faf-4527-99f7-58684ca6e033"
      },
      "outputs": [
        {
          "data": {
            "text/plain": [
              "Age                     int64\n",
              "Employment Type        object\n",
              "GraduateOrNot          object\n",
              "AnnualIncome            int64\n",
              "FamilyMembers           int64\n",
              "ChronicDiseases         int64\n",
              "FrequentFlyer          object\n",
              "EverTravelledAbroad    object\n",
              "TravelInsurance         int64\n",
              "dtype: object"
            ]
          },
          "execution_count": 9,
          "metadata": {},
          "output_type": "execute_result"
        }
      ],
      "source": [
        "df.dtypes"
      ]
    },
    {
      "cell_type": "code",
      "execution_count": null,
      "id": "06f686aa",
      "metadata": {
        "id": "06f686aa",
        "outputId": "9673921d-a038-41bf-a100-eb2d4df9e796"
      },
      "outputs": [
        {
          "data": {
            "text/html": [
              "<div>\n",
              "<style scoped>\n",
              "    .dataframe tbody tr th:only-of-type {\n",
              "        vertical-align: middle;\n",
              "    }\n",
              "\n",
              "    .dataframe tbody tr th {\n",
              "        vertical-align: top;\n",
              "    }\n",
              "\n",
              "    .dataframe thead th {\n",
              "        text-align: right;\n",
              "    }\n",
              "</style>\n",
              "<table border=\"1\" class=\"dataframe\">\n",
              "  <thead>\n",
              "    <tr style=\"text-align: right;\">\n",
              "      <th></th>\n",
              "      <th>Age</th>\n",
              "      <th>AnnualIncome</th>\n",
              "      <th>FamilyMembers</th>\n",
              "      <th>ChronicDiseases</th>\n",
              "      <th>TravelInsurance</th>\n",
              "    </tr>\n",
              "  </thead>\n",
              "  <tbody>\n",
              "    <tr>\n",
              "      <th>count</th>\n",
              "      <td>1987.000000</td>\n",
              "      <td>1.987000e+03</td>\n",
              "      <td>1987.000000</td>\n",
              "      <td>1987.000000</td>\n",
              "      <td>1987.000000</td>\n",
              "    </tr>\n",
              "    <tr>\n",
              "      <th>mean</th>\n",
              "      <td>29.650226</td>\n",
              "      <td>9.327630e+05</td>\n",
              "      <td>4.752894</td>\n",
              "      <td>0.277806</td>\n",
              "      <td>0.357323</td>\n",
              "    </tr>\n",
              "    <tr>\n",
              "      <th>std</th>\n",
              "      <td>2.913308</td>\n",
              "      <td>3.768557e+05</td>\n",
              "      <td>1.609650</td>\n",
              "      <td>0.448030</td>\n",
              "      <td>0.479332</td>\n",
              "    </tr>\n",
              "    <tr>\n",
              "      <th>min</th>\n",
              "      <td>25.000000</td>\n",
              "      <td>3.000000e+05</td>\n",
              "      <td>2.000000</td>\n",
              "      <td>0.000000</td>\n",
              "      <td>0.000000</td>\n",
              "    </tr>\n",
              "    <tr>\n",
              "      <th>25%</th>\n",
              "      <td>28.000000</td>\n",
              "      <td>6.000000e+05</td>\n",
              "      <td>4.000000</td>\n",
              "      <td>0.000000</td>\n",
              "      <td>0.000000</td>\n",
              "    </tr>\n",
              "    <tr>\n",
              "      <th>50%</th>\n",
              "      <td>29.000000</td>\n",
              "      <td>9.000000e+05</td>\n",
              "      <td>5.000000</td>\n",
              "      <td>0.000000</td>\n",
              "      <td>0.000000</td>\n",
              "    </tr>\n",
              "    <tr>\n",
              "      <th>75%</th>\n",
              "      <td>32.000000</td>\n",
              "      <td>1.250000e+06</td>\n",
              "      <td>6.000000</td>\n",
              "      <td>1.000000</td>\n",
              "      <td>1.000000</td>\n",
              "    </tr>\n",
              "    <tr>\n",
              "      <th>max</th>\n",
              "      <td>35.000000</td>\n",
              "      <td>1.800000e+06</td>\n",
              "      <td>9.000000</td>\n",
              "      <td>1.000000</td>\n",
              "      <td>1.000000</td>\n",
              "    </tr>\n",
              "  </tbody>\n",
              "</table>\n",
              "</div>"
            ],
            "text/plain": [
              "               Age  AnnualIncome  FamilyMembers  ChronicDiseases  \\\n",
              "count  1987.000000  1.987000e+03    1987.000000      1987.000000   \n",
              "mean     29.650226  9.327630e+05       4.752894         0.277806   \n",
              "std       2.913308  3.768557e+05       1.609650         0.448030   \n",
              "min      25.000000  3.000000e+05       2.000000         0.000000   \n",
              "25%      28.000000  6.000000e+05       4.000000         0.000000   \n",
              "50%      29.000000  9.000000e+05       5.000000         0.000000   \n",
              "75%      32.000000  1.250000e+06       6.000000         1.000000   \n",
              "max      35.000000  1.800000e+06       9.000000         1.000000   \n",
              "\n",
              "       TravelInsurance  \n",
              "count      1987.000000  \n",
              "mean          0.357323  \n",
              "std           0.479332  \n",
              "min           0.000000  \n",
              "25%           0.000000  \n",
              "50%           0.000000  \n",
              "75%           1.000000  \n",
              "max           1.000000  "
            ]
          },
          "execution_count": 10,
          "metadata": {},
          "output_type": "execute_result"
        }
      ],
      "source": [
        "df.describe()"
      ]
    },
    {
      "cell_type": "markdown",
      "id": "0cb108f7",
      "metadata": {
        "id": "0cb108f7"
      },
      "source": [
        "### checking if any column has na values\n"
      ]
    },
    {
      "cell_type": "code",
      "execution_count": null,
      "id": "a64e101b",
      "metadata": {
        "id": "a64e101b",
        "outputId": "e6c68b14-b647-4a54-da07-69fb03e95f31"
      },
      "outputs": [
        {
          "data": {
            "text/plain": [
              "Age                    0\n",
              "Employment Type        0\n",
              "GraduateOrNot          0\n",
              "AnnualIncome           0\n",
              "FamilyMembers          0\n",
              "ChronicDiseases        0\n",
              "FrequentFlyer          0\n",
              "EverTravelledAbroad    0\n",
              "TravelInsurance        0\n",
              "dtype: int64"
            ]
          },
          "execution_count": 11,
          "metadata": {},
          "output_type": "execute_result"
        }
      ],
      "source": [
        "df.isna().sum()"
      ]
    },
    {
      "cell_type": "markdown",
      "id": "b36588f4",
      "metadata": {
        "id": "b36588f4"
      },
      "source": [
        "### checking if any column has only one type of data i.e. only one unique value.\n"
      ]
    },
    {
      "cell_type": "code",
      "execution_count": null,
      "id": "fbeb7f25",
      "metadata": {
        "id": "fbeb7f25",
        "outputId": "adc7b036-52ce-419a-87f8-06d506443996"
      },
      "outputs": [
        {
          "data": {
            "text/plain": [
              "Age                    11\n",
              "Employment Type         2\n",
              "GraduateOrNot           2\n",
              "AnnualIncome           30\n",
              "FamilyMembers           8\n",
              "ChronicDiseases         2\n",
              "FrequentFlyer           2\n",
              "EverTravelledAbroad     2\n",
              "TravelInsurance         2\n",
              "dtype: int64"
            ]
          },
          "execution_count": 12,
          "metadata": {},
          "output_type": "execute_result"
        }
      ],
      "source": [
        "df.nunique()"
      ]
    },
    {
      "cell_type": "markdown",
      "id": "372524d7",
      "metadata": {
        "id": "372524d7"
      },
      "source": [
        "### Observations:\n",
        "- In this dataset no column has na values\n",
        "- Also no column has only one unique value. So no need to drop any column."
      ]
    },
    {
      "cell_type": "code",
      "execution_count": null,
      "id": "86e032e4",
      "metadata": {
        "id": "86e032e4"
      },
      "outputs": [],
      "source": []
    },
    {
      "cell_type": "markdown",
      "id": "2baa3bd7",
      "metadata": {
        "id": "2baa3bd7"
      },
      "source": [
        "### Total columns = 9\n",
        "- 6 categorical columns\n",
        "    - Employment Type, GraduateOrNot, ChronicDiseases, FrequentFlyer, EverTravelledAbroad, TravelInsurance.\n",
        "- 3 continuous columns\n",
        "    - Age, AnnualIncome, FamilyMembers."
      ]
    },
    {
      "cell_type": "code",
      "execution_count": null,
      "id": "b1fef051",
      "metadata": {
        "id": "b1fef051"
      },
      "outputs": [],
      "source": [
        "numeric_columns = ['Age','AnnualIncome','FamilyMembers']"
      ]
    },
    {
      "cell_type": "code",
      "execution_count": null,
      "id": "6d2577a6",
      "metadata": {
        "id": "6d2577a6",
        "outputId": "3486e583-b777-41bd-f8a4-2c14d0e97e58"
      },
      "outputs": [
        {
          "data": {
            "text/plain": [
              "(array([146., 148., 131., 506., 192.,  65., 234.,  91., 148., 326.]),\n",
              " array([25., 26., 27., 28., 29., 30., 31., 32., 33., 34., 35.]),\n",
              " <BarContainer object of 10 artists>)"
            ]
          },
          "execution_count": 14,
          "metadata": {},
          "output_type": "execute_result"
        },
        {
          "data": {
            "image/png": "[encoded data removed]",
            "text/plain": [
              "<Figure size 640x480 with 1 Axes>"
            ]
          },
          "metadata": {},
          "output_type": "display_data"
        }
      ],
      "source": [
        "plt.hist(df['Age'],facecolor='grey',edgecolor='black')"
      ]
    },
    {
      "cell_type": "code",
      "execution_count": null,
      "id": "71a2c7c3",
      "metadata": {
        "id": "71a2c7c3",
        "outputId": "dd7ba3df-9e56-4019-f9ff-bd49892e1a28"
      },
      "outputs": [
        {
          "data": {
            "text/plain": [
              "(148, 9)"
            ]
          },
          "execution_count": 15,
          "metadata": {},
          "output_type": "execute_result"
        }
      ],
      "source": [
        "df[df['Age']==26].shape"
      ]
    },
    {
      "cell_type": "code",
      "execution_count": null,
      "id": "c0cda3a2",
      "metadata": {
        "id": "c0cda3a2",
        "outputId": "9e5f1f79-5b57-47e0-986e-78fc61f9b7b2"
      },
      "outputs": [
        {
          "data": {
            "text/plain": [
              "{'whiskers': [<matplotlib.lines.Line2D at 0x1254840d0>,\n",
              "  <matplotlib.lines.Line2D at 0x125484c90>],\n",
              " 'caps': [<matplotlib.lines.Line2D at 0x125485190>,\n",
              "  <matplotlib.lines.Line2D at 0x125486290>],\n",
              " 'boxes': [<matplotlib.lines.Line2D at 0x125473410>],\n",
              " 'medians': [<matplotlib.lines.Line2D at 0x125486c10>],\n",
              " 'fliers': [<matplotlib.lines.Line2D at 0x125487490>],\n",
              " 'means': []}"
            ]
          },
          "execution_count": 16,
          "metadata": {},
          "output_type": "execute_result"
        },
        {
          "data": {
            "image/png": "[encoded data removed]",
            "text/plain": [
              "<Figure size 640x480 with 1 Axes>"
            ]
          },
          "metadata": {},
          "output_type": "display_data"
        }
      ],
      "source": [
        "plt.boxplot(df['Age'])"
      ]
    },
    {
      "cell_type": "code",
      "execution_count": null,
      "id": "f45974f6",
      "metadata": {
        "id": "f45974f6",
        "outputId": "9555ca8c-2b6d-4ab2-f992-c3007d827402"
      },
      "outputs": [
        {
          "data": {
            "text/plain": [
              "(array([143.,  80., 224., 128., 160., 208.,  93., 142., 186., 183., 134.,\n",
              "        161.,  87.,   2.,  56.]),\n",
              " array([ 300000.,  400000.,  500000.,  600000.,  700000.,  800000.,\n",
              "         900000., 1000000., 1100000., 1200000., 1300000., 1400000.,\n",
              "        1500000., 1600000., 1700000., 1800000.]),\n",
              " <BarContainer object of 15 artists>)"
            ]
          },
          "execution_count": 17,
          "metadata": {},
          "output_type": "execute_result"
        },
        {
          "data": {
            "image/png": "[encoded data removed]",
            "text/plain": [
              "<Figure size 640x480 with 1 Axes>"
            ]
          },
          "metadata": {},
          "output_type": "display_data"
        }
      ],
      "source": [
        "plt.hist(df['AnnualIncome'],facecolor='grey',edgecolor='black',bins = 15)"
      ]
    },
    {
      "cell_type": "code",
      "execution_count": null,
      "id": "91588dc2",
      "metadata": {
        "id": "91588dc2",
        "outputId": "e7e0af47-1369-44c6-ac66-19b0ea248a15"
      },
      "outputs": [
        {
          "data": {
            "text/plain": [
              "{'whiskers': [<matplotlib.lines.Line2D at 0x125565a50>,\n",
              "  <matplotlib.lines.Line2D at 0x125566550>],\n",
              " 'caps': [<matplotlib.lines.Line2D at 0x125566c90>,\n",
              "  <matplotlib.lines.Line2D at 0x125567750>],\n",
              " 'boxes': [<matplotlib.lines.Line2D at 0x12553f190>],\n",
              " 'medians': [<matplotlib.lines.Line2D at 0x125580350>],\n",
              " 'fliers': [<matplotlib.lines.Line2D at 0x125530d90>],\n",
              " 'means': []}"
            ]
          },
          "execution_count": 18,
          "metadata": {},
          "output_type": "execute_result"
        },
        {
          "data": {
            "image/png": "[encoded data removed]",
            "text/plain": [
              "<Figure size 640x480 with 1 Axes>"
            ]
          },
          "metadata": {},
          "output_type": "display_data"
        }
      ],
      "source": [
        "plt.boxplot(df['AnnualIncome'])"
      ]
    },
    {
      "cell_type": "code",
      "execution_count": null,
      "id": "7f32a076",
      "metadata": {
        "id": "7f32a076",
        "outputId": "8c609449-8160-49ed-9d15-8acd62c87a72"
      },
      "outputs": [
        {
          "data": {
            "text/plain": [
              "(array([ 93., 377., 505., 426., 294., 178., 114.]),\n",
              " array([2., 3., 4., 5., 6., 7., 8., 9.]),\n",
              " <BarContainer object of 7 artists>)"
            ]
          },
          "execution_count": 19,
          "metadata": {},
          "output_type": "execute_result"
        },
        {
          "data": {
            "image/png": "[encoded data removed]",
            "text/plain": [
              "<Figure size 640x480 with 1 Axes>"
            ]
          },
          "metadata": {},
          "output_type": "display_data"
        }
      ],
      "source": [
        "plt.hist(df['FamilyMembers'],facecolor='grey',edgecolor='black',bins = 7)"
      ]
    },
    {
      "cell_type": "code",
      "execution_count": null,
      "id": "be072b3e",
      "metadata": {
        "id": "be072b3e",
        "outputId": "35ad2ddd-66c2-47bb-b5fc-8523ec0fba15"
      },
      "outputs": [
        {
          "data": {
            "text/plain": [
              "{'whiskers': [<matplotlib.lines.Line2D at 0x12565ec90>,\n",
              "  <matplotlib.lines.Line2D at 0x12565f890>],\n",
              " 'caps': [<matplotlib.lines.Line2D at 0x125670510>,\n",
              "  <matplotlib.lines.Line2D at 0x125670fd0>],\n",
              " 'boxes': [<matplotlib.lines.Line2D at 0x12565e0d0>],\n",
              " 'medians': [<matplotlib.lines.Line2D at 0x125671ad0>],\n",
              " 'fliers': [<matplotlib.lines.Line2D at 0x12550dd50>],\n",
              " 'means': []}"
            ]
          },
          "execution_count": 20,
          "metadata": {},
          "output_type": "execute_result"
        },
        {
          "data": {
            "image/png": "[encoded data removed]",
            "text/plain": [
              "<Figure size 640x480 with 1 Axes>"
            ]
          },
          "metadata": {},
          "output_type": "display_data"
        }
      ],
      "source": [
        "plt.boxplot(df['FamilyMembers'])"
      ]
    },
    {
      "cell_type": "markdown",
      "id": "c3f789f5",
      "metadata": {
        "id": "c3f789f5"
      },
      "source": [
        "### Observations:\n",
        "- No outliers in Age, AnnualIncome, FamilyMembers columns."
      ]
    },
    {
      "cell_type": "code",
      "execution_count": null,
      "id": "65652422",
      "metadata": {
        "id": "65652422"
      },
      "outputs": [],
      "source": [
        "# def impute_IQR(df, col):\n",
        "#     q1,q3 = df[col].quantile([0.25, 0.75])\n",
        "#     iqr = q3-q1\n",
        "#     min_val_val = q1 - 1.5 * iqr\n",
        "#     max_val_val = q3 + 1.5 * iqr\n",
        "#     df.loc[df[col] < min_val_val , col] = min_val_val\n",
        "#     df.loc[df[col] > max_val_val , col] = max_val_val\n",
        "#     return df"
      ]
    },
    {
      "cell_type": "code",
      "execution_count": null,
      "id": "9c697551",
      "metadata": {
        "id": "9c697551"
      },
      "outputs": [],
      "source": [
        "# for col in numeric_columns:\n",
        "#     df = impute_IQR(df,col)"
      ]
    },
    {
      "cell_type": "code",
      "execution_count": null,
      "id": "d93151da",
      "metadata": {
        "id": "d93151da"
      },
      "outputs": [],
      "source": []
    },
    {
      "cell_type": "markdown",
      "id": "0c4415fd",
      "metadata": {
        "id": "0c4415fd"
      },
      "source": [
        "## calculate correlation matrix\n"
      ]
    },
    {
      "cell_type": "code",
      "execution_count": null,
      "id": "da21bbcb",
      "metadata": {
        "id": "da21bbcb",
        "outputId": "261491d5-375e-4e10-c118-d278676cef86"
      },
      "outputs": [
        {
          "name": "stderr",
          "output_type": "stream",
          "text": [
            "/var/folders/zv/jmryq7bx7fn1rxzkkmwnf87h0000gn/T/ipykernel_16122/1063527439.py:1: FutureWarning: The default value of numeric_only in DataFrame.corr is deprecated. In a future version, it will default to False. Select only valid columns or specify the value of numeric_only to silence this warning.\n",
            "  corr = df.corr()# plot the heatmap\n"
          ]
        },
        {
          "data": {
            "text/plain": [
              "<Axes: >"
            ]
          },
          "execution_count": 23,
          "metadata": {},
          "output_type": "execute_result"
        },
        {
          "data": {
            "image/png": "[encoded data removed]",
            "text/plain": [
              "<Figure size 700x400 with 2 Axes>"
            ]
          },
          "metadata": {},
          "output_type": "display_data"
        }
      ],
      "source": [
        "corr = df.corr()# plot the heatmap\n",
        "plt.subplots(figsize=(7,4))\n",
        "sns.heatmap(corr, xticklabels=corr.columns, yticklabels=corr.columns, annot=True, cmap=sns.diverging_palette(220, 20, as_cmap=True))\n"
      ]
    },
    {
      "cell_type": "markdown",
      "id": "2319d41d",
      "metadata": {
        "id": "2319d41d"
      },
      "source": [
        "### Observations:\n",
        "- columns are not that significantly correlated to eachother.\n",
        "- so no need to drop any column"
      ]
    },
    {
      "cell_type": "markdown",
      "id": "a677cd32",
      "metadata": {
        "id": "a677cd32"
      },
      "source": [
        "## Split dataset into x and y\n",
        "- Target variable y is TravelInsurance\n",
        "- Except TravelInsurance column all remaining are independent features"
      ]
    },
    {
      "cell_type": "code",
      "execution_count": null,
      "id": "843abe0f",
      "metadata": {
        "id": "843abe0f"
      },
      "outputs": [],
      "source": [
        "x = df.drop('TravelInsurance',axis = 1)\n",
        "y = df['TravelInsurance']"
      ]
    },
    {
      "cell_type": "code",
      "execution_count": null,
      "id": "ca22ffad",
      "metadata": {
        "id": "ca22ffad",
        "outputId": "baed4d4a-9fc2-4c8e-b1ae-19c777f245e6"
      },
      "outputs": [
        {
          "data": {
            "text/plain": [
              "((1987, 8), (1987,))"
            ]
          },
          "execution_count": 25,
          "metadata": {},
          "output_type": "execute_result"
        }
      ],
      "source": [
        "x.shape,y.shape"
      ]
    },
    {
      "cell_type": "code",
      "execution_count": null,
      "id": "086b25e0",
      "metadata": {
        "id": "086b25e0",
        "outputId": "7f616777-b5d3-4da2-cba3-a029f69d4625"
      },
      "outputs": [
        {
          "data": {
            "text/html": [
              "<div>\n",
              "<style scoped>\n",
              "    .dataframe tbody tr th:only-of-type {\n",
              "        vertical-align: middle;\n",
              "    }\n",
              "\n",
              "    .dataframe tbody tr th {\n",
              "        vertical-align: top;\n",
              "    }\n",
              "\n",
              "    .dataframe thead th {\n",
              "        text-align: right;\n",
              "    }\n",
              "</style>\n",
              "<table border=\"1\" class=\"dataframe\">\n",
              "  <thead>\n",
              "    <tr style=\"text-align: right;\">\n",
              "      <th></th>\n",
              "      <th>Age</th>\n",
              "      <th>Employment Type</th>\n",
              "      <th>GraduateOrNot</th>\n",
              "      <th>AnnualIncome</th>\n",
              "      <th>FamilyMembers</th>\n",
              "      <th>ChronicDiseases</th>\n",
              "      <th>FrequentFlyer</th>\n",
              "      <th>EverTravelledAbroad</th>\n",
              "    </tr>\n",
              "  </thead>\n",
              "  <tbody>\n",
              "    <tr>\n",
              "      <th>0</th>\n",
              "      <td>31</td>\n",
              "      <td>Government Sector</td>\n",
              "      <td>Yes</td>\n",
              "      <td>400000</td>\n",
              "      <td>6</td>\n",
              "      <td>1</td>\n",
              "      <td>No</td>\n",
              "      <td>No</td>\n",
              "    </tr>\n",
              "    <tr>\n",
              "      <th>1</th>\n",
              "      <td>31</td>\n",
              "      <td>Private Sector/Self Employed</td>\n",
              "      <td>Yes</td>\n",
              "      <td>1250000</td>\n",
              "      <td>7</td>\n",
              "      <td>0</td>\n",
              "      <td>No</td>\n",
              "      <td>No</td>\n",
              "    </tr>\n",
              "    <tr>\n",
              "      <th>2</th>\n",
              "      <td>34</td>\n",
              "      <td>Private Sector/Self Employed</td>\n",
              "      <td>Yes</td>\n",
              "      <td>500000</td>\n",
              "      <td>4</td>\n",
              "      <td>1</td>\n",
              "      <td>No</td>\n",
              "      <td>No</td>\n",
              "    </tr>\n",
              "    <tr>\n",
              "      <th>3</th>\n",
              "      <td>28</td>\n",
              "      <td>Private Sector/Self Employed</td>\n",
              "      <td>Yes</td>\n",
              "      <td>700000</td>\n",
              "      <td>3</td>\n",
              "      <td>1</td>\n",
              "      <td>No</td>\n",
              "      <td>No</td>\n",
              "    </tr>\n",
              "    <tr>\n",
              "      <th>4</th>\n",
              "      <td>28</td>\n",
              "      <td>Private Sector/Self Employed</td>\n",
              "      <td>Yes</td>\n",
              "      <td>700000</td>\n",
              "      <td>8</td>\n",
              "      <td>1</td>\n",
              "      <td>Yes</td>\n",
              "      <td>No</td>\n",
              "    </tr>\n",
              "  </tbody>\n",
              "</table>\n",
              "</div>"
            ],
            "text/plain": [
              "   Age               Employment Type GraduateOrNot  AnnualIncome  \\\n",
              "0   31             Government Sector           Yes        400000   \n",
              "1   31  Private Sector/Self Employed           Yes       1250000   \n",
              "2   34  Private Sector/Self Employed           Yes        500000   \n",
              "3   28  Private Sector/Self Employed           Yes        700000   \n",
              "4   28  Private Sector/Self Employed           Yes        700000   \n",
              "\n",
              "   FamilyMembers  ChronicDiseases FrequentFlyer EverTravelledAbroad  \n",
              "0              6                1            No                  No  \n",
              "1              7                0            No                  No  \n",
              "2              4                1            No                  No  \n",
              "3              3                1            No                  No  \n",
              "4              8                1           Yes                  No  "
            ]
          },
          "execution_count": 26,
          "metadata": {},
          "output_type": "execute_result"
        }
      ],
      "source": [
        "x.head()"
      ]
    },
    {
      "cell_type": "code",
      "execution_count": null,
      "id": "8e82b092",
      "metadata": {
        "id": "8e82b092",
        "outputId": "09242580-a813-48fa-b2bd-6aae90bb34b9"
      },
      "outputs": [
        {
          "data": {
            "text/plain": [
              "0    0\n",
              "1    0\n",
              "2    1\n",
              "3    0\n",
              "4    0\n",
              "Name: TravelInsurance, dtype: int64"
            ]
          },
          "execution_count": 27,
          "metadata": {},
          "output_type": "execute_result"
        }
      ],
      "source": [
        "y.head()"
      ]
    },
    {
      "cell_type": "code",
      "execution_count": null,
      "id": "dc2a5ced",
      "metadata": {
        "id": "dc2a5ced",
        "outputId": "aad585e0-1fc2-4cd2-f550-a40baa18051e"
      },
      "outputs": [
        {
          "data": {
            "text/plain": [
              "Age                     int64\n",
              "Employment Type        object\n",
              "GraduateOrNot          object\n",
              "AnnualIncome            int64\n",
              "FamilyMembers           int64\n",
              "ChronicDiseases         int64\n",
              "FrequentFlyer          object\n",
              "EverTravelledAbroad    object\n",
              "dtype: object"
            ]
          },
          "execution_count": 28,
          "metadata": {},
          "output_type": "execute_result"
        }
      ],
      "source": [
        "x.dtypes"
      ]
    },
    {
      "cell_type": "markdown",
      "id": "8e69b437",
      "metadata": {
        "id": "8e69b437"
      },
      "source": [
        "### Standardizing the x (only the continuous columns)"
      ]
    },
    {
      "cell_type": "code",
      "execution_count": null,
      "id": "63224a81",
      "metadata": {
        "id": "63224a81",
        "outputId": "b2758ea4-5c2e-41d8-e758-c8e5f4bebea0"
      },
      "outputs": [
        {
          "data": {
            "text/html": [
              "<style>#sk-container-id-1 {color: black;}#sk-container-id-1 pre{padding: 0;}#sk-container-id-1 div.sk-toggleable {background-color: white;}#sk-container-id-1 label.sk-toggleable__label {cursor: pointer;display: block;width: 100%;margin-bottom: 0;padding: 0.3em;box-sizing: border-box;text-align: center;}#sk-container-id-1 label.sk-toggleable__label-arrow:before {content: \"▸\";float: left;margin-right: 0.25em;color: #696969;}#sk-container-id-1 label.sk-toggleable__label-arrow:hover:before {color: black;}#sk-container-id-1 div.sk-estimator:hover label.sk-toggleable__label-arrow:before {color: black;}#sk-container-id-1 div.sk-toggleable__content {max-height: 0;max-width: 0;overflow: hidden;text-align: left;background-color: #f0f8ff;}#sk-container-id-1 div.sk-toggleable__content pre {margin: 0.2em;color: black;border-radius: 0.25em;background-color: #f0f8ff;}#sk-container-id-1 input.sk-toggleable__control:checked~div.sk-toggleable__content {max-height: 200px;max-width: 100%;overflow: auto;}#sk-container-id-1 input.sk-toggleable__control:checked~label.sk-toggleable__label-arrow:before {content: \"▾\";}#sk-container-id-1 div.sk-estimator input.sk-toggleable__control:checked~label.sk-toggleable__label {background-color: #d4ebff;}#sk-container-id-1 div.sk-label input.sk-toggleable__control:checked~label.sk-toggleable__label {background-color: #d4ebff;}#sk-container-id-1 input.sk-hidden--visually {border: 0;clip: rect(1px 1px 1px 1px);clip: rect(1px, 1px, 1px, 1px);height: 1px;margin: -1px;overflow: hidden;padding: 0;position: absolute;width: 1px;}#sk-container-id-1 div.sk-estimator {font-family: monospace;background-color: #f0f8ff;border: 1px dotted black;border-radius: 0.25em;box-sizing: border-box;margin-bottom: 0.5em;}#sk-container-id-1 div.sk-estimator:hover {background-color: #d4ebff;}#sk-container-id-1 div.sk-parallel-item::after {content: \"\";width: 100%;border-bottom: 1px solid gray;flex-grow: 1;}#sk-container-id-1 div.sk-label:hover label.sk-toggleable__label {background-color: #d4ebff;}#sk-container-id-1 div.sk-serial::before {content: \"\";position: absolute;border-left: 1px solid gray;box-sizing: border-box;top: 0;bottom: 0;left: 50%;z-index: 0;}#sk-container-id-1 div.sk-serial {display: flex;flex-direction: column;align-items: center;background-color: white;padding-right: 0.2em;padding-left: 0.2em;position: relative;}#sk-container-id-1 div.sk-item {position: relative;z-index: 1;}#sk-container-id-1 div.sk-parallel {display: flex;align-items: stretch;justify-content: center;background-color: white;position: relative;}#sk-container-id-1 div.sk-item::before, #sk-container-id-1 div.sk-parallel-item::before {content: \"\";position: absolute;border-left: 1px solid gray;box-sizing: border-box;top: 0;bottom: 0;left: 50%;z-index: -1;}#sk-container-id-1 div.sk-parallel-item {display: flex;flex-direction: column;z-index: 1;position: relative;background-color: white;}#sk-container-id-1 div.sk-parallel-item:first-child::after {align-self: flex-end;width: 50%;}#sk-container-id-1 div.sk-parallel-item:last-child::after {align-self: flex-start;width: 50%;}#sk-container-id-1 div.sk-parallel-item:only-child::after {width: 0;}#sk-container-id-1 div.sk-dashed-wrapped {border: 1px dashed gray;margin: 0 0.4em 0.5em 0.4em;box-sizing: border-box;padding-bottom: 0.4em;background-color: white;}#sk-container-id-1 div.sk-label label {font-family: monospace;font-weight: bold;display: inline-block;line-height: 1.2em;}#sk-container-id-1 div.sk-label-container {text-align: center;}#sk-container-id-1 div.sk-container {/* jupyter's `normalize.less` sets `[hidden] { display: none; }` but bootstrap.min.css set `[hidden] { display: none !important; }` so we also need the `!important` here to be able to override the default hidden behavior on the sphinx rendered scikit-learn.org. See: https://github.com/scikit-learn/scikit-learn/issues/21755 */display: inline-block !important;position: relative;}#sk-container-id-1 div.sk-text-repr-fallback {display: none;}</style><div id=\"sk-container-id-1\" class=\"sk-top-container\"><div class=\"sk-text-repr-fallback\"><pre>StandardScaler()</pre><b>In a Jupyter environment, please rerun this cell to show the HTML representation or trust the notebook. <br />On GitHub, the HTML representation is unable to render, please try loading this page with nbviewer.org.</b></div><div class=\"sk-container\" hidden><div class=\"sk-item\"><div class=\"sk-estimator sk-toggleable\"><input class=\"sk-toggleable__control sk-hidden--visually\" id=\"sk-estimator-id-1\" type=\"checkbox\" checked><label for=\"sk-estimator-id-1\" class=\"sk-toggleable__label sk-toggleable__label-arrow\">StandardScaler</label><div class=\"sk-toggleable__content\"><pre>StandardScaler()</pre></div></div></div></div></div>"
            ],
            "text/plain": [
              "StandardScaler()"
            ]
          },
          "execution_count": 29,
          "metadata": {},
          "output_type": "execute_result"
        }
      ],
      "source": [
        "from sklearn.preprocessing import StandardScaler\n",
        "std=StandardScaler()\n",
        "std.fit(x[numeric_columns])"
      ]
    },
    {
      "cell_type": "code",
      "execution_count": null,
      "id": "087f9b56",
      "metadata": {
        "id": "087f9b56"
      },
      "outputs": [],
      "source": [
        "x[numeric_columns]=std.transform(x[numeric_columns])"
      ]
    },
    {
      "cell_type": "code",
      "execution_count": null,
      "id": "09f8a249",
      "metadata": {
        "id": "09f8a249",
        "outputId": "7048cd7a-5b5a-4ab7-d8a7-f1a570c36ddb"
      },
      "outputs": [
        {
          "data": {
            "text/html": [
              "<div>\n",
              "<style scoped>\n",
              "    .dataframe tbody tr th:only-of-type {\n",
              "        vertical-align: middle;\n",
              "    }\n",
              "\n",
              "    .dataframe tbody tr th {\n",
              "        vertical-align: top;\n",
              "    }\n",
              "\n",
              "    .dataframe thead th {\n",
              "        text-align: right;\n",
              "    }\n",
              "</style>\n",
              "<table border=\"1\" class=\"dataframe\">\n",
              "  <thead>\n",
              "    <tr style=\"text-align: right;\">\n",
              "      <th></th>\n",
              "      <th>Age</th>\n",
              "      <th>Employment Type</th>\n",
              "      <th>GraduateOrNot</th>\n",
              "      <th>AnnualIncome</th>\n",
              "      <th>FamilyMembers</th>\n",
              "      <th>ChronicDiseases</th>\n",
              "      <th>FrequentFlyer</th>\n",
              "      <th>EverTravelledAbroad</th>\n",
              "    </tr>\n",
              "  </thead>\n",
              "  <tbody>\n",
              "    <tr>\n",
              "      <th>0</th>\n",
              "      <td>0.463430</td>\n",
              "      <td>Government Sector</td>\n",
              "      <td>Yes</td>\n",
              "      <td>-1.414061</td>\n",
              "      <td>0.774964</td>\n",
              "      <td>1</td>\n",
              "      <td>No</td>\n",
              "      <td>No</td>\n",
              "    </tr>\n",
              "    <tr>\n",
              "      <th>1</th>\n",
              "      <td>0.463430</td>\n",
              "      <td>Private Sector/Self Employed</td>\n",
              "      <td>Yes</td>\n",
              "      <td>0.842012</td>\n",
              "      <td>1.396373</td>\n",
              "      <td>0</td>\n",
              "      <td>No</td>\n",
              "      <td>No</td>\n",
              "    </tr>\n",
              "    <tr>\n",
              "      <th>2</th>\n",
              "      <td>1.493446</td>\n",
              "      <td>Private Sector/Self Employed</td>\n",
              "      <td>Yes</td>\n",
              "      <td>-1.148641</td>\n",
              "      <td>-0.467855</td>\n",
              "      <td>1</td>\n",
              "      <td>No</td>\n",
              "      <td>No</td>\n",
              "    </tr>\n",
              "    <tr>\n",
              "      <th>3</th>\n",
              "      <td>-0.566587</td>\n",
              "      <td>Private Sector/Self Employed</td>\n",
              "      <td>Yes</td>\n",
              "      <td>-0.617800</td>\n",
              "      <td>-1.089265</td>\n",
              "      <td>1</td>\n",
              "      <td>No</td>\n",
              "      <td>No</td>\n",
              "    </tr>\n",
              "    <tr>\n",
              "      <th>4</th>\n",
              "      <td>-0.566587</td>\n",
              "      <td>Private Sector/Self Employed</td>\n",
              "      <td>Yes</td>\n",
              "      <td>-0.617800</td>\n",
              "      <td>2.017783</td>\n",
              "      <td>1</td>\n",
              "      <td>Yes</td>\n",
              "      <td>No</td>\n",
              "    </tr>\n",
              "  </tbody>\n",
              "</table>\n",
              "</div>"
            ],
            "text/plain": [
              "        Age               Employment Type GraduateOrNot  AnnualIncome  \\\n",
              "0  0.463430             Government Sector           Yes     -1.414061   \n",
              "1  0.463430  Private Sector/Self Employed           Yes      0.842012   \n",
              "2  1.493446  Private Sector/Self Employed           Yes     -1.148641   \n",
              "3 -0.566587  Private Sector/Self Employed           Yes     -0.617800   \n",
              "4 -0.566587  Private Sector/Self Employed           Yes     -0.617800   \n",
              "\n",
              "   FamilyMembers  ChronicDiseases FrequentFlyer EverTravelledAbroad  \n",
              "0       0.774964                1            No                  No  \n",
              "1       1.396373                0            No                  No  \n",
              "2      -0.467855                1            No                  No  \n",
              "3      -1.089265                1            No                  No  \n",
              "4       2.017783                1           Yes                  No  "
            ]
          },
          "execution_count": 31,
          "metadata": {},
          "output_type": "execute_result"
        }
      ],
      "source": [
        "x.head()"
      ]
    },
    {
      "cell_type": "code",
      "execution_count": null,
      "id": "07e8b675",
      "metadata": {
        "id": "07e8b675",
        "outputId": "72e86ae6-8667-4985-cfd7-ba628b809316"
      },
      "outputs": [
        {
          "data": {
            "text/html": [
              "<div>\n",
              "<style scoped>\n",
              "    .dataframe tbody tr th:only-of-type {\n",
              "        vertical-align: middle;\n",
              "    }\n",
              "\n",
              "    .dataframe tbody tr th {\n",
              "        vertical-align: top;\n",
              "    }\n",
              "\n",
              "    .dataframe thead th {\n",
              "        text-align: right;\n",
              "    }\n",
              "</style>\n",
              "<table border=\"1\" class=\"dataframe\">\n",
              "  <thead>\n",
              "    <tr style=\"text-align: right;\">\n",
              "      <th></th>\n",
              "      <th>Age</th>\n",
              "      <th>AnnualIncome</th>\n",
              "      <th>FamilyMembers</th>\n",
              "      <th>ChronicDiseases</th>\n",
              "    </tr>\n",
              "  </thead>\n",
              "  <tbody>\n",
              "    <tr>\n",
              "      <th>count</th>\n",
              "      <td>1.987000e+03</td>\n",
              "      <td>1.987000e+03</td>\n",
              "      <td>1.987000e+03</td>\n",
              "      <td>1987.000000</td>\n",
              "    </tr>\n",
              "    <tr>\n",
              "      <th>mean</th>\n",
              "      <td>-6.333915e-16</td>\n",
              "      <td>3.575957e-17</td>\n",
              "      <td>-1.609181e-16</td>\n",
              "      <td>0.277806</td>\n",
              "    </tr>\n",
              "    <tr>\n",
              "      <th>std</th>\n",
              "      <td>1.000252e+00</td>\n",
              "      <td>1.000252e+00</td>\n",
              "      <td>1.000252e+00</td>\n",
              "      <td>0.448030</td>\n",
              "    </tr>\n",
              "    <tr>\n",
              "      <th>min</th>\n",
              "      <td>-1.596603e+00</td>\n",
              "      <td>-1.679482e+00</td>\n",
              "      <td>-1.710675e+00</td>\n",
              "      <td>0.000000</td>\n",
              "    </tr>\n",
              "    <tr>\n",
              "      <th>25%</th>\n",
              "      <td>-5.665868e-01</td>\n",
              "      <td>-8.832207e-01</td>\n",
              "      <td>-4.678554e-01</td>\n",
              "      <td>0.000000</td>\n",
              "    </tr>\n",
              "    <tr>\n",
              "      <th>50%</th>\n",
              "      <td>-2.232480e-01</td>\n",
              "      <td>-8.695957e-02</td>\n",
              "      <td>1.535541e-01</td>\n",
              "      <td>0.000000</td>\n",
              "    </tr>\n",
              "    <tr>\n",
              "      <th>75%</th>\n",
              "      <td>8.067684e-01</td>\n",
              "      <td>8.420117e-01</td>\n",
              "      <td>7.749637e-01</td>\n",
              "      <td>1.000000</td>\n",
              "    </tr>\n",
              "    <tr>\n",
              "      <th>max</th>\n",
              "      <td>1.836785e+00</td>\n",
              "      <td>2.301824e+00</td>\n",
              "      <td>2.639192e+00</td>\n",
              "      <td>1.000000</td>\n",
              "    </tr>\n",
              "  </tbody>\n",
              "</table>\n",
              "</div>"
            ],
            "text/plain": [
              "                Age  AnnualIncome  FamilyMembers  ChronicDiseases\n",
              "count  1.987000e+03  1.987000e+03   1.987000e+03      1987.000000\n",
              "mean  -6.333915e-16  3.575957e-17  -1.609181e-16         0.277806\n",
              "std    1.000252e+00  1.000252e+00   1.000252e+00         0.448030\n",
              "min   -1.596603e+00 -1.679482e+00  -1.710675e+00         0.000000\n",
              "25%   -5.665868e-01 -8.832207e-01  -4.678554e-01         0.000000\n",
              "50%   -2.232480e-01 -8.695957e-02   1.535541e-01         0.000000\n",
              "75%    8.067684e-01  8.420117e-01   7.749637e-01         1.000000\n",
              "max    1.836785e+00  2.301824e+00   2.639192e+00         1.000000"
            ]
          },
          "execution_count": 32,
          "metadata": {},
          "output_type": "execute_result"
        }
      ],
      "source": [
        "x.describe()"
      ]
    },
    {
      "cell_type": "code",
      "execution_count": null,
      "id": "103235d6",
      "metadata": {
        "id": "103235d6"
      },
      "outputs": [],
      "source": [
        "# one hot encoding\n",
        "x = pd.get_dummies(x)"
      ]
    },
    {
      "cell_type": "code",
      "execution_count": null,
      "id": "fcc432b4",
      "metadata": {
        "id": "fcc432b4",
        "outputId": "88f254cb-63eb-48ae-eeca-c9afb91a32d3"
      },
      "outputs": [
        {
          "data": {
            "text/plain": [
              "(1987, 12)"
            ]
          },
          "execution_count": 34,
          "metadata": {},
          "output_type": "execute_result"
        }
      ],
      "source": [
        "x.shape"
      ]
    },
    {
      "cell_type": "code",
      "execution_count": null,
      "id": "e4a9d8b5",
      "metadata": {
        "id": "e4a9d8b5",
        "outputId": "f5a631c8-554f-457c-eff1-6aa9b849baf3"
      },
      "outputs": [
        {
          "data": {
            "text/html": [
              "<div>\n",
              "<style scoped>\n",
              "    .dataframe tbody tr th:only-of-type {\n",
              "        vertical-align: middle;\n",
              "    }\n",
              "\n",
              "    .dataframe tbody tr th {\n",
              "        vertical-align: top;\n",
              "    }\n",
              "\n",
              "    .dataframe thead th {\n",
              "        text-align: right;\n",
              "    }\n",
              "</style>\n",
              "<table border=\"1\" class=\"dataframe\">\n",
              "  <thead>\n",
              "    <tr style=\"text-align: right;\">\n",
              "      <th></th>\n",
              "      <th>Age</th>\n",
              "      <th>AnnualIncome</th>\n",
              "      <th>FamilyMembers</th>\n",
              "      <th>ChronicDiseases</th>\n",
              "      <th>Employment Type_Government Sector</th>\n",
              "      <th>Employment Type_Private Sector/Self Employed</th>\n",
              "      <th>GraduateOrNot_No</th>\n",
              "      <th>GraduateOrNot_Yes</th>\n",
              "      <th>FrequentFlyer_No</th>\n",
              "      <th>FrequentFlyer_Yes</th>\n",
              "      <th>EverTravelledAbroad_No</th>\n",
              "      <th>EverTravelledAbroad_Yes</th>\n",
              "    </tr>\n",
              "  </thead>\n",
              "  <tbody>\n",
              "    <tr>\n",
              "      <th>0</th>\n",
              "      <td>0.463430</td>\n",
              "      <td>-1.414061</td>\n",
              "      <td>0.774964</td>\n",
              "      <td>1</td>\n",
              "      <td>1</td>\n",
              "      <td>0</td>\n",
              "      <td>0</td>\n",
              "      <td>1</td>\n",
              "      <td>1</td>\n",
              "      <td>0</td>\n",
              "      <td>1</td>\n",
              "      <td>0</td>\n",
              "    </tr>\n",
              "    <tr>\n",
              "      <th>1</th>\n",
              "      <td>0.463430</td>\n",
              "      <td>0.842012</td>\n",
              "      <td>1.396373</td>\n",
              "      <td>0</td>\n",
              "      <td>0</td>\n",
              "      <td>1</td>\n",
              "      <td>0</td>\n",
              "      <td>1</td>\n",
              "      <td>1</td>\n",
              "      <td>0</td>\n",
              "      <td>1</td>\n",
              "      <td>0</td>\n",
              "    </tr>\n",
              "    <tr>\n",
              "      <th>2</th>\n",
              "      <td>1.493446</td>\n",
              "      <td>-1.148641</td>\n",
              "      <td>-0.467855</td>\n",
              "      <td>1</td>\n",
              "      <td>0</td>\n",
              "      <td>1</td>\n",
              "      <td>0</td>\n",
              "      <td>1</td>\n",
              "      <td>1</td>\n",
              "      <td>0</td>\n",
              "      <td>1</td>\n",
              "      <td>0</td>\n",
              "    </tr>\n",
              "    <tr>\n",
              "      <th>3</th>\n",
              "      <td>-0.566587</td>\n",
              "      <td>-0.617800</td>\n",
              "      <td>-1.089265</td>\n",
              "      <td>1</td>\n",
              "      <td>0</td>\n",
              "      <td>1</td>\n",
              "      <td>0</td>\n",
              "      <td>1</td>\n",
              "      <td>1</td>\n",
              "      <td>0</td>\n",
              "      <td>1</td>\n",
              "      <td>0</td>\n",
              "    </tr>\n",
              "    <tr>\n",
              "      <th>4</th>\n",
              "      <td>-0.566587</td>\n",
              "      <td>-0.617800</td>\n",
              "      <td>2.017783</td>\n",
              "      <td>1</td>\n",
              "      <td>0</td>\n",
              "      <td>1</td>\n",
              "      <td>0</td>\n",
              "      <td>1</td>\n",
              "      <td>0</td>\n",
              "      <td>1</td>\n",
              "      <td>1</td>\n",
              "      <td>0</td>\n",
              "    </tr>\n",
              "  </tbody>\n",
              "</table>\n",
              "</div>"
            ],
            "text/plain": [
              "        Age  AnnualIncome  FamilyMembers  ChronicDiseases  \\\n",
              "0  0.463430     -1.414061       0.774964                1   \n",
              "1  0.463430      0.842012       1.396373                0   \n",
              "2  1.493446     -1.148641      -0.467855                1   \n",
              "3 -0.566587     -0.617800      -1.089265                1   \n",
              "4 -0.566587     -0.617800       2.017783                1   \n",
              "\n",
              "   Employment Type_Government Sector  \\\n",
              "0                                  1   \n",
              "1                                  0   \n",
              "2                                  0   \n",
              "3                                  0   \n",
              "4                                  0   \n",
              "\n",
              "   Employment Type_Private Sector/Self Employed  GraduateOrNot_No  \\\n",
              "0                                             0                 0   \n",
              "1                                             1                 0   \n",
              "2                                             1                 0   \n",
              "3                                             1                 0   \n",
              "4                                             1                 0   \n",
              "\n",
              "   GraduateOrNot_Yes  FrequentFlyer_No  FrequentFlyer_Yes  \\\n",
              "0                  1                 1                  0   \n",
              "1                  1                 1                  0   \n",
              "2                  1                 1                  0   \n",
              "3                  1                 1                  0   \n",
              "4                  1                 0                  1   \n",
              "\n",
              "   EverTravelledAbroad_No  EverTravelledAbroad_Yes  \n",
              "0                       1                        0  \n",
              "1                       1                        0  \n",
              "2                       1                        0  \n",
              "3                       1                        0  \n",
              "4                       1                        0  "
            ]
          },
          "execution_count": 35,
          "metadata": {},
          "output_type": "execute_result"
        }
      ],
      "source": [
        "x.head()"
      ]
    },
    {
      "cell_type": "markdown",
      "id": "2182c5fb",
      "metadata": {
        "id": "2182c5fb"
      },
      "source": [
        "# Component 3"
      ]
    },
    {
      "cell_type": "markdown",
      "id": "4593bad5",
      "metadata": {
        "id": "4593bad5"
      },
      "source": [
        "## Splitting the data into x_train, x_test, y_train, y_test"
      ]
    },
    {
      "cell_type": "code",
      "execution_count": null,
      "id": "e6537f0f",
      "metadata": {
        "id": "e6537f0f"
      },
      "outputs": [],
      "source": [
        "from sklearn.model_selection import train_test_split"
      ]
    },
    {
      "cell_type": "code",
      "execution_count": null,
      "id": "797d5b90",
      "metadata": {
        "id": "797d5b90"
      },
      "outputs": [],
      "source": [
        "x_train,x_test,y_train,y_test = train_test_split(x,y,test_size = 0.3,random_state = 7,stratify = y)"
      ]
    },
    {
      "cell_type": "code",
      "execution_count": null,
      "id": "9644cd51",
      "metadata": {
        "id": "9644cd51",
        "outputId": "f7b44c71-b038-4083-bbbe-529cccd6c7a6"
      },
      "outputs": [
        {
          "data": {
            "text/plain": [
              "((1390, 12), (597, 12), (1390,), (597,))"
            ]
          },
          "execution_count": 38,
          "metadata": {},
          "output_type": "execute_result"
        }
      ],
      "source": [
        "x_train.shape,x_test.shape,y_train.shape,y_test.shape"
      ]
    },
    {
      "cell_type": "markdown",
      "id": "908127aa",
      "metadata": {
        "id": "908127aa"
      },
      "source": [
        "## We are using Gridsearch technique to fine tune the parameters of the models"
      ]
    },
    {
      "cell_type": "code",
      "execution_count": null,
      "id": "2939669f",
      "metadata": {
        "id": "2939669f"
      },
      "outputs": [],
      "source": [
        "from sklearn.model_selection import GridSearchCV\n",
        "from sklearn.ensemble import RandomForestClassifier\n",
        "from sklearn.linear_model import LogisticRegression\n",
        "\n",
        "param_grid = {\n",
        "    'max_iter' :[x for x in range(50,401,50)],\n",
        "    'C' :[x/10 for x in range(1,11,1)]\n",
        "}"
      ]
    },
    {
      "cell_type": "code",
      "execution_count": null,
      "id": "90209b65",
      "metadata": {
        "id": "90209b65"
      },
      "outputs": [],
      "source": [
        "gscv = GridSearchCV(LogisticRegression(penalty = 'l2',class_weight = 'balanced',\n",
        "                                       random_state = 7, solver = 'saga'),\n",
        "                                       param_grid, cv=2, verbose=2)"
      ]
    },
    {
      "cell_type": "code",
      "execution_count": null,
      "id": "91da56a6",
      "metadata": {
        "id": "91da56a6",
        "outputId": "4037789f-2c8e-4589-bef3-9b043e51bb78"
      },
      "outputs": [
        {
          "name": "stdout",
          "output_type": "stream",
          "text": [
            "Fitting 2 folds for each of 80 candidates, totalling 160 fits\n",
            "[CV] END .................................C=0.1, max_iter=50; total time=   0.0s\n",
            "[CV] END .................................C=0.1, max_iter=50; total time=   0.0s\n",
            "[CV] END ................................C=0.1, max_iter=100; total time=   0.0s\n",
            "[CV] END ................................C=0.1, max_iter=100; total time=   0.0s\n",
            "[CV] END ................................C=0.1, max_iter=150; total time=   0.0s\n",
            "[CV] END ................................C=0.1, max_iter=150; total time=   0.0s\n",
            "[CV] END ................................C=0.1, max_iter=200; total time=   0.0s\n",
            "[CV] END ................................C=0.1, max_iter=200; total time=   0.0s\n",
            "[CV] END ................................C=0.1, max_iter=250; total time=   0.0s\n",
            "[CV] END ................................C=0.1, max_iter=250; total time=   0.0s\n",
            "[CV] END ................................C=0.1, max_iter=300; total time=   0.0s\n",
            "[CV] END ................................C=0.1, max_iter=300; total time=   0.0s\n",
            "[CV] END ................................C=0.1, max_iter=350; total time=   0.0s\n",
            "[CV] END ................................C=0.1, max_iter=350; total time=   0.0s\n",
            "[CV] END ................................C=0.1, max_iter=400; total time=   0.0s\n",
            "[CV] END ................................C=0.1, max_iter=400; total time=   0.0s\n",
            "[CV] END .................................C=0.2, max_iter=50; total time=   0.0s\n",
            "[CV] END .................................C=0.2, max_iter=50; total time=   0.0s\n",
            "[CV] END ................................C=0.2, max_iter=100; total time=   0.0s\n",
            "[CV] END ................................C=0.2, max_iter=100; total time=   0.0s\n",
            "[CV] END ................................C=0.2, max_iter=150; total time=   0.0s\n",
            "[CV] END ................................C=0.2, max_iter=150; total time=   0.0s\n",
            "[CV] END ................................C=0.2, max_iter=200; total time=   0.0s\n",
            "[CV] END ................................C=0.2, max_iter=200; total time=   0.0s\n",
            "[CV] END ................................C=0.2, max_iter=250; total time=   0.0s\n",
            "[CV] END ................................C=0.2, max_iter=250; total time=   0.0s\n",
            "[CV] END ................................C=0.2, max_iter=300; total time=   0.0s\n",
            "[CV] END ................................C=0.2, max_iter=300; total time=   0.0s\n",
            "[CV] END ................................C=0.2, max_iter=350; total time=   0.0s\n",
            "[CV] END ................................C=0.2, max_iter=350; total time=   0.0s\n",
            "[CV] END ................................C=0.2, max_iter=400; total time=   0.0s\n",
            "[CV] END ................................C=0.2, max_iter=400; total time=   0.0s\n",
            "[CV] END .................................C=0.3, max_iter=50; total time=   0.0s\n",
            "[CV] END .................................C=0.3, max_iter=50; total time=   0.0s\n",
            "[CV] END ................................C=0.3, max_iter=100; total time=   0.0s\n",
            "[CV] END ................................C=0.3, max_iter=100; total time=   0.0s\n",
            "[CV] END ................................C=0.3, max_iter=150; total time=   0.0s\n"
          ]
        },
        {
          "name": "stderr",
          "output_type": "stream",
          "text": [
            "/Users/swapnilsahebraowaghmare/anaconda3/lib/python3.11/site-packages/sklearn/linear_model/_sag.py:350: ConvergenceWarning: The max_iter was reached which means the coef_ did not converge\n",
            "  warnings.warn(\n",
            "/Users/swapnilsahebraowaghmare/anaconda3/lib/python3.11/site-packages/sklearn/linear_model/_sag.py:350: ConvergenceWarning: The max_iter was reached which means the coef_ did not converge\n",
            "  warnings.warn(\n"
          ]
        },
        {
          "name": "stdout",
          "output_type": "stream",
          "text": [
            "[CV] END ................................C=0.3, max_iter=150; total time=   0.0s\n",
            "[CV] END ................................C=0.3, max_iter=200; total time=   0.0s\n",
            "[CV] END ................................C=0.3, max_iter=200; total time=   0.0s\n",
            "[CV] END ................................C=0.3, max_iter=250; total time=   0.0s\n",
            "[CV] END ................................C=0.3, max_iter=250; total time=   0.0s\n",
            "[CV] END ................................C=0.3, max_iter=300; total time=   0.0s\n",
            "[CV] END ................................C=0.3, max_iter=300; total time=   0.0s\n",
            "[CV] END ................................C=0.3, max_iter=350; total time=   0.1s\n",
            "[CV] END ................................C=0.3, max_iter=350; total time=   0.0s\n",
            "[CV] END ................................C=0.3, max_iter=400; total time=   0.0s\n",
            "[CV] END ................................C=0.3, max_iter=400; total time=   0.0s\n",
            "[CV] END .................................C=0.4, max_iter=50; total time=   0.0s\n",
            "[CV] END .................................C=0.4, max_iter=50; total time=   0.0s\n",
            "[CV] END ................................C=0.4, max_iter=100; total time=   0.0s\n"
          ]
        },
        {
          "name": "stderr",
          "output_type": "stream",
          "text": [
            "/Users/swapnilsahebraowaghmare/anaconda3/lib/python3.11/site-packages/sklearn/linear_model/_sag.py:350: ConvergenceWarning: The max_iter was reached which means the coef_ did not converge\n",
            "  warnings.warn(\n",
            "/Users/swapnilsahebraowaghmare/anaconda3/lib/python3.11/site-packages/sklearn/linear_model/_sag.py:350: ConvergenceWarning: The max_iter was reached which means the coef_ did not converge\n",
            "  warnings.warn(\n"
          ]
        },
        {
          "name": "stdout",
          "output_type": "stream",
          "text": [
            "[CV] END ................................C=0.4, max_iter=100; total time=   0.0s\n",
            "[CV] END ................................C=0.4, max_iter=150; total time=   0.0s\n",
            "[CV] END ................................C=0.4, max_iter=150; total time=   0.0s\n",
            "[CV] END ................................C=0.4, max_iter=200; total time=   0.1s\n",
            "[CV] END ................................C=0.4, max_iter=200; total time=   0.0s\n",
            "[CV] END ................................C=0.4, max_iter=250; total time=   0.0s\n",
            "[CV] END ................................C=0.4, max_iter=250; total time=   0.0s\n",
            "[CV] END ................................C=0.4, max_iter=300; total time=   0.0s\n",
            "[CV] END ................................C=0.4, max_iter=300; total time=   0.0s\n",
            "[CV] END ................................C=0.4, max_iter=350; total time=   0.1s\n",
            "[CV] END ................................C=0.4, max_iter=350; total time=   0.2s\n",
            "[CV] END ................................C=0.4, max_iter=400; total time=   0.1s\n",
            "[CV] END ................................C=0.4, max_iter=400; total time=   0.1s\n",
            "[CV] END .................................C=0.5, max_iter=50; total time=   0.0s\n"
          ]
        },
        {
          "name": "stderr",
          "output_type": "stream",
          "text": [
            "/Users/swapnilsahebraowaghmare/anaconda3/lib/python3.11/site-packages/sklearn/linear_model/_sag.py:350: ConvergenceWarning: The max_iter was reached which means the coef_ did not converge\n",
            "  warnings.warn(\n",
            "/Users/swapnilsahebraowaghmare/anaconda3/lib/python3.11/site-packages/sklearn/linear_model/_sag.py:350: ConvergenceWarning: The max_iter was reached which means the coef_ did not converge\n",
            "  warnings.warn(\n"
          ]
        },
        {
          "name": "stdout",
          "output_type": "stream",
          "text": [
            "[CV] END .................................C=0.5, max_iter=50; total time=   0.0s\n",
            "[CV] END ................................C=0.5, max_iter=100; total time=   0.3s\n",
            "[CV] END ................................C=0.5, max_iter=100; total time=   0.0s\n",
            "[CV] END ................................C=0.5, max_iter=150; total time=   0.1s\n",
            "[CV] END ................................C=0.5, max_iter=150; total time=   0.0s\n",
            "[CV] END ................................C=0.5, max_iter=200; total time=   0.0s\n",
            "[CV] END ................................C=0.5, max_iter=200; total time=   0.0s\n",
            "[CV] END ................................C=0.5, max_iter=250; total time=   0.1s\n",
            "[CV] END ................................C=0.5, max_iter=250; total time=   0.0s\n",
            "[CV] END ................................C=0.5, max_iter=300; total time=   0.0s\n",
            "[CV] END ................................C=0.5, max_iter=300; total time=   0.0s\n",
            "[CV] END ................................C=0.5, max_iter=350; total time=   0.0s\n",
            "[CV] END ................................C=0.5, max_iter=350; total time=   0.0s\n",
            "[CV] END ................................C=0.5, max_iter=400; total time=   0.0s\n",
            "[CV] END ................................C=0.5, max_iter=400; total time=   0.0s\n",
            "[CV] END .................................C=0.6, max_iter=50; total time=   0.0s\n",
            "[CV] END .................................C=0.6, max_iter=50; total time=   0.0s\n"
          ]
        },
        {
          "name": "stderr",
          "output_type": "stream",
          "text": [
            "/Users/swapnilsahebraowaghmare/anaconda3/lib/python3.11/site-packages/sklearn/linear_model/_sag.py:350: ConvergenceWarning: The max_iter was reached which means the coef_ did not converge\n",
            "  warnings.warn(\n",
            "/Users/swapnilsahebraowaghmare/anaconda3/lib/python3.11/site-packages/sklearn/linear_model/_sag.py:350: ConvergenceWarning: The max_iter was reached which means the coef_ did not converge\n",
            "  warnings.warn(\n"
          ]
        },
        {
          "name": "stdout",
          "output_type": "stream",
          "text": [
            "[CV] END ................................C=0.6, max_iter=100; total time=   0.0s\n",
            "[CV] END ................................C=0.6, max_iter=100; total time=   0.0s\n",
            "[CV] END ................................C=0.6, max_iter=150; total time=   0.0s\n",
            "[CV] END ................................C=0.6, max_iter=150; total time=   0.0s\n",
            "[CV] END ................................C=0.6, max_iter=200; total time=   0.0s\n",
            "[CV] END ................................C=0.6, max_iter=200; total time=   0.0s\n",
            "[CV] END ................................C=0.6, max_iter=250; total time=   0.0s\n",
            "[CV] END ................................C=0.6, max_iter=250; total time=   0.0s\n",
            "[CV] END ................................C=0.6, max_iter=300; total time=   0.1s\n",
            "[CV] END ................................C=0.6, max_iter=300; total time=   0.0s\n",
            "[CV] END ................................C=0.6, max_iter=350; total time=   0.0s\n",
            "[CV] END ................................C=0.6, max_iter=350; total time=   0.0s\n",
            "[CV] END ................................C=0.6, max_iter=400; total time=   0.0s\n",
            "[CV] END ................................C=0.6, max_iter=400; total time=   0.0s\n",
            "[CV] END .................................C=0.7, max_iter=50; total time=   0.0s\n"
          ]
        },
        {
          "name": "stderr",
          "output_type": "stream",
          "text": [
            "/Users/swapnilsahebraowaghmare/anaconda3/lib/python3.11/site-packages/sklearn/linear_model/_sag.py:350: ConvergenceWarning: The max_iter was reached which means the coef_ did not converge\n",
            "  warnings.warn(\n",
            "/Users/swapnilsahebraowaghmare/anaconda3/lib/python3.11/site-packages/sklearn/linear_model/_sag.py:350: ConvergenceWarning: The max_iter was reached which means the coef_ did not converge\n",
            "  warnings.warn(\n"
          ]
        },
        {
          "name": "stdout",
          "output_type": "stream",
          "text": [
            "[CV] END .................................C=0.7, max_iter=50; total time=   0.0s\n",
            "[CV] END ................................C=0.7, max_iter=100; total time=   0.1s\n",
            "[CV] END ................................C=0.7, max_iter=100; total time=   0.0s\n",
            "[CV] END ................................C=0.7, max_iter=150; total time=   0.0s\n",
            "[CV] END ................................C=0.7, max_iter=150; total time=   0.0s\n",
            "[CV] END ................................C=0.7, max_iter=200; total time=   0.0s\n",
            "[CV] END ................................C=0.7, max_iter=200; total time=   0.0s\n",
            "[CV] END ................................C=0.7, max_iter=250; total time=   0.0s\n",
            "[CV] END ................................C=0.7, max_iter=250; total time=   0.0s\n",
            "[CV] END ................................C=0.7, max_iter=300; total time=   0.0s\n",
            "[CV] END ................................C=0.7, max_iter=300; total time=   0.0s\n",
            "[CV] END ................................C=0.7, max_iter=350; total time=   0.1s\n",
            "[CV] END ................................C=0.7, max_iter=350; total time=   0.0s\n",
            "[CV] END ................................C=0.7, max_iter=400; total time=   0.0s\n",
            "[CV] END ................................C=0.7, max_iter=400; total time=   0.0s\n",
            "[CV] END .................................C=0.8, max_iter=50; total time=   0.0s\n",
            "[CV] END .................................C=0.8, max_iter=50; total time=   0.0s\n"
          ]
        },
        {
          "name": "stderr",
          "output_type": "stream",
          "text": [
            "/Users/swapnilsahebraowaghmare/anaconda3/lib/python3.11/site-packages/sklearn/linear_model/_sag.py:350: ConvergenceWarning: The max_iter was reached which means the coef_ did not converge\n",
            "  warnings.warn(\n",
            "/Users/swapnilsahebraowaghmare/anaconda3/lib/python3.11/site-packages/sklearn/linear_model/_sag.py:350: ConvergenceWarning: The max_iter was reached which means the coef_ did not converge\n",
            "  warnings.warn(\n",
            "/Users/swapnilsahebraowaghmare/anaconda3/lib/python3.11/site-packages/sklearn/linear_model/_sag.py:350: ConvergenceWarning: The max_iter was reached which means the coef_ did not converge\n",
            "  warnings.warn(\n"
          ]
        },
        {
          "name": "stdout",
          "output_type": "stream",
          "text": [
            "[CV] END ................................C=0.8, max_iter=100; total time=   0.0s\n",
            "[CV] END ................................C=0.8, max_iter=100; total time=   0.0s\n",
            "[CV] END ................................C=0.8, max_iter=150; total time=   0.0s\n",
            "[CV] END ................................C=0.8, max_iter=150; total time=   0.0s\n",
            "[CV] END ................................C=0.8, max_iter=200; total time=   0.0s\n",
            "[CV] END ................................C=0.8, max_iter=200; total time=   0.0s\n",
            "[CV] END ................................C=0.8, max_iter=250; total time=   0.0s\n",
            "[CV] END ................................C=0.8, max_iter=250; total time=   0.0s\n",
            "[CV] END ................................C=0.8, max_iter=300; total time=   0.0s\n",
            "[CV] END ................................C=0.8, max_iter=300; total time=   0.0s\n",
            "[CV] END ................................C=0.8, max_iter=350; total time=   0.0s\n",
            "[CV] END ................................C=0.8, max_iter=350; total time=   0.0s\n",
            "[CV] END ................................C=0.8, max_iter=400; total time=   0.0s\n",
            "[CV] END ................................C=0.8, max_iter=400; total time=   0.0s\n",
            "[CV] END .................................C=0.9, max_iter=50; total time=   0.0s\n",
            "[CV] END .................................C=0.9, max_iter=50; total time=   0.0s\n",
            "[CV] END ................................C=0.9, max_iter=100; total time=   0.0s\n",
            "[CV] END ................................C=0.9, max_iter=100; total time=   0.0s\n",
            "[CV] END ................................C=0.9, max_iter=150; total time=   0.0s\n",
            "[CV] END ................................C=0.9, max_iter=150; total time=   0.0s\n",
            "[CV] END ................................C=0.9, max_iter=200; total time=   0.0s\n"
          ]
        },
        {
          "name": "stderr",
          "output_type": "stream",
          "text": [
            "/Users/swapnilsahebraowaghmare/anaconda3/lib/python3.11/site-packages/sklearn/linear_model/_sag.py:350: ConvergenceWarning: The max_iter was reached which means the coef_ did not converge\n",
            "  warnings.warn(\n",
            "/Users/swapnilsahebraowaghmare/anaconda3/lib/python3.11/site-packages/sklearn/linear_model/_sag.py:350: ConvergenceWarning: The max_iter was reached which means the coef_ did not converge\n",
            "  warnings.warn(\n",
            "/Users/swapnilsahebraowaghmare/anaconda3/lib/python3.11/site-packages/sklearn/linear_model/_sag.py:350: ConvergenceWarning: The max_iter was reached which means the coef_ did not converge\n",
            "  warnings.warn(\n"
          ]
        },
        {
          "name": "stdout",
          "output_type": "stream",
          "text": [
            "[CV] END ................................C=0.9, max_iter=200; total time=   0.0s\n",
            "[CV] END ................................C=0.9, max_iter=250; total time=   0.0s\n",
            "[CV] END ................................C=0.9, max_iter=250; total time=   0.1s\n",
            "[CV] END ................................C=0.9, max_iter=300; total time=   0.1s\n",
            "[CV] END ................................C=0.9, max_iter=300; total time=   0.1s\n",
            "[CV] END ................................C=0.9, max_iter=350; total time=   0.0s\n",
            "[CV] END ................................C=0.9, max_iter=350; total time=   0.0s\n",
            "[CV] END ................................C=0.9, max_iter=400; total time=   0.0s\n",
            "[CV] END ................................C=0.9, max_iter=400; total time=   0.1s\n"
          ]
        },
        {
          "name": "stderr",
          "output_type": "stream",
          "text": [
            "/Users/swapnilsahebraowaghmare/anaconda3/lib/python3.11/site-packages/sklearn/linear_model/_sag.py:350: ConvergenceWarning: The max_iter was reached which means the coef_ did not converge\n",
            "  warnings.warn(\n",
            "/Users/swapnilsahebraowaghmare/anaconda3/lib/python3.11/site-packages/sklearn/linear_model/_sag.py:350: ConvergenceWarning: The max_iter was reached which means the coef_ did not converge\n",
            "  warnings.warn(\n",
            "/Users/swapnilsahebraowaghmare/anaconda3/lib/python3.11/site-packages/sklearn/linear_model/_sag.py:350: ConvergenceWarning: The max_iter was reached which means the coef_ did not converge\n",
            "  warnings.warn(\n",
            "/Users/swapnilsahebraowaghmare/anaconda3/lib/python3.11/site-packages/sklearn/linear_model/_sag.py:350: ConvergenceWarning: The max_iter was reached which means the coef_ did not converge\n",
            "  warnings.warn(\n"
          ]
        },
        {
          "name": "stdout",
          "output_type": "stream",
          "text": [
            "[CV] END .................................C=1.0, max_iter=50; total time=   0.0s\n",
            "[CV] END .................................C=1.0, max_iter=50; total time=   0.0s\n",
            "[CV] END ................................C=1.0, max_iter=100; total time=   0.1s\n",
            "[CV] END ................................C=1.0, max_iter=100; total time=   0.0s\n",
            "[CV] END ................................C=1.0, max_iter=150; total time=   0.1s\n",
            "[CV] END ................................C=1.0, max_iter=150; total time=   0.0s\n",
            "[CV] END ................................C=1.0, max_iter=200; total time=   0.1s\n",
            "[CV] END ................................C=1.0, max_iter=200; total time=   0.0s\n",
            "[CV] END ................................C=1.0, max_iter=250; total time=   0.0s\n",
            "[CV] END ................................C=1.0, max_iter=250; total time=   0.0s\n",
            "[CV] END ................................C=1.0, max_iter=300; total time=   0.0s\n",
            "[CV] END ................................C=1.0, max_iter=300; total time=   0.0s\n",
            "[CV] END ................................C=1.0, max_iter=350; total time=   0.0s\n",
            "[CV] END ................................C=1.0, max_iter=350; total time=   0.0s\n",
            "[CV] END ................................C=1.0, max_iter=400; total time=   0.0s\n",
            "[CV] END ................................C=1.0, max_iter=400; total time=   0.1s\n"
          ]
        },
        {
          "name": "stderr",
          "output_type": "stream",
          "text": [
            "/Users/swapnilsahebraowaghmare/anaconda3/lib/python3.11/site-packages/sklearn/linear_model/_sag.py:350: ConvergenceWarning: The max_iter was reached which means the coef_ did not converge\n",
            "  warnings.warn(\n"
          ]
        },
        {
          "data": {
            "text/html": [
              "<style>#sk-container-id-2 {color: black;}#sk-container-id-2 pre{padding: 0;}#sk-container-id-2 div.sk-toggleable {background-color: white;}#sk-container-id-2 label.sk-toggleable__label {cursor: pointer;display: block;width: 100%;margin-bottom: 0;padding: 0.3em;box-sizing: border-box;text-align: center;}#sk-container-id-2 label.sk-toggleable__label-arrow:before {content: \"▸\";float: left;margin-right: 0.25em;color: #696969;}#sk-container-id-2 label.sk-toggleable__label-arrow:hover:before {color: black;}#sk-container-id-2 div.sk-estimator:hover label.sk-toggleable__label-arrow:before {color: black;}#sk-container-id-2 div.sk-toggleable__content {max-height: 0;max-width: 0;overflow: hidden;text-align: left;background-color: #f0f8ff;}#sk-container-id-2 div.sk-toggleable__content pre {margin: 0.2em;color: black;border-radius: 0.25em;background-color: #f0f8ff;}#sk-container-id-2 input.sk-toggleable__control:checked~div.sk-toggleable__content {max-height: 200px;max-width: 100%;overflow: auto;}#sk-container-id-2 input.sk-toggleable__control:checked~label.sk-toggleable__label-arrow:before {content: \"▾\";}#sk-container-id-2 div.sk-estimator input.sk-toggleable__control:checked~label.sk-toggleable__label {background-color: #d4ebff;}#sk-container-id-2 div.sk-label input.sk-toggleable__control:checked~label.sk-toggleable__label {background-color: #d4ebff;}#sk-container-id-2 input.sk-hidden--visually {border: 0;clip: rect(1px 1px 1px 1px);clip: rect(1px, 1px, 1px, 1px);height: 1px;margin: -1px;overflow: hidden;padding: 0;position: absolute;width: 1px;}#sk-container-id-2 div.sk-estimator {font-family: monospace;background-color: #f0f8ff;border: 1px dotted black;border-radius: 0.25em;box-sizing: border-box;margin-bottom: 0.5em;}#sk-container-id-2 div.sk-estimator:hover {background-color: #d4ebff;}#sk-container-id-2 div.sk-parallel-item::after {content: \"\";width: 100%;border-bottom: 1px solid gray;flex-grow: 1;}#sk-container-id-2 div.sk-label:hover label.sk-toggleable__label {background-color: #d4ebff;}#sk-container-id-2 div.sk-serial::before {content: \"\";position: absolute;border-left: 1px solid gray;box-sizing: border-box;top: 0;bottom: 0;left: 50%;z-index: 0;}#sk-container-id-2 div.sk-serial {display: flex;flex-direction: column;align-items: center;background-color: white;padding-right: 0.2em;padding-left: 0.2em;position: relative;}#sk-container-id-2 div.sk-item {position: relative;z-index: 1;}#sk-container-id-2 div.sk-parallel {display: flex;align-items: stretch;justify-content: center;background-color: white;position: relative;}#sk-container-id-2 div.sk-item::before, #sk-container-id-2 div.sk-parallel-item::before {content: \"\";position: absolute;border-left: 1px solid gray;box-sizing: border-box;top: 0;bottom: 0;left: 50%;z-index: -1;}#sk-container-id-2 div.sk-parallel-item {display: flex;flex-direction: column;z-index: 1;position: relative;background-color: white;}#sk-container-id-2 div.sk-parallel-item:first-child::after {align-self: flex-end;width: 50%;}#sk-container-id-2 div.sk-parallel-item:last-child::after {align-self: flex-start;width: 50%;}#sk-container-id-2 div.sk-parallel-item:only-child::after {width: 0;}#sk-container-id-2 div.sk-dashed-wrapped {border: 1px dashed gray;margin: 0 0.4em 0.5em 0.4em;box-sizing: border-box;padding-bottom: 0.4em;background-color: white;}#sk-container-id-2 div.sk-label label {font-family: monospace;font-weight: bold;display: inline-block;line-height: 1.2em;}#sk-container-id-2 div.sk-label-container {text-align: center;}#sk-container-id-2 div.sk-container {/* jupyter's `normalize.less` sets `[hidden] { display: none; }` but bootstrap.min.css set `[hidden] { display: none !important; }` so we also need the `!important` here to be able to override the default hidden behavior on the sphinx rendered scikit-learn.org. See: https://github.com/scikit-learn/scikit-learn/issues/21755 */display: inline-block !important;position: relative;}#sk-container-id-2 div.sk-text-repr-fallback {display: none;}</style><div id=\"sk-container-id-2\" class=\"sk-top-container\"><div class=\"sk-text-repr-fallback\"><pre>GridSearchCV(cv=2,\n",
              "             estimator=LogisticRegression(class_weight=&#x27;balanced&#x27;,\n",
              "                                          random_state=7, solver=&#x27;saga&#x27;),\n",
              "             param_grid={&#x27;C&#x27;: [0.1, 0.2, 0.3, 0.4, 0.5, 0.6, 0.7, 0.8, 0.9,\n",
              "                               1.0],\n",
              "                         &#x27;max_iter&#x27;: [50, 100, 150, 200, 250, 300, 350, 400]},\n",
              "             verbose=2)</pre><b>In a Jupyter environment, please rerun this cell to show the HTML representation or trust the notebook. <br />On GitHub, the HTML representation is unable to render, please try loading this page with nbviewer.org.</b></div><div class=\"sk-container\" hidden><div class=\"sk-item sk-dashed-wrapped\"><div class=\"sk-label-container\"><div class=\"sk-label sk-toggleable\"><input class=\"sk-toggleable__control sk-hidden--visually\" id=\"sk-estimator-id-2\" type=\"checkbox\" ><label for=\"sk-estimator-id-2\" class=\"sk-toggleable__label sk-toggleable__label-arrow\">GridSearchCV</label><div class=\"sk-toggleable__content\"><pre>GridSearchCV(cv=2,\n",
              "             estimator=LogisticRegression(class_weight=&#x27;balanced&#x27;,\n",
              "                                          random_state=7, solver=&#x27;saga&#x27;),\n",
              "             param_grid={&#x27;C&#x27;: [0.1, 0.2, 0.3, 0.4, 0.5, 0.6, 0.7, 0.8, 0.9,\n",
              "                               1.0],\n",
              "                         &#x27;max_iter&#x27;: [50, 100, 150, 200, 250, 300, 350, 400]},\n",
              "             verbose=2)</pre></div></div></div><div class=\"sk-parallel\"><div class=\"sk-parallel-item\"><div class=\"sk-item\"><div class=\"sk-label-container\"><div class=\"sk-label sk-toggleable\"><input class=\"sk-toggleable__control sk-hidden--visually\" id=\"sk-estimator-id-3\" type=\"checkbox\" ><label for=\"sk-estimator-id-3\" class=\"sk-toggleable__label sk-toggleable__label-arrow\">estimator: LogisticRegression</label><div class=\"sk-toggleable__content\"><pre>LogisticRegression(class_weight=&#x27;balanced&#x27;, random_state=7, solver=&#x27;saga&#x27;)</pre></div></div></div><div class=\"sk-serial\"><div class=\"sk-item\"><div class=\"sk-estimator sk-toggleable\"><input class=\"sk-toggleable__control sk-hidden--visually\" id=\"sk-estimator-id-4\" type=\"checkbox\" ><label for=\"sk-estimator-id-4\" class=\"sk-toggleable__label sk-toggleable__label-arrow\">LogisticRegression</label><div class=\"sk-toggleable__content\"><pre>LogisticRegression(class_weight=&#x27;balanced&#x27;, random_state=7, solver=&#x27;saga&#x27;)</pre></div></div></div></div></div></div></div></div></div></div>"
            ],
            "text/plain": [
              "GridSearchCV(cv=2,\n",
              "             estimator=LogisticRegression(class_weight='balanced',\n",
              "                                          random_state=7, solver='saga'),\n",
              "             param_grid={'C': [0.1, 0.2, 0.3, 0.4, 0.5, 0.6, 0.7, 0.8, 0.9,\n",
              "                               1.0],\n",
              "                         'max_iter': [50, 100, 150, 200, 250, 300, 350, 400]},\n",
              "             verbose=2)"
            ]
          },
          "execution_count": 41,
          "metadata": {},
          "output_type": "execute_result"
        }
      ],
      "source": [
        "gscv.fit(x_train,y_train)"
      ]
    },
    {
      "cell_type": "code",
      "execution_count": null,
      "id": "0a9fb0e3",
      "metadata": {
        "id": "0a9fb0e3",
        "outputId": "46594052-e9eb-43b2-d552-0e5c0920ac3e"
      },
      "outputs": [
        {
          "data": {
            "text/plain": [
              "0.733093525179856"
            ]
          },
          "execution_count": 42,
          "metadata": {},
          "output_type": "execute_result"
        }
      ],
      "source": [
        "gscv.best_score_"
      ]
    },
    {
      "cell_type": "code",
      "execution_count": null,
      "id": "7cef2c98",
      "metadata": {
        "id": "7cef2c98",
        "outputId": "8dd49820-e753-4895-a94e-bfa39f17b0e6"
      },
      "outputs": [
        {
          "name": "stdout",
          "output_type": "stream",
          "text": [
            "The best parameters are: \n",
            "{'C': 0.4, 'max_iter': 50}\n"
          ]
        }
      ],
      "source": [
        "print(\"The best parameters are: \")\n",
        "\n",
        "print(gscv.best_params_)"
      ]
    },
    {
      "cell_type": "code",
      "execution_count": null,
      "id": "7b43f502",
      "metadata": {
        "id": "7b43f502"
      },
      "outputs": [],
      "source": []
    },
    {
      "cell_type": "code",
      "execution_count": null,
      "id": "305e22ee",
      "metadata": {
        "id": "305e22ee"
      },
      "outputs": [],
      "source": [
        "lr = LogisticRegression(penalty = 'l2',class_weight = 'balanced',random_state = 7, solver = 'saga',\n",
        "                        max_iter = 50,C = 0.4)\n"
      ]
    },
    {
      "cell_type": "code",
      "execution_count": null,
      "id": "472f2837",
      "metadata": {
        "id": "472f2837",
        "outputId": "01dda0c3-44ab-4e48-9b14-51ed05490898"
      },
      "outputs": [
        {
          "name": "stderr",
          "output_type": "stream",
          "text": [
            "/Users/swapnilsahebraowaghmare/anaconda3/lib/python3.11/site-packages/sklearn/linear_model/_sag.py:350: ConvergenceWarning: The max_iter was reached which means the coef_ did not converge\n",
            "  warnings.warn(\n"
          ]
        },
        {
          "data": {
            "text/html": [
              "<style>#sk-container-id-3 {color: black;}#sk-container-id-3 pre{padding: 0;}#sk-container-id-3 div.sk-toggleable {background-color: white;}#sk-container-id-3 label.sk-toggleable__label {cursor: pointer;display: block;width: 100%;margin-bottom: 0;padding: 0.3em;box-sizing: border-box;text-align: center;}#sk-container-id-3 label.sk-toggleable__label-arrow:before {content: \"▸\";float: left;margin-right: 0.25em;color: #696969;}#sk-container-id-3 label.sk-toggleable__label-arrow:hover:before {color: black;}#sk-container-id-3 div.sk-estimator:hover label.sk-toggleable__label-arrow:before {color: black;}#sk-container-id-3 div.sk-toggleable__content {max-height: 0;max-width: 0;overflow: hidden;text-align: left;background-color: #f0f8ff;}#sk-container-id-3 div.sk-toggleable__content pre {margin: 0.2em;color: black;border-radius: 0.25em;background-color: #f0f8ff;}#sk-container-id-3 input.sk-toggleable__control:checked~div.sk-toggleable__content {max-height: 200px;max-width: 100%;overflow: auto;}#sk-container-id-3 input.sk-toggleable__control:checked~label.sk-toggleable__label-arrow:before {content: \"▾\";}#sk-container-id-3 div.sk-estimator input.sk-toggleable__control:checked~label.sk-toggleable__label {background-color: #d4ebff;}#sk-container-id-3 div.sk-label input.sk-toggleable__control:checked~label.sk-toggleable__label {background-color: #d4ebff;}#sk-container-id-3 input.sk-hidden--visually {border: 0;clip: rect(1px 1px 1px 1px);clip: rect(1px, 1px, 1px, 1px);height: 1px;margin: -1px;overflow: hidden;padding: 0;position: absolute;width: 1px;}#sk-container-id-3 div.sk-estimator {font-family: monospace;background-color: #f0f8ff;border: 1px dotted black;border-radius: 0.25em;box-sizing: border-box;margin-bottom: 0.5em;}#sk-container-id-3 div.sk-estimator:hover {background-color: #d4ebff;}#sk-container-id-3 div.sk-parallel-item::after {content: \"\";width: 100%;border-bottom: 1px solid gray;flex-grow: 1;}#sk-container-id-3 div.sk-label:hover label.sk-toggleable__label {background-color: #d4ebff;}#sk-container-id-3 div.sk-serial::before {content: \"\";position: absolute;border-left: 1px solid gray;box-sizing: border-box;top: 0;bottom: 0;left: 50%;z-index: 0;}#sk-container-id-3 div.sk-serial {display: flex;flex-direction: column;align-items: center;background-color: white;padding-right: 0.2em;padding-left: 0.2em;position: relative;}#sk-container-id-3 div.sk-item {position: relative;z-index: 1;}#sk-container-id-3 div.sk-parallel {display: flex;align-items: stretch;justify-content: center;background-color: white;position: relative;}#sk-container-id-3 div.sk-item::before, #sk-container-id-3 div.sk-parallel-item::before {content: \"\";position: absolute;border-left: 1px solid gray;box-sizing: border-box;top: 0;bottom: 0;left: 50%;z-index: -1;}#sk-container-id-3 div.sk-parallel-item {display: flex;flex-direction: column;z-index: 1;position: relative;background-color: white;}#sk-container-id-3 div.sk-parallel-item:first-child::after {align-self: flex-end;width: 50%;}#sk-container-id-3 div.sk-parallel-item:last-child::after {align-self: flex-start;width: 50%;}#sk-container-id-3 div.sk-parallel-item:only-child::after {width: 0;}#sk-container-id-3 div.sk-dashed-wrapped {border: 1px dashed gray;margin: 0 0.4em 0.5em 0.4em;box-sizing: border-box;padding-bottom: 0.4em;background-color: white;}#sk-container-id-3 div.sk-label label {font-family: monospace;font-weight: bold;display: inline-block;line-height: 1.2em;}#sk-container-id-3 div.sk-label-container {text-align: center;}#sk-container-id-3 div.sk-container {/* jupyter's `normalize.less` sets `[hidden] { display: none; }` but bootstrap.min.css set `[hidden] { display: none !important; }` so we also need the `!important` here to be able to override the default hidden behavior on the sphinx rendered scikit-learn.org. See: https://github.com/scikit-learn/scikit-learn/issues/21755 */display: inline-block !important;position: relative;}#sk-container-id-3 div.sk-text-repr-fallback {display: none;}</style><div id=\"sk-container-id-3\" class=\"sk-top-container\"><div class=\"sk-text-repr-fallback\"><pre>LogisticRegression(C=0.4, class_weight=&#x27;balanced&#x27;, max_iter=50, random_state=7,\n",
              "                   solver=&#x27;saga&#x27;)</pre><b>In a Jupyter environment, please rerun this cell to show the HTML representation or trust the notebook. <br />On GitHub, the HTML representation is unable to render, please try loading this page with nbviewer.org.</b></div><div class=\"sk-container\" hidden><div class=\"sk-item\"><div class=\"sk-estimator sk-toggleable\"><input class=\"sk-toggleable__control sk-hidden--visually\" id=\"sk-estimator-id-5\" type=\"checkbox\" checked><label for=\"sk-estimator-id-5\" class=\"sk-toggleable__label sk-toggleable__label-arrow\">LogisticRegression</label><div class=\"sk-toggleable__content\"><pre>LogisticRegression(C=0.4, class_weight=&#x27;balanced&#x27;, max_iter=50, random_state=7,\n",
              "                   solver=&#x27;saga&#x27;)</pre></div></div></div></div></div>"
            ],
            "text/plain": [
              "LogisticRegression(C=0.4, class_weight='balanced', max_iter=50, random_state=7,\n",
              "                   solver='saga')"
            ]
          },
          "execution_count": 45,
          "metadata": {},
          "output_type": "execute_result"
        }
      ],
      "source": [
        "lr.fit(x_train,y_train)"
      ]
    },
    {
      "cell_type": "code",
      "execution_count": null,
      "id": "51e2fa87",
      "metadata": {
        "id": "51e2fa87"
      },
      "outputs": [],
      "source": [
        "y_pred_logr = lr.predict(x_test)"
      ]
    },
    {
      "cell_type": "code",
      "execution_count": null,
      "id": "b104c520",
      "metadata": {
        "id": "b104c520",
        "outputId": "6781c0c4-6f20-43b4-bb48-a22871769423"
      },
      "outputs": [
        {
          "data": {
            "text/plain": [
              "array([0, 1, 0, 0, 1, 0, 1, 1, 0, 1, 0, 0, 0, 0, 0, 0, 0, 0, 0, 0, 0, 1,\n",
              "       0, 0, 0, 1, 1, 1, 1, 1, 0, 0, 0, 0, 0, 0, 0, 0, 0, 1, 1, 1, 1, 0,\n",
              "       0, 1, 0, 0, 1, 0, 1, 0, 0, 1, 0, 0, 0, 0, 1, 1, 1, 1, 1, 0, 0, 0,\n",
              "       0, 0, 0, 1, 0, 0, 0, 1, 1, 1, 0, 1, 0, 0, 0, 0, 0, 1, 1, 0, 1, 0,\n",
              "       0, 0, 0, 0, 0, 1, 0, 0, 1, 1, 1, 1, 0, 1, 1, 0, 0, 0, 0, 1, 0, 0,\n",
              "       0, 1, 1, 0, 0, 0, 0, 1, 0, 0, 0, 0, 1, 0, 0, 0, 0, 0, 1, 0, 0, 1,\n",
              "       0, 0, 0, 1, 0, 0, 0, 1, 0, 0, 0, 0, 0, 0, 0, 0, 0, 1, 0, 1, 0, 1,\n",
              "       0, 0, 1, 1, 0, 1, 0, 0, 1, 1, 0, 1, 1, 0, 0, 1, 0, 0, 0, 1, 1, 0,\n",
              "       0, 1, 0, 0, 0, 0, 0, 0, 0, 1, 0, 0, 1, 1, 0, 1, 1, 0, 0, 1, 1, 0,\n",
              "       1, 0, 1, 0, 0, 1, 0, 0, 0, 1, 0, 0, 0, 1, 0, 1, 0, 0, 0, 1, 0, 1,\n",
              "       0, 1, 1, 0, 0, 1, 0, 0, 0, 1, 1, 0, 0, 1, 1, 0, 0, 0, 0, 0, 0, 0,\n",
              "       0, 0, 1, 1, 0, 0, 1, 0, 0, 1, 0, 1, 0, 0, 0, 0, 0, 0, 1, 0, 0, 0,\n",
              "       0, 0, 0, 0, 0, 0, 1, 0, 0, 1, 1, 0, 0, 0, 0, 1, 0, 1, 0, 0, 0, 0,\n",
              "       0, 0, 0, 1, 0, 1, 0, 0, 1, 1, 1, 1, 0, 0, 1, 0, 1, 0, 0, 0, 0, 1,\n",
              "       0, 1, 1, 0, 1, 0, 0, 0, 0, 0, 0, 0, 0, 0, 0, 0, 0, 1, 1, 0, 0, 0,\n",
              "       0, 0, 1, 0, 1, 0, 0, 1, 1, 0, 0, 0, 0, 0, 0, 1, 0, 0, 0, 0, 0, 1,\n",
              "       0, 1, 0, 0, 0, 1, 0, 1, 0, 0, 1, 0, 1, 0, 0, 1, 1, 0, 0, 1, 1, 0,\n",
              "       0, 0, 0, 0, 1, 1, 1, 1, 0, 0, 0, 0, 1, 0, 1, 1, 1, 0, 0, 1, 1, 0,\n",
              "       0, 1, 0, 0, 0, 0, 1, 0, 0, 1, 1, 0, 0, 1, 1, 0, 1, 0, 1, 0, 0, 0,\n",
              "       0, 0, 0, 0, 1, 0, 0, 1, 0, 0, 0, 0, 1, 1, 0, 1, 0, 1, 1, 0, 0, 1,\n",
              "       1, 0, 0, 1, 0, 1, 0, 0, 0, 1, 1, 0, 1, 1, 0, 0, 1, 0, 0, 1, 0, 0,\n",
              "       1, 0, 0, 0, 1, 1, 1, 1, 0, 1, 0, 0, 0, 0, 0, 1, 1, 0, 0, 0, 0, 0,\n",
              "       0, 0, 0, 1, 1, 0, 0, 1, 0, 1, 0, 1, 0, 0, 1, 0, 1, 1, 1, 0, 0, 1,\n",
              "       0, 0, 0, 0, 0, 0, 0, 0, 0, 1, 0, 0, 0, 0, 0, 0, 0, 0, 0, 1, 0, 0,\n",
              "       1, 1, 1, 0, 0, 0, 0, 0, 0, 0, 0, 0, 0, 1, 0, 0, 0, 0, 0, 0, 0, 1,\n",
              "       1, 1, 1, 0, 0, 0, 0, 1, 0, 0, 1, 0, 0, 1, 0, 1, 0, 1, 0, 1, 0, 0,\n",
              "       0, 1, 1, 0, 1, 0, 1, 0, 1, 1, 1, 0, 0, 0, 0, 0, 1, 0, 0, 0, 1, 0,\n",
              "       0, 1, 0])"
            ]
          },
          "execution_count": 47,
          "metadata": {},
          "output_type": "execute_result"
        }
      ],
      "source": [
        "y_pred_logr"
      ]
    },
    {
      "cell_type": "code",
      "execution_count": null,
      "id": "7291f0de",
      "metadata": {
        "id": "7291f0de"
      },
      "outputs": [],
      "source": [
        "from sklearn.metrics import confusion_matrix"
      ]
    },
    {
      "cell_type": "code",
      "execution_count": null,
      "id": "35ad128c",
      "metadata": {
        "id": "35ad128c",
        "outputId": "265e9a05-8009-4a88-eae4-e238d490d5c7"
      },
      "outputs": [
        {
          "data": {
            "text/plain": [
              "array([[307,  77],\n",
              "       [ 87, 126]])"
            ]
          },
          "execution_count": 49,
          "metadata": {},
          "output_type": "execute_result"
        }
      ],
      "source": [
        "confusion_matrix(y_test,y_pred_logr)"
      ]
    },
    {
      "cell_type": "code",
      "execution_count": null,
      "id": "862a20b1",
      "metadata": {
        "id": "862a20b1"
      },
      "outputs": [],
      "source": [
        "from sklearn.metrics import classification_report"
      ]
    },
    {
      "cell_type": "code",
      "execution_count": null,
      "id": "78826c3d",
      "metadata": {
        "id": "78826c3d",
        "outputId": "23d0d0a4-affe-4f00-96ca-fb30f0dc11b2"
      },
      "outputs": [
        {
          "name": "stdout",
          "output_type": "stream",
          "text": [
            "              precision    recall  f1-score   support\n",
            "\n",
            "           0       0.78      0.80      0.79       384\n",
            "           1       0.62      0.59      0.61       213\n",
            "\n",
            "    accuracy                           0.73       597\n",
            "   macro avg       0.70      0.70      0.70       597\n",
            "weighted avg       0.72      0.73      0.72       597\n",
            "\n"
          ]
        }
      ],
      "source": [
        "print(classification_report(y_test, y_pred_logr))"
      ]
    },
    {
      "cell_type": "markdown",
      "id": "3a3fc4b3",
      "metadata": {
        "id": "3a3fc4b3"
      },
      "source": [
        "## Observations:\n",
        "- Accuracy of Logistic regression is 73%"
      ]
    },
    {
      "cell_type": "markdown",
      "id": "e4c76e25",
      "metadata": {
        "id": "e4c76e25"
      },
      "source": [
        "## Support Vector Machine model"
      ]
    },
    {
      "cell_type": "code",
      "execution_count": null,
      "id": "b6fb250c",
      "metadata": {
        "id": "b6fb250c",
        "outputId": "b42d3496-a5f0-4bce-ccd0-81f667354c9d"
      },
      "outputs": [
        {
          "name": "stdout",
          "output_type": "stream",
          "text": [
            "Fitting 2 folds for each of 600 candidates, totalling 1200 fits\n",
            "[CV] END ...................................C=0.1, gamma=0.1; total time=   0.2s\n",
            "[CV] END ...................................C=0.1, gamma=0.1; total time=   0.2s\n",
            "[CV] END ...................................C=0.1, gamma=0.2; total time=   0.1s\n",
            "[CV] END ...................................C=0.1, gamma=0.2; total time=   0.2s\n",
            "[CV] END ...................................C=0.1, gamma=0.3; total time=   0.1s\n",
            "[CV] END ...................................C=0.1, gamma=0.3; total time=   0.1s\n",
            "[CV] END ...................................C=0.1, gamma=0.4; total time=   0.2s\n",
            "[CV] END ...................................C=0.1, gamma=0.4; total time=   0.1s\n",
            "[CV] END ...................................C=0.1, gamma=0.5; total time=   0.2s\n",
            "[CV] END ...................................C=0.1, gamma=0.5; total time=   0.2s\n",
            "[CV] END ...................................C=0.1, gamma=0.6; total time=   0.1s\n",
            "[CV] END ...................................C=0.1, gamma=0.6; total time=   0.2s\n",
            "[CV] END ...................................C=0.1, gamma=0.7; total time=   0.1s\n",
            "[CV] END ...................................C=0.1, gamma=0.7; total time=   0.1s\n",
            "[CV] END ...................................C=0.1, gamma=0.8; total time=   0.2s\n",
            "[CV] END ...................................C=0.1, gamma=0.8; total time=   0.2s\n",
            "[CV] END ...................................C=0.1, gamma=0.9; total time=   0.2s\n",
            "[CV] END ...................................C=0.1, gamma=0.9; total time=   0.2s\n",
            "[CV] END ...................................C=0.1, gamma=1.0; total time=   0.2s\n",
            "[CV] END ...................................C=0.1, gamma=1.0; total time=   0.2s\n",
            "[CV] END ...................................C=0.1, gamma=1.1; total time=   0.2s\n",
            "[CV] END ...................................C=0.1, gamma=1.1; total time=   0.1s\n",
            "[CV] END ...................................C=0.1, gamma=1.2; total time=   0.2s\n",
            "[CV] END ...................................C=0.1, gamma=1.2; total time=   0.2s\n",
            "[CV] END ...................................C=0.1, gamma=1.3; total time=   0.2s\n",
            "[CV] END ...................................C=0.1, gamma=1.3; total time=   0.2s\n",
            "[CV] END ...................................C=0.1, gamma=1.4; total time=   0.2s\n",
            "[CV] END ...................................C=0.1, gamma=1.4; total time=   0.1s\n",
            "[CV] END ...................................C=0.1, gamma=1.5; total time=   0.2s\n",
            "[CV] END ...................................C=0.1, gamma=1.5; total time=   0.2s\n",
            "[CV] END ...................................C=0.1, gamma=1.6; total time=   0.2s\n",
            "[CV] END ...................................C=0.1, gamma=1.6; total time=   0.2s\n",
            "[CV] END ...................................C=0.1, gamma=1.7; total time=   0.2s\n",
            "[CV] END ...................................C=0.1, gamma=1.7; total time=   0.2s\n",
            "[CV] END ...................................C=0.1, gamma=1.8; total time=   0.2s\n",
            "[CV] END ...................................C=0.1, gamma=1.8; total time=   0.2s\n",
            "[CV] END ...................................C=0.1, gamma=1.9; total time=   0.2s\n",
            "[CV] END ...................................C=0.1, gamma=1.9; total time=   0.2s\n",
            "[CV] END ...................................C=0.1, gamma=2.0; total time=   0.2s\n",
            "[CV] END ...................................C=0.1, gamma=2.0; total time=   0.2s\n",
            "[CV] END ...................................C=0.2, gamma=0.1; total time=   0.2s\n",
            "[CV] END ...................................C=0.2, gamma=0.1; total time=   0.1s\n",
            "[CV] END ...................................C=0.2, gamma=0.2; total time=   0.1s\n",
            "[CV] END ...................................C=0.2, gamma=0.2; total time=   0.2s\n",
            "[CV] END ...................................C=0.2, gamma=0.3; total time=   0.1s\n",
            "[CV] END ...................................C=0.2, gamma=0.3; total time=   0.2s\n",
            "[CV] END ...................................C=0.2, gamma=0.4; total time=   0.2s\n",
            "[CV] END ...................................C=0.2, gamma=0.4; total time=   0.2s\n",
            "[CV] END ...................................C=0.2, gamma=0.5; total time=   0.2s\n",
            "[CV] END ...................................C=0.2, gamma=0.5; total time=   0.1s\n",
            "[CV] END ...................................C=0.2, gamma=0.6; total time=   0.1s\n",
            "[CV] END ...................................C=0.2, gamma=0.6; total time=   0.2s\n",
            "[CV] END ...................................C=0.2, gamma=0.7; total time=   0.2s\n",
            "[CV] END ...................................C=0.2, gamma=0.7; total time=   0.2s\n",
            "[CV] END ...................................C=0.2, gamma=0.8; total time=   0.2s\n",
            "[CV] END ...................................C=0.2, gamma=0.8; total time=   0.1s\n",
            "[CV] END ...................................C=0.2, gamma=0.9; total time=   0.2s\n",
            "[CV] END ...................................C=0.2, gamma=0.9; total time=   0.1s\n",
            "[CV] END ...................................C=0.2, gamma=1.0; total time=   0.2s\n",
            "[CV] END ...................................C=0.2, gamma=1.0; total time=   0.2s\n",
            "[CV] END ...................................C=0.2, gamma=1.1; total time=   0.2s\n",
            "[CV] END ...................................C=0.2, gamma=1.1; total time=   0.2s\n",
            "[CV] END ...................................C=0.2, gamma=1.2; total time=   0.1s\n",
            "[CV] END ...................................C=0.2, gamma=1.2; total time=   0.2s\n",
            "[CV] END ...................................C=0.2, gamma=1.3; total time=   0.1s\n",
            "[CV] END ...................................C=0.2, gamma=1.3; total time=   0.1s\n",
            "[CV] END ...................................C=0.2, gamma=1.4; total time=   0.2s\n",
            "[CV] END ...................................C=0.2, gamma=1.4; total time=   0.2s\n",
            "[CV] END ...................................C=0.2, gamma=1.5; total time=   0.2s\n",
            "[CV] END ...................................C=0.2, gamma=1.5; total time=   0.2s\n",
            "[CV] END ...................................C=0.2, gamma=1.6; total time=   0.2s\n",
            "[CV] END ...................................C=0.2, gamma=1.6; total time=   0.2s\n",
            "[CV] END ...................................C=0.2, gamma=1.7; total time=   0.1s\n",
            "[CV] END ...................................C=0.2, gamma=1.7; total time=   0.1s\n",
            "[CV] END ...................................C=0.2, gamma=1.8; total time=   0.1s\n",
            "[CV] END ...................................C=0.2, gamma=1.8; total time=   0.1s\n",
            "[CV] END ...................................C=0.2, gamma=1.9; total time=   0.1s\n",
            "[CV] END ...................................C=0.2, gamma=1.9; total time=   0.1s\n",
            "[CV] END ...................................C=0.2, gamma=2.0; total time=   0.1s\n",
            "[CV] END ...................................C=0.2, gamma=2.0; total time=   0.1s\n",
            "[CV] END ...................................C=0.3, gamma=0.1; total time=   0.1s\n",
            "[CV] END ...................................C=0.3, gamma=0.1; total time=   0.1s\n",
            "[CV] END ...................................C=0.3, gamma=0.2; total time=   0.1s\n",
            "[CV] END ...................................C=0.3, gamma=0.2; total time=   0.1s\n",
            "[CV] END ...................................C=0.3, gamma=0.3; total time=   0.1s\n",
            "[CV] END ...................................C=0.3, gamma=0.3; total time=   0.1s\n",
            "[CV] END ...................................C=0.3, gamma=0.4; total time=   0.1s\n",
            "[CV] END ...................................C=0.3, gamma=0.4; total time=   0.1s\n",
            "[CV] END ...................................C=0.3, gamma=0.5; total time=   0.1s\n",
            "[CV] END ...................................C=0.3, gamma=0.5; total time=   0.1s\n",
            "[CV] END ...................................C=0.3, gamma=0.6; total time=   0.1s\n",
            "[CV] END ...................................C=0.3, gamma=0.6; total time=   0.1s\n",
            "[CV] END ...................................C=0.3, gamma=0.7; total time=   0.1s\n",
            "[CV] END ...................................C=0.3, gamma=0.7; total time=   0.1s\n",
            "[CV] END ...................................C=0.3, gamma=0.8; total time=   0.1s\n",
            "[CV] END ...................................C=0.3, gamma=0.8; total time=   0.1s\n",
            "[CV] END ...................................C=0.3, gamma=0.9; total time=   0.1s\n",
            "[CV] END ...................................C=0.3, gamma=0.9; total time=   0.1s\n",
            "[CV] END ...................................C=0.3, gamma=1.0; total time=   0.1s\n",
            "[CV] END ...................................C=0.3, gamma=1.0; total time=   0.1s\n",
            "[CV] END ...................................C=0.3, gamma=1.1; total time=   0.1s\n",
            "[CV] END ...................................C=0.3, gamma=1.1; total time=   0.1s\n"
          ]
        },
        {
          "name": "stdout",
          "output_type": "stream",
          "text": [
            "[CV] END ...................................C=0.3, gamma=1.2; total time=   0.1s\n",
            "[CV] END ...................................C=0.3, gamma=1.2; total time=   0.1s\n",
            "[CV] END ...................................C=0.3, gamma=1.3; total time=   0.1s\n",
            "[CV] END ...................................C=0.3, gamma=1.3; total time=   0.1s\n",
            "[CV] END ...................................C=0.3, gamma=1.4; total time=   0.1s\n",
            "[CV] END ...................................C=0.3, gamma=1.4; total time=   0.1s\n",
            "[CV] END ...................................C=0.3, gamma=1.5; total time=   0.1s\n",
            "[CV] END ...................................C=0.3, gamma=1.5; total time=   0.1s\n",
            "[CV] END ...................................C=0.3, gamma=1.6; total time=   0.1s\n",
            "[CV] END ...................................C=0.3, gamma=1.6; total time=   0.1s\n",
            "[CV] END ...................................C=0.3, gamma=1.7; total time=   0.1s\n",
            "[CV] END ...................................C=0.3, gamma=1.7; total time=   0.1s\n",
            "[CV] END ...................................C=0.3, gamma=1.8; total time=   0.1s\n",
            "[CV] END ...................................C=0.3, gamma=1.8; total time=   0.1s\n",
            "[CV] END ...................................C=0.3, gamma=1.9; total time=   0.1s\n",
            "[CV] END ...................................C=0.3, gamma=1.9; total time=   0.1s\n",
            "[CV] END ...................................C=0.3, gamma=2.0; total time=   0.1s\n",
            "[CV] END ...................................C=0.3, gamma=2.0; total time=   0.2s\n",
            "[CV] END ...................................C=0.4, gamma=0.1; total time=   0.1s\n",
            "[CV] END ...................................C=0.4, gamma=0.1; total time=   0.1s\n",
            "[CV] END ...................................C=0.4, gamma=0.2; total time=   0.1s\n",
            "[CV] END ...................................C=0.4, gamma=0.2; total time=   0.1s\n",
            "[CV] END ...................................C=0.4, gamma=0.3; total time=   0.2s\n",
            "[CV] END ...................................C=0.4, gamma=0.3; total time=   0.1s\n",
            "[CV] END ...................................C=0.4, gamma=0.4; total time=   0.1s\n",
            "[CV] END ...................................C=0.4, gamma=0.4; total time=   0.1s\n",
            "[CV] END ...................................C=0.4, gamma=0.5; total time=   0.1s\n",
            "[CV] END ...................................C=0.4, gamma=0.5; total time=   0.1s\n",
            "[CV] END ...................................C=0.4, gamma=0.6; total time=   0.1s\n",
            "[CV] END ...................................C=0.4, gamma=0.6; total time=   0.1s\n",
            "[CV] END ...................................C=0.4, gamma=0.7; total time=   0.1s\n",
            "[CV] END ...................................C=0.4, gamma=0.7; total time=   0.1s\n",
            "[CV] END ...................................C=0.4, gamma=0.8; total time=   0.1s\n",
            "[CV] END ...................................C=0.4, gamma=0.8; total time=   0.1s\n",
            "[CV] END ...................................C=0.4, gamma=0.9; total time=   0.1s\n",
            "[CV] END ...................................C=0.4, gamma=0.9; total time=   0.1s\n",
            "[CV] END ...................................C=0.4, gamma=1.0; total time=   0.1s\n",
            "[CV] END ...................................C=0.4, gamma=1.0; total time=   0.1s\n",
            "[CV] END ...................................C=0.4, gamma=1.1; total time=   0.1s\n",
            "[CV] END ...................................C=0.4, gamma=1.1; total time=   0.1s\n",
            "[CV] END ...................................C=0.4, gamma=1.2; total time=   0.1s\n",
            "[CV] END ...................................C=0.4, gamma=1.2; total time=   0.1s\n",
            "[CV] END ...................................C=0.4, gamma=1.3; total time=   0.2s\n",
            "[CV] END ...................................C=0.4, gamma=1.3; total time=   0.2s\n",
            "[CV] END ...................................C=0.4, gamma=1.4; total time=   0.2s\n",
            "[CV] END ...................................C=0.4, gamma=1.4; total time=   0.2s\n",
            "[CV] END ...................................C=0.4, gamma=1.5; total time=   0.1s\n",
            "[CV] END ...................................C=0.4, gamma=1.5; total time=   0.1s\n",
            "[CV] END ...................................C=0.4, gamma=1.6; total time=   0.1s\n",
            "[CV] END ...................................C=0.4, gamma=1.6; total time=   0.1s\n",
            "[CV] END ...................................C=0.4, gamma=1.7; total time=   0.1s\n",
            "[CV] END ...................................C=0.4, gamma=1.7; total time=   0.1s\n",
            "[CV] END ...................................C=0.4, gamma=1.8; total time=   0.1s\n",
            "[CV] END ...................................C=0.4, gamma=1.8; total time=   0.2s\n",
            "[CV] END ...................................C=0.4, gamma=1.9; total time=   0.2s\n",
            "[CV] END ...................................C=0.4, gamma=1.9; total time=   0.1s\n",
            "[CV] END ...................................C=0.4, gamma=2.0; total time=   0.1s\n",
            "[CV] END ...................................C=0.4, gamma=2.0; total time=   0.1s\n",
            "[CV] END ...................................C=0.5, gamma=0.1; total time=   0.1s\n",
            "[CV] END ...................................C=0.5, gamma=0.1; total time=   0.1s\n",
            "[CV] END ...................................C=0.5, gamma=0.2; total time=   0.1s\n",
            "[CV] END ...................................C=0.5, gamma=0.2; total time=   0.1s\n",
            "[CV] END ...................................C=0.5, gamma=0.3; total time=   0.1s\n",
            "[CV] END ...................................C=0.5, gamma=0.3; total time=   0.1s\n",
            "[CV] END ...................................C=0.5, gamma=0.4; total time=   0.1s\n",
            "[CV] END ...................................C=0.5, gamma=0.4; total time=   0.1s\n",
            "[CV] END ...................................C=0.5, gamma=0.5; total time=   0.1s\n",
            "[CV] END ...................................C=0.5, gamma=0.5; total time=   0.1s\n",
            "[CV] END ...................................C=0.5, gamma=0.6; total time=   0.1s\n",
            "[CV] END ...................................C=0.5, gamma=0.6; total time=   0.1s\n",
            "[CV] END ...................................C=0.5, gamma=0.7; total time=   0.1s\n",
            "[CV] END ...................................C=0.5, gamma=0.7; total time=   0.1s\n",
            "[CV] END ...................................C=0.5, gamma=0.8; total time=   0.1s\n",
            "[CV] END ...................................C=0.5, gamma=0.8; total time=   0.1s\n",
            "[CV] END ...................................C=0.5, gamma=0.9; total time=   0.1s\n",
            "[CV] END ...................................C=0.5, gamma=0.9; total time=   0.2s\n",
            "[CV] END ...................................C=0.5, gamma=1.0; total time=   0.2s\n",
            "[CV] END ...................................C=0.5, gamma=1.0; total time=   0.1s\n",
            "[CV] END ...................................C=0.5, gamma=1.1; total time=   0.2s\n",
            "[CV] END ...................................C=0.5, gamma=1.1; total time=   0.2s\n",
            "[CV] END ...................................C=0.5, gamma=1.2; total time=   0.2s\n",
            "[CV] END ...................................C=0.5, gamma=1.2; total time=   0.2s\n",
            "[CV] END ...................................C=0.5, gamma=1.3; total time=   0.2s\n",
            "[CV] END ...................................C=0.5, gamma=1.3; total time=   0.1s\n",
            "[CV] END ...................................C=0.5, gamma=1.4; total time=   0.1s\n",
            "[CV] END ...................................C=0.5, gamma=1.4; total time=   0.1s\n",
            "[CV] END ...................................C=0.5, gamma=1.5; total time=   0.1s\n",
            "[CV] END ...................................C=0.5, gamma=1.5; total time=   0.1s\n",
            "[CV] END ...................................C=0.5, gamma=1.6; total time=   0.1s\n",
            "[CV] END ...................................C=0.5, gamma=1.6; total time=   0.2s\n",
            "[CV] END ...................................C=0.5, gamma=1.7; total time=   0.1s\n",
            "[CV] END ...................................C=0.5, gamma=1.7; total time=   0.1s\n",
            "[CV] END ...................................C=0.5, gamma=1.8; total time=   0.2s\n",
            "[CV] END ...................................C=0.5, gamma=1.8; total time=   0.2s\n",
            "[CV] END ...................................C=0.5, gamma=1.9; total time=   0.2s\n",
            "[CV] END ...................................C=0.5, gamma=1.9; total time=   0.2s\n",
            "[CV] END ...................................C=0.5, gamma=2.0; total time=   0.2s\n",
            "[CV] END ...................................C=0.5, gamma=2.0; total time=   0.2s\n",
            "[CV] END ...................................C=0.6, gamma=0.1; total time=   0.1s\n",
            "[CV] END ...................................C=0.6, gamma=0.1; total time=   0.1s\n",
            "[CV] END ...................................C=0.6, gamma=0.2; total time=   0.1s\n",
            "[CV] END ...................................C=0.6, gamma=0.2; total time=   0.1s\n"
          ]
        },
        {
          "name": "stdout",
          "output_type": "stream",
          "text": [
            "[CV] END ...................................C=0.6, gamma=0.3; total time=   0.1s\n",
            "[CV] END ...................................C=0.6, gamma=0.3; total time=   0.1s\n",
            "[CV] END ...................................C=0.6, gamma=0.4; total time=   0.1s\n",
            "[CV] END ...................................C=0.6, gamma=0.4; total time=   0.1s\n",
            "[CV] END ...................................C=0.6, gamma=0.5; total time=   0.1s\n",
            "[CV] END ...................................C=0.6, gamma=0.5; total time=   0.1s\n",
            "[CV] END ...................................C=0.6, gamma=0.6; total time=   0.1s\n",
            "[CV] END ...................................C=0.6, gamma=0.6; total time=   0.1s\n",
            "[CV] END ...................................C=0.6, gamma=0.7; total time=   0.2s\n",
            "[CV] END ...................................C=0.6, gamma=0.7; total time=   0.2s\n",
            "[CV] END ...................................C=0.6, gamma=0.8; total time=   0.2s\n",
            "[CV] END ...................................C=0.6, gamma=0.8; total time=   0.2s\n",
            "[CV] END ...................................C=0.6, gamma=0.9; total time=   0.2s\n",
            "[CV] END ...................................C=0.6, gamma=0.9; total time=   0.2s\n",
            "[CV] END ...................................C=0.6, gamma=1.0; total time=   0.2s\n",
            "[CV] END ...................................C=0.6, gamma=1.0; total time=   0.1s\n",
            "[CV] END ...................................C=0.6, gamma=1.1; total time=   0.1s\n",
            "[CV] END ...................................C=0.6, gamma=1.1; total time=   0.1s\n",
            "[CV] END ...................................C=0.6, gamma=1.2; total time=   0.1s\n",
            "[CV] END ...................................C=0.6, gamma=1.2; total time=   0.1s\n",
            "[CV] END ...................................C=0.6, gamma=1.3; total time=   0.1s\n",
            "[CV] END ...................................C=0.6, gamma=1.3; total time=   0.1s\n",
            "[CV] END ...................................C=0.6, gamma=1.4; total time=   0.1s\n",
            "[CV] END ...................................C=0.6, gamma=1.4; total time=   0.1s\n",
            "[CV] END ...................................C=0.6, gamma=1.5; total time=   0.1s\n",
            "[CV] END ...................................C=0.6, gamma=1.5; total time=   0.1s\n",
            "[CV] END ...................................C=0.6, gamma=1.6; total time=   0.1s\n",
            "[CV] END ...................................C=0.6, gamma=1.6; total time=   0.1s\n",
            "[CV] END ...................................C=0.6, gamma=1.7; total time=   0.2s\n",
            "[CV] END ...................................C=0.6, gamma=1.7; total time=   0.1s\n",
            "[CV] END ...................................C=0.6, gamma=1.8; total time=   0.1s\n",
            "[CV] END ...................................C=0.6, gamma=1.8; total time=   0.1s\n",
            "[CV] END ...................................C=0.6, gamma=1.9; total time=   0.1s\n",
            "[CV] END ...................................C=0.6, gamma=1.9; total time=   0.1s\n",
            "[CV] END ...................................C=0.6, gamma=2.0; total time=   0.1s\n",
            "[CV] END ...................................C=0.6, gamma=2.0; total time=   0.1s\n",
            "[CV] END ...................................C=0.7, gamma=0.1; total time=   0.1s\n",
            "[CV] END ...................................C=0.7, gamma=0.1; total time=   0.1s\n",
            "[CV] END ...................................C=0.7, gamma=0.2; total time=   0.1s\n",
            "[CV] END ...................................C=0.7, gamma=0.2; total time=   0.1s\n",
            "[CV] END ...................................C=0.7, gamma=0.3; total time=   0.1s\n",
            "[CV] END ...................................C=0.7, gamma=0.3; total time=   0.1s\n",
            "[CV] END ...................................C=0.7, gamma=0.4; total time=   0.1s\n",
            "[CV] END ...................................C=0.7, gamma=0.4; total time=   0.1s\n",
            "[CV] END ...................................C=0.7, gamma=0.5; total time=   0.1s\n",
            "[CV] END ...................................C=0.7, gamma=0.5; total time=   0.1s\n",
            "[CV] END ...................................C=0.7, gamma=0.6; total time=   0.1s\n",
            "[CV] END ...................................C=0.7, gamma=0.6; total time=   0.1s\n",
            "[CV] END ...................................C=0.7, gamma=0.7; total time=   0.1s\n",
            "[CV] END ...................................C=0.7, gamma=0.7; total time=   0.1s\n",
            "[CV] END ...................................C=0.7, gamma=0.8; total time=   0.1s\n",
            "[CV] END ...................................C=0.7, gamma=0.8; total time=   0.2s\n",
            "[CV] END ...................................C=0.7, gamma=0.9; total time=   0.2s\n",
            "[CV] END ...................................C=0.7, gamma=0.9; total time=   0.2s\n",
            "[CV] END ...................................C=0.7, gamma=1.0; total time=   0.1s\n",
            "[CV] END ...................................C=0.7, gamma=1.0; total time=   0.1s\n",
            "[CV] END ...................................C=0.7, gamma=1.1; total time=   0.2s\n",
            "[CV] END ...................................C=0.7, gamma=1.1; total time=   0.1s\n",
            "[CV] END ...................................C=0.7, gamma=1.2; total time=   0.1s\n",
            "[CV] END ...................................C=0.7, gamma=1.2; total time=   0.1s\n",
            "[CV] END ...................................C=0.7, gamma=1.3; total time=   0.1s\n",
            "[CV] END ...................................C=0.7, gamma=1.3; total time=   0.1s\n",
            "[CV] END ...................................C=0.7, gamma=1.4; total time=   0.1s\n",
            "[CV] END ...................................C=0.7, gamma=1.4; total time=   0.1s\n",
            "[CV] END ...................................C=0.7, gamma=1.5; total time=   0.1s\n",
            "[CV] END ...................................C=0.7, gamma=1.5; total time=   0.2s\n",
            "[CV] END ...................................C=0.7, gamma=1.6; total time=   0.2s\n",
            "[CV] END ...................................C=0.7, gamma=1.6; total time=   0.1s\n",
            "[CV] END ...................................C=0.7, gamma=1.7; total time=   0.1s\n",
            "[CV] END ...................................C=0.7, gamma=1.7; total time=   0.1s\n",
            "[CV] END ...................................C=0.7, gamma=1.8; total time=   0.3s\n",
            "[CV] END ...................................C=0.7, gamma=1.8; total time=   0.2s\n",
            "[CV] END ...................................C=0.7, gamma=1.9; total time=   0.3s\n",
            "[CV] END ...................................C=0.7, gamma=1.9; total time=   0.1s\n",
            "[CV] END ...................................C=0.7, gamma=2.0; total time=   0.2s\n",
            "[CV] END ...................................C=0.7, gamma=2.0; total time=   0.2s\n",
            "[CV] END ...................................C=0.8, gamma=0.1; total time=   0.1s\n",
            "[CV] END ...................................C=0.8, gamma=0.1; total time=   0.1s\n",
            "[CV] END ...................................C=0.8, gamma=0.2; total time=   0.1s\n",
            "[CV] END ...................................C=0.8, gamma=0.2; total time=   0.1s\n",
            "[CV] END ...................................C=0.8, gamma=0.3; total time=   0.1s\n",
            "[CV] END ...................................C=0.8, gamma=0.3; total time=   0.1s\n",
            "[CV] END ...................................C=0.8, gamma=0.4; total time=   0.1s\n",
            "[CV] END ...................................C=0.8, gamma=0.4; total time=   0.1s\n",
            "[CV] END ...................................C=0.8, gamma=0.5; total time=   0.1s\n",
            "[CV] END ...................................C=0.8, gamma=0.5; total time=   0.1s\n",
            "[CV] END ...................................C=0.8, gamma=0.6; total time=   0.2s\n",
            "[CV] END ...................................C=0.8, gamma=0.6; total time=   0.2s\n",
            "[CV] END ...................................C=0.8, gamma=0.7; total time=   0.1s\n",
            "[CV] END ...................................C=0.8, gamma=0.7; total time=   0.2s\n",
            "[CV] END ...................................C=0.8, gamma=0.8; total time=   0.2s\n",
            "[CV] END ...................................C=0.8, gamma=0.8; total time=   0.1s\n",
            "[CV] END ...................................C=0.8, gamma=0.9; total time=   0.1s\n",
            "[CV] END ...................................C=0.8, gamma=0.9; total time=   0.1s\n",
            "[CV] END ...................................C=0.8, gamma=1.0; total time=   0.1s\n",
            "[CV] END ...................................C=0.8, gamma=1.0; total time=   0.1s\n",
            "[CV] END ...................................C=0.8, gamma=1.1; total time=   0.1s\n",
            "[CV] END ...................................C=0.8, gamma=1.1; total time=   0.1s\n",
            "[CV] END ...................................C=0.8, gamma=1.2; total time=   0.1s\n",
            "[CV] END ...................................C=0.8, gamma=1.2; total time=   0.1s\n",
            "[CV] END ...................................C=0.8, gamma=1.3; total time=   0.1s\n",
            "[CV] END ...................................C=0.8, gamma=1.3; total time=   0.1s\n",
            "[CV] END ...................................C=0.8, gamma=1.4; total time=   0.1s\n"
          ]
        },
        {
          "name": "stdout",
          "output_type": "stream",
          "text": [
            "[CV] END ...................................C=0.8, gamma=1.4; total time=   0.1s\n",
            "[CV] END ...................................C=0.8, gamma=1.5; total time=   0.1s\n",
            "[CV] END ...................................C=0.8, gamma=1.5; total time=   0.1s\n",
            "[CV] END ...................................C=0.8, gamma=1.6; total time=   0.1s\n",
            "[CV] END ...................................C=0.8, gamma=1.6; total time=   0.1s\n",
            "[CV] END ...................................C=0.8, gamma=1.7; total time=   0.1s\n",
            "[CV] END ...................................C=0.8, gamma=1.7; total time=   0.1s\n",
            "[CV] END ...................................C=0.8, gamma=1.8; total time=   0.1s\n",
            "[CV] END ...................................C=0.8, gamma=1.8; total time=   0.1s\n",
            "[CV] END ...................................C=0.8, gamma=1.9; total time=   0.1s\n",
            "[CV] END ...................................C=0.8, gamma=1.9; total time=   0.1s\n",
            "[CV] END ...................................C=0.8, gamma=2.0; total time=   0.1s\n",
            "[CV] END ...................................C=0.8, gamma=2.0; total time=   0.2s\n",
            "[CV] END ...................................C=0.9, gamma=0.1; total time=   0.1s\n",
            "[CV] END ...................................C=0.9, gamma=0.1; total time=   0.1s\n",
            "[CV] END ...................................C=0.9, gamma=0.2; total time=   0.1s\n",
            "[CV] END ...................................C=0.9, gamma=0.2; total time=   0.1s\n",
            "[CV] END ...................................C=0.9, gamma=0.3; total time=   0.1s\n",
            "[CV] END ...................................C=0.9, gamma=0.3; total time=   0.1s\n",
            "[CV] END ...................................C=0.9, gamma=0.4; total time=   0.1s\n",
            "[CV] END ...................................C=0.9, gamma=0.4; total time=   0.1s\n",
            "[CV] END ...................................C=0.9, gamma=0.5; total time=   0.2s\n",
            "[CV] END ...................................C=0.9, gamma=0.5; total time=   0.2s\n",
            "[CV] END ...................................C=0.9, gamma=0.6; total time=   0.1s\n",
            "[CV] END ...................................C=0.9, gamma=0.6; total time=   0.2s\n",
            "[CV] END ...................................C=0.9, gamma=0.7; total time=   0.1s\n",
            "[CV] END ...................................C=0.9, gamma=0.7; total time=   0.1s\n",
            "[CV] END ...................................C=0.9, gamma=0.8; total time=   0.1s\n",
            "[CV] END ...................................C=0.9, gamma=0.8; total time=   0.1s\n",
            "[CV] END ...................................C=0.9, gamma=0.9; total time=   0.3s\n",
            "[CV] END ...................................C=0.9, gamma=0.9; total time=   0.2s\n",
            "[CV] END ...................................C=0.9, gamma=1.0; total time=   0.2s\n",
            "[CV] END ...................................C=0.9, gamma=1.0; total time=   0.1s\n",
            "[CV] END ...................................C=0.9, gamma=1.1; total time=   0.1s\n",
            "[CV] END ...................................C=0.9, gamma=1.1; total time=   0.1s\n",
            "[CV] END ...................................C=0.9, gamma=1.2; total time=   0.1s\n",
            "[CV] END ...................................C=0.9, gamma=1.2; total time=   0.1s\n",
            "[CV] END ...................................C=0.9, gamma=1.3; total time=   0.1s\n",
            "[CV] END ...................................C=0.9, gamma=1.3; total time=   0.1s\n",
            "[CV] END ...................................C=0.9, gamma=1.4; total time=   0.1s\n",
            "[CV] END ...................................C=0.9, gamma=1.4; total time=   0.1s\n",
            "[CV] END ...................................C=0.9, gamma=1.5; total time=   0.1s\n",
            "[CV] END ...................................C=0.9, gamma=1.5; total time=   0.1s\n",
            "[CV] END ...................................C=0.9, gamma=1.6; total time=   0.1s\n",
            "[CV] END ...................................C=0.9, gamma=1.6; total time=   0.1s\n",
            "[CV] END ...................................C=0.9, gamma=1.7; total time=   0.1s\n",
            "[CV] END ...................................C=0.9, gamma=1.7; total time=   0.1s\n",
            "[CV] END ...................................C=0.9, gamma=1.8; total time=   0.2s\n",
            "[CV] END ...................................C=0.9, gamma=1.8; total time=   0.1s\n",
            "[CV] END ...................................C=0.9, gamma=1.9; total time=   0.1s\n",
            "[CV] END ...................................C=0.9, gamma=1.9; total time=   0.1s\n",
            "[CV] END ...................................C=0.9, gamma=2.0; total time=   0.1s\n",
            "[CV] END ...................................C=0.9, gamma=2.0; total time=   0.1s\n",
            "[CV] END ...................................C=1.0, gamma=0.1; total time=   0.1s\n",
            "[CV] END ...................................C=1.0, gamma=0.1; total time=   0.1s\n",
            "[CV] END ...................................C=1.0, gamma=0.2; total time=   0.1s\n",
            "[CV] END ...................................C=1.0, gamma=0.2; total time=   0.1s\n",
            "[CV] END ...................................C=1.0, gamma=0.3; total time=   0.1s\n",
            "[CV] END ...................................C=1.0, gamma=0.3; total time=   0.1s\n",
            "[CV] END ...................................C=1.0, gamma=0.4; total time=   0.1s\n",
            "[CV] END ...................................C=1.0, gamma=0.4; total time=   0.1s\n",
            "[CV] END ...................................C=1.0, gamma=0.5; total time=   0.1s\n",
            "[CV] END ...................................C=1.0, gamma=0.5; total time=   0.1s\n",
            "[CV] END ...................................C=1.0, gamma=0.6; total time=   0.1s\n",
            "[CV] END ...................................C=1.0, gamma=0.6; total time=   0.1s\n",
            "[CV] END ...................................C=1.0, gamma=0.7; total time=   0.1s\n",
            "[CV] END ...................................C=1.0, gamma=0.7; total time=   0.1s\n",
            "[CV] END ...................................C=1.0, gamma=0.8; total time=   0.1s\n",
            "[CV] END ...................................C=1.0, gamma=0.8; total time=   0.1s\n",
            "[CV] END ...................................C=1.0, gamma=0.9; total time=   0.1s\n",
            "[CV] END ...................................C=1.0, gamma=0.9; total time=   0.1s\n",
            "[CV] END ...................................C=1.0, gamma=1.0; total time=   0.1s\n",
            "[CV] END ...................................C=1.0, gamma=1.0; total time=   0.1s\n",
            "[CV] END ...................................C=1.0, gamma=1.1; total time=   0.1s\n",
            "[CV] END ...................................C=1.0, gamma=1.1; total time=   0.1s\n",
            "[CV] END ...................................C=1.0, gamma=1.2; total time=   0.1s\n",
            "[CV] END ...................................C=1.0, gamma=1.2; total time=   0.1s\n",
            "[CV] END ...................................C=1.0, gamma=1.3; total time=   0.1s\n",
            "[CV] END ...................................C=1.0, gamma=1.3; total time=   0.2s\n",
            "[CV] END ...................................C=1.0, gamma=1.4; total time=   0.2s\n",
            "[CV] END ...................................C=1.0, gamma=1.4; total time=   0.1s\n",
            "[CV] END ...................................C=1.0, gamma=1.5; total time=   0.2s\n",
            "[CV] END ...................................C=1.0, gamma=1.5; total time=   0.1s\n",
            "[CV] END ...................................C=1.0, gamma=1.6; total time=   0.2s\n",
            "[CV] END ...................................C=1.0, gamma=1.6; total time=   0.1s\n",
            "[CV] END ...................................C=1.0, gamma=1.7; total time=   0.1s\n",
            "[CV] END ...................................C=1.0, gamma=1.7; total time=   0.1s\n",
            "[CV] END ...................................C=1.0, gamma=1.8; total time=   0.2s\n",
            "[CV] END ...................................C=1.0, gamma=1.8; total time=   0.1s\n",
            "[CV] END ...................................C=1.0, gamma=1.9; total time=   0.1s\n",
            "[CV] END ...................................C=1.0, gamma=1.9; total time=   0.1s\n",
            "[CV] END ...................................C=1.0, gamma=2.0; total time=   0.1s\n",
            "[CV] END ...................................C=1.0, gamma=2.0; total time=   0.1s\n",
            "[CV] END ...................................C=1.1, gamma=0.1; total time=   0.1s\n",
            "[CV] END ...................................C=1.1, gamma=0.1; total time=   0.1s\n",
            "[CV] END ...................................C=1.1, gamma=0.2; total time=   0.1s\n",
            "[CV] END ...................................C=1.1, gamma=0.2; total time=   0.1s\n",
            "[CV] END ...................................C=1.1, gamma=0.3; total time=   0.1s\n",
            "[CV] END ...................................C=1.1, gamma=0.3; total time=   0.1s\n",
            "[CV] END ...................................C=1.1, gamma=0.4; total time=   0.1s\n",
            "[CV] END ...................................C=1.1, gamma=0.4; total time=   0.1s\n",
            "[CV] END ...................................C=1.1, gamma=0.5; total time=   0.1s\n",
            "[CV] END ...................................C=1.1, gamma=0.5; total time=   0.1s\n"
          ]
        },
        {
          "name": "stdout",
          "output_type": "stream",
          "text": [
            "[CV] END ...................................C=1.1, gamma=0.6; total time=   0.1s\n",
            "[CV] END ...................................C=1.1, gamma=0.6; total time=   0.1s\n",
            "[CV] END ...................................C=1.1, gamma=0.7; total time=   0.1s\n",
            "[CV] END ...................................C=1.1, gamma=0.7; total time=   0.1s\n",
            "[CV] END ...................................C=1.1, gamma=0.8; total time=   0.1s\n",
            "[CV] END ...................................C=1.1, gamma=0.8; total time=   0.1s\n",
            "[CV] END ...................................C=1.1, gamma=0.9; total time=   0.1s\n",
            "[CV] END ...................................C=1.1, gamma=0.9; total time=   0.1s\n",
            "[CV] END ...................................C=1.1, gamma=1.0; total time=   0.1s\n",
            "[CV] END ...................................C=1.1, gamma=1.0; total time=   0.1s\n",
            "[CV] END ...................................C=1.1, gamma=1.1; total time=   0.1s\n",
            "[CV] END ...................................C=1.1, gamma=1.1; total time=   0.1s\n",
            "[CV] END ...................................C=1.1, gamma=1.2; total time=   0.1s\n",
            "[CV] END ...................................C=1.1, gamma=1.2; total time=   0.1s\n",
            "[CV] END ...................................C=1.1, gamma=1.3; total time=   0.1s\n",
            "[CV] END ...................................C=1.1, gamma=1.3; total time=   0.1s\n",
            "[CV] END ...................................C=1.1, gamma=1.4; total time=   0.1s\n",
            "[CV] END ...................................C=1.1, gamma=1.4; total time=   0.1s\n",
            "[CV] END ...................................C=1.1, gamma=1.5; total time=   0.1s\n",
            "[CV] END ...................................C=1.1, gamma=1.5; total time=   0.1s\n",
            "[CV] END ...................................C=1.1, gamma=1.6; total time=   0.1s\n",
            "[CV] END ...................................C=1.1, gamma=1.6; total time=   0.1s\n",
            "[CV] END ...................................C=1.1, gamma=1.7; total time=   0.2s\n",
            "[CV] END ...................................C=1.1, gamma=1.7; total time=   0.2s\n",
            "[CV] END ...................................C=1.1, gamma=1.8; total time=   0.1s\n",
            "[CV] END ...................................C=1.1, gamma=1.8; total time=   0.1s\n",
            "[CV] END ...................................C=1.1, gamma=1.9; total time=   0.1s\n",
            "[CV] END ...................................C=1.1, gamma=1.9; total time=   0.1s\n",
            "[CV] END ...................................C=1.1, gamma=2.0; total time=   0.1s\n",
            "[CV] END ...................................C=1.1, gamma=2.0; total time=   0.1s\n",
            "[CV] END ...................................C=1.2, gamma=0.1; total time=   0.1s\n",
            "[CV] END ...................................C=1.2, gamma=0.1; total time=   0.1s\n",
            "[CV] END ...................................C=1.2, gamma=0.2; total time=   0.1s\n",
            "[CV] END ...................................C=1.2, gamma=0.2; total time=   0.1s\n",
            "[CV] END ...................................C=1.2, gamma=0.3; total time=   0.1s\n",
            "[CV] END ...................................C=1.2, gamma=0.3; total time=   0.1s\n",
            "[CV] END ...................................C=1.2, gamma=0.4; total time=   0.1s\n",
            "[CV] END ...................................C=1.2, gamma=0.4; total time=   0.1s\n",
            "[CV] END ...................................C=1.2, gamma=0.5; total time=   0.1s\n",
            "[CV] END ...................................C=1.2, gamma=0.5; total time=   0.1s\n",
            "[CV] END ...................................C=1.2, gamma=0.6; total time=   0.1s\n",
            "[CV] END ...................................C=1.2, gamma=0.6; total time=   0.1s\n",
            "[CV] END ...................................C=1.2, gamma=0.7; total time=   0.1s\n",
            "[CV] END ...................................C=1.2, gamma=0.7; total time=   0.1s\n",
            "[CV] END ...................................C=1.2, gamma=0.8; total time=   0.1s\n",
            "[CV] END ...................................C=1.2, gamma=0.8; total time=   0.1s\n",
            "[CV] END ...................................C=1.2, gamma=0.9; total time=   0.1s\n",
            "[CV] END ...................................C=1.2, gamma=0.9; total time=   0.1s\n",
            "[CV] END ...................................C=1.2, gamma=1.0; total time=   0.1s\n",
            "[CV] END ...................................C=1.2, gamma=1.0; total time=   0.1s\n",
            "[CV] END ...................................C=1.2, gamma=1.1; total time=   0.1s\n",
            "[CV] END ...................................C=1.2, gamma=1.1; total time=   0.1s\n",
            "[CV] END ...................................C=1.2, gamma=1.2; total time=   0.1s\n",
            "[CV] END ...................................C=1.2, gamma=1.2; total time=   0.1s\n",
            "[CV] END ...................................C=1.2, gamma=1.3; total time=   0.2s\n",
            "[CV] END ...................................C=1.2, gamma=1.3; total time=   0.2s\n",
            "[CV] END ...................................C=1.2, gamma=1.4; total time=   0.1s\n",
            "[CV] END ...................................C=1.2, gamma=1.4; total time=   0.2s\n",
            "[CV] END ...................................C=1.2, gamma=1.5; total time=   0.1s\n",
            "[CV] END ...................................C=1.2, gamma=1.5; total time=   0.1s\n",
            "[CV] END ...................................C=1.2, gamma=1.6; total time=   0.1s\n",
            "[CV] END ...................................C=1.2, gamma=1.6; total time=   0.1s\n",
            "[CV] END ...................................C=1.2, gamma=1.7; total time=   0.1s\n",
            "[CV] END ...................................C=1.2, gamma=1.7; total time=   0.1s\n",
            "[CV] END ...................................C=1.2, gamma=1.8; total time=   0.1s\n",
            "[CV] END ...................................C=1.2, gamma=1.8; total time=   0.1s\n",
            "[CV] END ...................................C=1.2, gamma=1.9; total time=   0.1s\n",
            "[CV] END ...................................C=1.2, gamma=1.9; total time=   0.1s\n",
            "[CV] END ...................................C=1.2, gamma=2.0; total time=   0.1s\n",
            "[CV] END ...................................C=1.2, gamma=2.0; total time=   0.1s\n",
            "[CV] END ...................................C=1.3, gamma=0.1; total time=   0.1s\n",
            "[CV] END ...................................C=1.3, gamma=0.1; total time=   0.1s\n",
            "[CV] END ...................................C=1.3, gamma=0.2; total time=   0.1s\n",
            "[CV] END ...................................C=1.3, gamma=0.2; total time=   0.1s\n",
            "[CV] END ...................................C=1.3, gamma=0.3; total time=   0.1s\n",
            "[CV] END ...................................C=1.3, gamma=0.3; total time=   0.1s\n",
            "[CV] END ...................................C=1.3, gamma=0.4; total time=   0.1s\n",
            "[CV] END ...................................C=1.3, gamma=0.4; total time=   0.1s\n",
            "[CV] END ...................................C=1.3, gamma=0.5; total time=   0.1s\n",
            "[CV] END ...................................C=1.3, gamma=0.5; total time=   0.1s\n",
            "[CV] END ...................................C=1.3, gamma=0.6; total time=   0.1s\n",
            "[CV] END ...................................C=1.3, gamma=0.6; total time=   0.1s\n",
            "[CV] END ...................................C=1.3, gamma=0.7; total time=   0.3s\n",
            "[CV] END ...................................C=1.3, gamma=0.7; total time=   0.2s\n",
            "[CV] END ...................................C=1.3, gamma=0.8; total time=   0.1s\n",
            "[CV] END ...................................C=1.3, gamma=0.8; total time=   0.2s\n",
            "[CV] END ...................................C=1.3, gamma=0.9; total time=   0.1s\n",
            "[CV] END ...................................C=1.3, gamma=0.9; total time=   0.2s\n",
            "[CV] END ...................................C=1.3, gamma=1.0; total time=   0.1s\n",
            "[CV] END ...................................C=1.3, gamma=1.0; total time=   0.2s\n",
            "[CV] END ...................................C=1.3, gamma=1.1; total time=   0.1s\n",
            "[CV] END ...................................C=1.3, gamma=1.1; total time=   0.1s\n",
            "[CV] END ...................................C=1.3, gamma=1.2; total time=   0.1s\n",
            "[CV] END ...................................C=1.3, gamma=1.2; total time=   0.1s\n",
            "[CV] END ...................................C=1.3, gamma=1.3; total time=   0.1s\n",
            "[CV] END ...................................C=1.3, gamma=1.3; total time=   0.1s\n",
            "[CV] END ...................................C=1.3, gamma=1.4; total time=   0.1s\n",
            "[CV] END ...................................C=1.3, gamma=1.4; total time=   0.1s\n",
            "[CV] END ...................................C=1.3, gamma=1.5; total time=   0.1s\n",
            "[CV] END ...................................C=1.3, gamma=1.5; total time=   0.1s\n",
            "[CV] END ...................................C=1.3, gamma=1.6; total time=   0.1s\n",
            "[CV] END ...................................C=1.3, gamma=1.6; total time=   0.1s\n"
          ]
        },
        {
          "name": "stdout",
          "output_type": "stream",
          "text": [
            "[CV] END ...................................C=1.3, gamma=1.7; total time=   0.1s\n",
            "[CV] END ...................................C=1.3, gamma=1.7; total time=   0.1s\n",
            "[CV] END ...................................C=1.3, gamma=1.8; total time=   0.1s\n",
            "[CV] END ...................................C=1.3, gamma=1.8; total time=   0.1s\n",
            "[CV] END ...................................C=1.3, gamma=1.9; total time=   0.1s\n",
            "[CV] END ...................................C=1.3, gamma=1.9; total time=   0.1s\n",
            "[CV] END ...................................C=1.3, gamma=2.0; total time=   0.1s\n",
            "[CV] END ...................................C=1.3, gamma=2.0; total time=   0.1s\n",
            "[CV] END ...................................C=1.4, gamma=0.1; total time=   0.1s\n",
            "[CV] END ...................................C=1.4, gamma=0.1; total time=   0.1s\n",
            "[CV] END ...................................C=1.4, gamma=0.2; total time=   0.1s\n",
            "[CV] END ...................................C=1.4, gamma=0.2; total time=   0.1s\n",
            "[CV] END ...................................C=1.4, gamma=0.3; total time=   0.1s\n",
            "[CV] END ...................................C=1.4, gamma=0.3; total time=   0.1s\n",
            "[CV] END ...................................C=1.4, gamma=0.4; total time=   0.1s\n",
            "[CV] END ...................................C=1.4, gamma=0.4; total time=   0.1s\n",
            "[CV] END ...................................C=1.4, gamma=0.5; total time=   0.1s\n",
            "[CV] END ...................................C=1.4, gamma=0.5; total time=   0.1s\n",
            "[CV] END ...................................C=1.4, gamma=0.6; total time=   0.1s\n",
            "[CV] END ...................................C=1.4, gamma=0.6; total time=   0.1s\n",
            "[CV] END ...................................C=1.4, gamma=0.7; total time=   0.1s\n",
            "[CV] END ...................................C=1.4, gamma=0.7; total time=   0.1s\n",
            "[CV] END ...................................C=1.4, gamma=0.8; total time=   0.1s\n",
            "[CV] END ...................................C=1.4, gamma=0.8; total time=   0.1s\n",
            "[CV] END ...................................C=1.4, gamma=0.9; total time=   0.1s\n",
            "[CV] END ...................................C=1.4, gamma=0.9; total time=   0.1s\n",
            "[CV] END ...................................C=1.4, gamma=1.0; total time=   0.1s\n",
            "[CV] END ...................................C=1.4, gamma=1.0; total time=   0.1s\n",
            "[CV] END ...................................C=1.4, gamma=1.1; total time=   0.1s\n",
            "[CV] END ...................................C=1.4, gamma=1.1; total time=   0.1s\n",
            "[CV] END ...................................C=1.4, gamma=1.2; total time=   0.1s\n",
            "[CV] END ...................................C=1.4, gamma=1.2; total time=   0.1s\n",
            "[CV] END ...................................C=1.4, gamma=1.3; total time=   0.1s\n",
            "[CV] END ...................................C=1.4, gamma=1.3; total time=   0.1s\n",
            "[CV] END ...................................C=1.4, gamma=1.4; total time=   0.1s\n",
            "[CV] END ...................................C=1.4, gamma=1.4; total time=   0.1s\n",
            "[CV] END ...................................C=1.4, gamma=1.5; total time=   0.1s\n",
            "[CV] END ...................................C=1.4, gamma=1.5; total time=   0.1s\n",
            "[CV] END ...................................C=1.4, gamma=1.6; total time=   0.1s\n",
            "[CV] END ...................................C=1.4, gamma=1.6; total time=   0.1s\n",
            "[CV] END ...................................C=1.4, gamma=1.7; total time=   0.1s\n",
            "[CV] END ...................................C=1.4, gamma=1.7; total time=   0.1s\n",
            "[CV] END ...................................C=1.4, gamma=1.8; total time=   0.1s\n",
            "[CV] END ...................................C=1.4, gamma=1.8; total time=   0.1s\n",
            "[CV] END ...................................C=1.4, gamma=1.9; total time=   0.1s\n",
            "[CV] END ...................................C=1.4, gamma=1.9; total time=   0.1s\n",
            "[CV] END ...................................C=1.4, gamma=2.0; total time=   0.1s\n",
            "[CV] END ...................................C=1.4, gamma=2.0; total time=   0.1s\n",
            "[CV] END ...................................C=1.5, gamma=0.1; total time=   0.1s\n",
            "[CV] END ...................................C=1.5, gamma=0.1; total time=   0.1s\n",
            "[CV] END ...................................C=1.5, gamma=0.2; total time=   0.1s\n",
            "[CV] END ...................................C=1.5, gamma=0.2; total time=   0.1s\n",
            "[CV] END ...................................C=1.5, gamma=0.3; total time=   0.1s\n",
            "[CV] END ...................................C=1.5, gamma=0.3; total time=   0.1s\n",
            "[CV] END ...................................C=1.5, gamma=0.4; total time=   0.1s\n",
            "[CV] END ...................................C=1.5, gamma=0.4; total time=   0.1s\n",
            "[CV] END ...................................C=1.5, gamma=0.5; total time=   0.1s\n",
            "[CV] END ...................................C=1.5, gamma=0.5; total time=   0.1s\n",
            "[CV] END ...................................C=1.5, gamma=0.6; total time=   0.1s\n",
            "[CV] END ...................................C=1.5, gamma=0.6; total time=   0.1s\n",
            "[CV] END ...................................C=1.5, gamma=0.7; total time=   0.1s\n",
            "[CV] END ...................................C=1.5, gamma=0.7; total time=   0.1s\n",
            "[CV] END ...................................C=1.5, gamma=0.8; total time=   0.1s\n",
            "[CV] END ...................................C=1.5, gamma=0.8; total time=   0.1s\n",
            "[CV] END ...................................C=1.5, gamma=0.9; total time=   0.1s\n",
            "[CV] END ...................................C=1.5, gamma=0.9; total time=   0.1s\n",
            "[CV] END ...................................C=1.5, gamma=1.0; total time=   0.1s\n",
            "[CV] END ...................................C=1.5, gamma=1.0; total time=   0.1s\n",
            "[CV] END ...................................C=1.5, gamma=1.1; total time=   0.1s\n",
            "[CV] END ...................................C=1.5, gamma=1.1; total time=   0.1s\n",
            "[CV] END ...................................C=1.5, gamma=1.2; total time=   0.1s\n",
            "[CV] END ...................................C=1.5, gamma=1.2; total time=   0.1s\n",
            "[CV] END ...................................C=1.5, gamma=1.3; total time=   0.1s\n",
            "[CV] END ...................................C=1.5, gamma=1.3; total time=   0.1s\n",
            "[CV] END ...................................C=1.5, gamma=1.4; total time=   0.1s\n",
            "[CV] END ...................................C=1.5, gamma=1.4; total time=   0.1s\n",
            "[CV] END ...................................C=1.5, gamma=1.5; total time=   0.1s\n",
            "[CV] END ...................................C=1.5, gamma=1.5; total time=   0.1s\n",
            "[CV] END ...................................C=1.5, gamma=1.6; total time=   0.1s\n",
            "[CV] END ...................................C=1.5, gamma=1.6; total time=   0.1s\n",
            "[CV] END ...................................C=1.5, gamma=1.7; total time=   0.1s\n",
            "[CV] END ...................................C=1.5, gamma=1.7; total time=   0.1s\n",
            "[CV] END ...................................C=1.5, gamma=1.8; total time=   0.1s\n",
            "[CV] END ...................................C=1.5, gamma=1.8; total time=   0.1s\n",
            "[CV] END ...................................C=1.5, gamma=1.9; total time=   0.1s\n",
            "[CV] END ...................................C=1.5, gamma=1.9; total time=   0.1s\n",
            "[CV] END ...................................C=1.5, gamma=2.0; total time=   0.1s\n",
            "[CV] END ...................................C=1.5, gamma=2.0; total time=   0.1s\n",
            "[CV] END ...................................C=1.6, gamma=0.1; total time=   0.1s\n",
            "[CV] END ...................................C=1.6, gamma=0.1; total time=   0.1s\n",
            "[CV] END ...................................C=1.6, gamma=0.2; total time=   0.1s\n",
            "[CV] END ...................................C=1.6, gamma=0.2; total time=   0.1s\n",
            "[CV] END ...................................C=1.6, gamma=0.3; total time=   0.1s\n",
            "[CV] END ...................................C=1.6, gamma=0.3; total time=   0.1s\n",
            "[CV] END ...................................C=1.6, gamma=0.4; total time=   0.1s\n",
            "[CV] END ...................................C=1.6, gamma=0.4; total time=   0.1s\n",
            "[CV] END ...................................C=1.6, gamma=0.5; total time=   0.1s\n",
            "[CV] END ...................................C=1.6, gamma=0.5; total time=   0.1s\n",
            "[CV] END ...................................C=1.6, gamma=0.6; total time=   0.1s\n",
            "[CV] END ...................................C=1.6, gamma=0.6; total time=   0.1s\n",
            "[CV] END ...................................C=1.6, gamma=0.7; total time=   0.1s\n",
            "[CV] END ...................................C=1.6, gamma=0.7; total time=   0.1s\n",
            "[CV] END ...................................C=1.6, gamma=0.8; total time=   0.1s\n"
          ]
        },
        {
          "name": "stdout",
          "output_type": "stream",
          "text": [
            "[CV] END ...................................C=1.6, gamma=0.8; total time=   0.1s\n",
            "[CV] END ...................................C=1.6, gamma=0.9; total time=   0.1s\n",
            "[CV] END ...................................C=1.6, gamma=0.9; total time=   0.2s\n",
            "[CV] END ...................................C=1.6, gamma=1.0; total time=   0.1s\n",
            "[CV] END ...................................C=1.6, gamma=1.0; total time=   0.1s\n",
            "[CV] END ...................................C=1.6, gamma=1.1; total time=   0.1s\n",
            "[CV] END ...................................C=1.6, gamma=1.1; total time=   0.2s\n",
            "[CV] END ...................................C=1.6, gamma=1.2; total time=   0.2s\n",
            "[CV] END ...................................C=1.6, gamma=1.2; total time=   0.1s\n",
            "[CV] END ...................................C=1.6, gamma=1.3; total time=   0.1s\n",
            "[CV] END ...................................C=1.6, gamma=1.3; total time=   0.1s\n",
            "[CV] END ...................................C=1.6, gamma=1.4; total time=   0.1s\n",
            "[CV] END ...................................C=1.6, gamma=1.4; total time=   0.2s\n",
            "[CV] END ...................................C=1.6, gamma=1.5; total time=   0.2s\n",
            "[CV] END ...................................C=1.6, gamma=1.5; total time=   0.2s\n",
            "[CV] END ...................................C=1.6, gamma=1.6; total time=   0.2s\n",
            "[CV] END ...................................C=1.6, gamma=1.6; total time=   0.1s\n",
            "[CV] END ...................................C=1.6, gamma=1.7; total time=   0.1s\n",
            "[CV] END ...................................C=1.6, gamma=1.7; total time=   0.1s\n",
            "[CV] END ...................................C=1.6, gamma=1.8; total time=   0.2s\n",
            "[CV] END ...................................C=1.6, gamma=1.8; total time=   0.1s\n",
            "[CV] END ...................................C=1.6, gamma=1.9; total time=   0.2s\n",
            "[CV] END ...................................C=1.6, gamma=1.9; total time=   0.1s\n",
            "[CV] END ...................................C=1.6, gamma=2.0; total time=   0.2s\n",
            "[CV] END ...................................C=1.6, gamma=2.0; total time=   0.1s\n",
            "[CV] END ...................................C=1.7, gamma=0.1; total time=   0.1s\n",
            "[CV] END ...................................C=1.7, gamma=0.1; total time=   0.1s\n",
            "[CV] END ...................................C=1.7, gamma=0.2; total time=   0.1s\n",
            "[CV] END ...................................C=1.7, gamma=0.2; total time=   0.1s\n",
            "[CV] END ...................................C=1.7, gamma=0.3; total time=   0.1s\n",
            "[CV] END ...................................C=1.7, gamma=0.3; total time=   0.1s\n",
            "[CV] END ...................................C=1.7, gamma=0.4; total time=   0.1s\n",
            "[CV] END ...................................C=1.7, gamma=0.4; total time=   0.1s\n",
            "[CV] END ...................................C=1.7, gamma=0.5; total time=   0.1s\n",
            "[CV] END ...................................C=1.7, gamma=0.5; total time=   0.1s\n",
            "[CV] END ...................................C=1.7, gamma=0.6; total time=   0.3s\n",
            "[CV] END ...................................C=1.7, gamma=0.6; total time=   0.1s\n",
            "[CV] END ...................................C=1.7, gamma=0.7; total time=   0.1s\n",
            "[CV] END ...................................C=1.7, gamma=0.7; total time=   0.1s\n",
            "[CV] END ...................................C=1.7, gamma=0.8; total time=   0.1s\n",
            "[CV] END ...................................C=1.7, gamma=0.8; total time=   0.1s\n",
            "[CV] END ...................................C=1.7, gamma=0.9; total time=   0.1s\n",
            "[CV] END ...................................C=1.7, gamma=0.9; total time=   0.1s\n",
            "[CV] END ...................................C=1.7, gamma=1.0; total time=   0.1s\n",
            "[CV] END ...................................C=1.7, gamma=1.0; total time=   0.1s\n",
            "[CV] END ...................................C=1.7, gamma=1.1; total time=   0.1s\n",
            "[CV] END ...................................C=1.7, gamma=1.1; total time=   0.1s\n",
            "[CV] END ...................................C=1.7, gamma=1.2; total time=   0.1s\n",
            "[CV] END ...................................C=1.7, gamma=1.2; total time=   0.1s\n",
            "[CV] END ...................................C=1.7, gamma=1.3; total time=   0.1s\n",
            "[CV] END ...................................C=1.7, gamma=1.3; total time=   0.1s\n",
            "[CV] END ...................................C=1.7, gamma=1.4; total time=   0.1s\n",
            "[CV] END ...................................C=1.7, gamma=1.4; total time=   0.1s\n",
            "[CV] END ...................................C=1.7, gamma=1.5; total time=   0.1s\n",
            "[CV] END ...................................C=1.7, gamma=1.5; total time=   0.1s\n",
            "[CV] END ...................................C=1.7, gamma=1.6; total time=   0.1s\n",
            "[CV] END ...................................C=1.7, gamma=1.6; total time=   0.1s\n",
            "[CV] END ...................................C=1.7, gamma=1.7; total time=   0.1s\n",
            "[CV] END ...................................C=1.7, gamma=1.7; total time=   0.1s\n",
            "[CV] END ...................................C=1.7, gamma=1.8; total time=   0.1s\n",
            "[CV] END ...................................C=1.7, gamma=1.8; total time=   0.1s\n",
            "[CV] END ...................................C=1.7, gamma=1.9; total time=   0.1s\n",
            "[CV] END ...................................C=1.7, gamma=1.9; total time=   0.1s\n",
            "[CV] END ...................................C=1.7, gamma=2.0; total time=   0.1s\n",
            "[CV] END ...................................C=1.7, gamma=2.0; total time=   0.1s\n",
            "[CV] END ...................................C=1.8, gamma=0.1; total time=   0.1s\n",
            "[CV] END ...................................C=1.8, gamma=0.1; total time=   0.1s\n",
            "[CV] END ...................................C=1.8, gamma=0.2; total time=   0.1s\n",
            "[CV] END ...................................C=1.8, gamma=0.2; total time=   0.1s\n",
            "[CV] END ...................................C=1.8, gamma=0.3; total time=   0.1s\n",
            "[CV] END ...................................C=1.8, gamma=0.3; total time=   0.1s\n",
            "[CV] END ...................................C=1.8, gamma=0.4; total time=   0.1s\n",
            "[CV] END ...................................C=1.8, gamma=0.4; total time=   0.1s\n",
            "[CV] END ...................................C=1.8, gamma=0.5; total time=   0.1s\n",
            "[CV] END ...................................C=1.8, gamma=0.5; total time=   0.1s\n",
            "[CV] END ...................................C=1.8, gamma=0.6; total time=   0.1s\n",
            "[CV] END ...................................C=1.8, gamma=0.6; total time=   0.1s\n",
            "[CV] END ...................................C=1.8, gamma=0.7; total time=   0.1s\n",
            "[CV] END ...................................C=1.8, gamma=0.7; total time=   0.1s\n",
            "[CV] END ...................................C=1.8, gamma=0.8; total time=   0.1s\n",
            "[CV] END ...................................C=1.8, gamma=0.8; total time=   0.1s\n",
            "[CV] END ...................................C=1.8, gamma=0.9; total time=   0.1s\n",
            "[CV] END ...................................C=1.8, gamma=0.9; total time=   0.1s\n",
            "[CV] END ...................................C=1.8, gamma=1.0; total time=   0.1s\n",
            "[CV] END ...................................C=1.8, gamma=1.0; total time=   0.1s\n",
            "[CV] END ...................................C=1.8, gamma=1.1; total time=   0.1s\n",
            "[CV] END ...................................C=1.8, gamma=1.1; total time=   0.1s\n",
            "[CV] END ...................................C=1.8, gamma=1.2; total time=   0.1s\n",
            "[CV] END ...................................C=1.8, gamma=1.2; total time=   0.1s\n",
            "[CV] END ...................................C=1.8, gamma=1.3; total time=   0.1s\n",
            "[CV] END ...................................C=1.8, gamma=1.3; total time=   0.1s\n",
            "[CV] END ...................................C=1.8, gamma=1.4; total time=   0.1s\n",
            "[CV] END ...................................C=1.8, gamma=1.4; total time=   0.1s\n",
            "[CV] END ...................................C=1.8, gamma=1.5; total time=   0.1s\n",
            "[CV] END ...................................C=1.8, gamma=1.5; total time=   0.1s\n",
            "[CV] END ...................................C=1.8, gamma=1.6; total time=   0.1s\n",
            "[CV] END ...................................C=1.8, gamma=1.6; total time=   0.1s\n",
            "[CV] END ...................................C=1.8, gamma=1.7; total time=   0.1s\n",
            "[CV] END ...................................C=1.8, gamma=1.7; total time=   0.1s\n",
            "[CV] END ...................................C=1.8, gamma=1.8; total time=   0.2s\n",
            "[CV] END ...................................C=1.8, gamma=1.8; total time=   0.2s\n",
            "[CV] END ...................................C=1.8, gamma=1.9; total time=   0.1s\n"
          ]
        },
        {
          "name": "stdout",
          "output_type": "stream",
          "text": [
            "[CV] END ...................................C=1.8, gamma=1.9; total time=   0.2s\n",
            "[CV] END ...................................C=1.8, gamma=2.0; total time=   0.1s\n",
            "[CV] END ...................................C=1.8, gamma=2.0; total time=   0.2s\n",
            "[CV] END ...................................C=1.9, gamma=0.1; total time=   0.1s\n",
            "[CV] END ...................................C=1.9, gamma=0.1; total time=   0.1s\n",
            "[CV] END ...................................C=1.9, gamma=0.2; total time=   0.1s\n",
            "[CV] END ...................................C=1.9, gamma=0.2; total time=   0.1s\n",
            "[CV] END ...................................C=1.9, gamma=0.3; total time=   0.1s\n",
            "[CV] END ...................................C=1.9, gamma=0.3; total time=   0.1s\n",
            "[CV] END ...................................C=1.9, gamma=0.4; total time=   0.1s\n",
            "[CV] END ...................................C=1.9, gamma=0.4; total time=   0.1s\n",
            "[CV] END ...................................C=1.9, gamma=0.5; total time=   0.1s\n",
            "[CV] END ...................................C=1.9, gamma=0.5; total time=   0.1s\n",
            "[CV] END ...................................C=1.9, gamma=0.6; total time=   0.1s\n",
            "[CV] END ...................................C=1.9, gamma=0.6; total time=   0.1s\n",
            "[CV] END ...................................C=1.9, gamma=0.7; total time=   0.1s\n",
            "[CV] END ...................................C=1.9, gamma=0.7; total time=   0.1s\n",
            "[CV] END ...................................C=1.9, gamma=0.8; total time=   0.1s\n",
            "[CV] END ...................................C=1.9, gamma=0.8; total time=   0.1s\n",
            "[CV] END ...................................C=1.9, gamma=0.9; total time=   0.1s\n",
            "[CV] END ...................................C=1.9, gamma=0.9; total time=   0.1s\n",
            "[CV] END ...................................C=1.9, gamma=1.0; total time=   0.1s\n",
            "[CV] END ...................................C=1.9, gamma=1.0; total time=   0.1s\n",
            "[CV] END ...................................C=1.9, gamma=1.1; total time=   0.1s\n",
            "[CV] END ...................................C=1.9, gamma=1.1; total time=   0.1s\n",
            "[CV] END ...................................C=1.9, gamma=1.2; total time=   0.1s\n",
            "[CV] END ...................................C=1.9, gamma=1.2; total time=   0.1s\n",
            "[CV] END ...................................C=1.9, gamma=1.3; total time=   0.1s\n",
            "[CV] END ...................................C=1.9, gamma=1.3; total time=   0.1s\n",
            "[CV] END ...................................C=1.9, gamma=1.4; total time=   0.1s\n",
            "[CV] END ...................................C=1.9, gamma=1.4; total time=   0.1s\n",
            "[CV] END ...................................C=1.9, gamma=1.5; total time=   0.1s\n",
            "[CV] END ...................................C=1.9, gamma=1.5; total time=   0.2s\n",
            "[CV] END ...................................C=1.9, gamma=1.6; total time=   0.1s\n",
            "[CV] END ...................................C=1.9, gamma=1.6; total time=   0.1s\n",
            "[CV] END ...................................C=1.9, gamma=1.7; total time=   0.2s\n",
            "[CV] END ...................................C=1.9, gamma=1.7; total time=   0.1s\n",
            "[CV] END ...................................C=1.9, gamma=1.8; total time=   0.1s\n",
            "[CV] END ...................................C=1.9, gamma=1.8; total time=   0.1s\n",
            "[CV] END ...................................C=1.9, gamma=1.9; total time=   0.1s\n",
            "[CV] END ...................................C=1.9, gamma=1.9; total time=   0.1s\n",
            "[CV] END ...................................C=1.9, gamma=2.0; total time=   0.1s\n",
            "[CV] END ...................................C=1.9, gamma=2.0; total time=   0.1s\n",
            "[CV] END ...................................C=2.0, gamma=0.1; total time=   0.1s\n",
            "[CV] END ...................................C=2.0, gamma=0.1; total time=   0.1s\n",
            "[CV] END ...................................C=2.0, gamma=0.2; total time=   0.1s\n",
            "[CV] END ...................................C=2.0, gamma=0.2; total time=   0.1s\n",
            "[CV] END ...................................C=2.0, gamma=0.3; total time=   0.1s\n",
            "[CV] END ...................................C=2.0, gamma=0.3; total time=   0.1s\n",
            "[CV] END ...................................C=2.0, gamma=0.4; total time=   0.1s\n",
            "[CV] END ...................................C=2.0, gamma=0.4; total time=   0.1s\n",
            "[CV] END ...................................C=2.0, gamma=0.5; total time=   0.1s\n",
            "[CV] END ...................................C=2.0, gamma=0.5; total time=   0.1s\n",
            "[CV] END ...................................C=2.0, gamma=0.6; total time=   0.1s\n",
            "[CV] END ...................................C=2.0, gamma=0.6; total time=   0.1s\n",
            "[CV] END ...................................C=2.0, gamma=0.7; total time=   0.1s\n",
            "[CV] END ...................................C=2.0, gamma=0.7; total time=   0.1s\n",
            "[CV] END ...................................C=2.0, gamma=0.8; total time=   0.1s\n",
            "[CV] END ...................................C=2.0, gamma=0.8; total time=   0.1s\n",
            "[CV] END ...................................C=2.0, gamma=0.9; total time=   0.1s\n",
            "[CV] END ...................................C=2.0, gamma=0.9; total time=   0.1s\n",
            "[CV] END ...................................C=2.0, gamma=1.0; total time=   0.1s\n",
            "[CV] END ...................................C=2.0, gamma=1.0; total time=   0.1s\n",
            "[CV] END ...................................C=2.0, gamma=1.1; total time=   0.1s\n",
            "[CV] END ...................................C=2.0, gamma=1.1; total time=   0.1s\n",
            "[CV] END ...................................C=2.0, gamma=1.2; total time=   0.1s\n",
            "[CV] END ...................................C=2.0, gamma=1.2; total time=   0.1s\n",
            "[CV] END ...................................C=2.0, gamma=1.3; total time=   0.1s\n",
            "[CV] END ...................................C=2.0, gamma=1.3; total time=   0.1s\n",
            "[CV] END ...................................C=2.0, gamma=1.4; total time=   0.1s\n",
            "[CV] END ...................................C=2.0, gamma=1.4; total time=   0.1s\n",
            "[CV] END ...................................C=2.0, gamma=1.5; total time=   0.1s\n",
            "[CV] END ...................................C=2.0, gamma=1.5; total time=   0.1s\n",
            "[CV] END ...................................C=2.0, gamma=1.6; total time=   0.1s\n",
            "[CV] END ...................................C=2.0, gamma=1.6; total time=   0.1s\n",
            "[CV] END ...................................C=2.0, gamma=1.7; total time=   0.1s\n",
            "[CV] END ...................................C=2.0, gamma=1.7; total time=   0.1s\n",
            "[CV] END ...................................C=2.0, gamma=1.8; total time=   0.1s\n",
            "[CV] END ...................................C=2.0, gamma=1.8; total time=   0.1s\n",
            "[CV] END ...................................C=2.0, gamma=1.9; total time=   0.1s\n",
            "[CV] END ...................................C=2.0, gamma=1.9; total time=   0.1s\n",
            "[CV] END ...................................C=2.0, gamma=2.0; total time=   0.1s\n",
            "[CV] END ...................................C=2.0, gamma=2.0; total time=   0.1s\n",
            "[CV] END ...................................C=2.1, gamma=0.1; total time=   0.1s\n",
            "[CV] END ...................................C=2.1, gamma=0.1; total time=   0.1s\n",
            "[CV] END ...................................C=2.1, gamma=0.2; total time=   0.1s\n",
            "[CV] END ...................................C=2.1, gamma=0.2; total time=   0.1s\n",
            "[CV] END ...................................C=2.1, gamma=0.3; total time=   0.1s\n",
            "[CV] END ...................................C=2.1, gamma=0.3; total time=   0.1s\n",
            "[CV] END ...................................C=2.1, gamma=0.4; total time=   0.1s\n",
            "[CV] END ...................................C=2.1, gamma=0.4; total time=   0.1s\n",
            "[CV] END ...................................C=2.1, gamma=0.5; total time=   0.1s\n",
            "[CV] END ...................................C=2.1, gamma=0.5; total time=   0.1s\n",
            "[CV] END ...................................C=2.1, gamma=0.6; total time=   0.1s\n",
            "[CV] END ...................................C=2.1, gamma=0.6; total time=   0.1s\n",
            "[CV] END ...................................C=2.1, gamma=0.7; total time=   0.1s\n",
            "[CV] END ...................................C=2.1, gamma=0.7; total time=   0.1s\n",
            "[CV] END ...................................C=2.1, gamma=0.8; total time=   0.1s\n",
            "[CV] END ...................................C=2.1, gamma=0.8; total time=   0.1s\n",
            "[CV] END ...................................C=2.1, gamma=0.9; total time=   0.1s\n",
            "[CV] END ...................................C=2.1, gamma=0.9; total time=   0.1s\n",
            "[CV] END ...................................C=2.1, gamma=1.0; total time=   0.1s\n",
            "[CV] END ...................................C=2.1, gamma=1.0; total time=   0.1s\n",
            "[CV] END ...................................C=2.1, gamma=1.1; total time=   0.1s\n"
          ]
        },
        {
          "name": "stdout",
          "output_type": "stream",
          "text": [
            "[CV] END ...................................C=2.1, gamma=1.1; total time=   0.1s\n",
            "[CV] END ...................................C=2.1, gamma=1.2; total time=   0.1s\n",
            "[CV] END ...................................C=2.1, gamma=1.2; total time=   0.1s\n",
            "[CV] END ...................................C=2.1, gamma=1.3; total time=   0.1s\n",
            "[CV] END ...................................C=2.1, gamma=1.3; total time=   0.1s\n",
            "[CV] END ...................................C=2.1, gamma=1.4; total time=   0.1s\n",
            "[CV] END ...................................C=2.1, gamma=1.4; total time=   0.1s\n",
            "[CV] END ...................................C=2.1, gamma=1.5; total time=   0.1s\n",
            "[CV] END ...................................C=2.1, gamma=1.5; total time=   0.1s\n",
            "[CV] END ...................................C=2.1, gamma=1.6; total time=   0.1s\n",
            "[CV] END ...................................C=2.1, gamma=1.6; total time=   0.1s\n",
            "[CV] END ...................................C=2.1, gamma=1.7; total time=   0.1s\n",
            "[CV] END ...................................C=2.1, gamma=1.7; total time=   0.1s\n",
            "[CV] END ...................................C=2.1, gamma=1.8; total time=   0.1s\n",
            "[CV] END ...................................C=2.1, gamma=1.8; total time=   0.1s\n",
            "[CV] END ...................................C=2.1, gamma=1.9; total time=   0.1s\n",
            "[CV] END ...................................C=2.1, gamma=1.9; total time=   0.1s\n",
            "[CV] END ...................................C=2.1, gamma=2.0; total time=   0.1s\n",
            "[CV] END ...................................C=2.1, gamma=2.0; total time=   0.1s\n",
            "[CV] END ...................................C=2.2, gamma=0.1; total time=   0.1s\n",
            "[CV] END ...................................C=2.2, gamma=0.1; total time=   0.1s\n",
            "[CV] END ...................................C=2.2, gamma=0.2; total time=   0.1s\n",
            "[CV] END ...................................C=2.2, gamma=0.2; total time=   0.1s\n",
            "[CV] END ...................................C=2.2, gamma=0.3; total time=   0.1s\n",
            "[CV] END ...................................C=2.2, gamma=0.3; total time=   0.1s\n",
            "[CV] END ...................................C=2.2, gamma=0.4; total time=   0.1s\n",
            "[CV] END ...................................C=2.2, gamma=0.4; total time=   0.1s\n",
            "[CV] END ...................................C=2.2, gamma=0.5; total time=   0.1s\n",
            "[CV] END ...................................C=2.2, gamma=0.5; total time=   0.1s\n",
            "[CV] END ...................................C=2.2, gamma=0.6; total time=   0.1s\n",
            "[CV] END ...................................C=2.2, gamma=0.6; total time=   0.1s\n",
            "[CV] END ...................................C=2.2, gamma=0.7; total time=   0.1s\n",
            "[CV] END ...................................C=2.2, gamma=0.7; total time=   0.1s\n",
            "[CV] END ...................................C=2.2, gamma=0.8; total time=   0.1s\n",
            "[CV] END ...................................C=2.2, gamma=0.8; total time=   0.1s\n",
            "[CV] END ...................................C=2.2, gamma=0.9; total time=   0.1s\n",
            "[CV] END ...................................C=2.2, gamma=0.9; total time=   0.1s\n",
            "[CV] END ...................................C=2.2, gamma=1.0; total time=   0.1s\n",
            "[CV] END ...................................C=2.2, gamma=1.0; total time=   0.1s\n",
            "[CV] END ...................................C=2.2, gamma=1.1; total time=   0.1s\n",
            "[CV] END ...................................C=2.2, gamma=1.1; total time=   0.1s\n",
            "[CV] END ...................................C=2.2, gamma=1.2; total time=   0.1s\n",
            "[CV] END ...................................C=2.2, gamma=1.2; total time=   0.1s\n",
            "[CV] END ...................................C=2.2, gamma=1.3; total time=   0.1s\n",
            "[CV] END ...................................C=2.2, gamma=1.3; total time=   0.1s\n",
            "[CV] END ...................................C=2.2, gamma=1.4; total time=   0.1s\n",
            "[CV] END ...................................C=2.2, gamma=1.4; total time=   0.1s\n",
            "[CV] END ...................................C=2.2, gamma=1.5; total time=   0.1s\n",
            "[CV] END ...................................C=2.2, gamma=1.5; total time=   0.1s\n",
            "[CV] END ...................................C=2.2, gamma=1.6; total time=   0.1s\n",
            "[CV] END ...................................C=2.2, gamma=1.6; total time=   0.1s\n",
            "[CV] END ...................................C=2.2, gamma=1.7; total time=   0.1s\n",
            "[CV] END ...................................C=2.2, gamma=1.7; total time=   0.1s\n",
            "[CV] END ...................................C=2.2, gamma=1.8; total time=   0.1s\n",
            "[CV] END ...................................C=2.2, gamma=1.8; total time=   0.1s\n",
            "[CV] END ...................................C=2.2, gamma=1.9; total time=   0.1s\n",
            "[CV] END ...................................C=2.2, gamma=1.9; total time=   0.1s\n",
            "[CV] END ...................................C=2.2, gamma=2.0; total time=   0.1s\n",
            "[CV] END ...................................C=2.2, gamma=2.0; total time=   0.1s\n",
            "[CV] END ...................................C=2.3, gamma=0.1; total time=   0.1s\n",
            "[CV] END ...................................C=2.3, gamma=0.1; total time=   0.1s\n",
            "[CV] END ...................................C=2.3, gamma=0.2; total time=   0.1s\n",
            "[CV] END ...................................C=2.3, gamma=0.2; total time=   0.1s\n",
            "[CV] END ...................................C=2.3, gamma=0.3; total time=   0.1s\n",
            "[CV] END ...................................C=2.3, gamma=0.3; total time=   0.1s\n",
            "[CV] END ...................................C=2.3, gamma=0.4; total time=   0.1s\n",
            "[CV] END ...................................C=2.3, gamma=0.4; total time=   0.1s\n",
            "[CV] END ...................................C=2.3, gamma=0.5; total time=   0.1s\n",
            "[CV] END ...................................C=2.3, gamma=0.5; total time=   0.1s\n",
            "[CV] END ...................................C=2.3, gamma=0.6; total time=   0.1s\n",
            "[CV] END ...................................C=2.3, gamma=0.6; total time=   0.1s\n",
            "[CV] END ...................................C=2.3, gamma=0.7; total time=   0.1s\n",
            "[CV] END ...................................C=2.3, gamma=0.7; total time=   0.1s\n",
            "[CV] END ...................................C=2.3, gamma=0.8; total time=   0.1s\n",
            "[CV] END ...................................C=2.3, gamma=0.8; total time=   0.1s\n",
            "[CV] END ...................................C=2.3, gamma=0.9; total time=   0.1s\n",
            "[CV] END ...................................C=2.3, gamma=0.9; total time=   0.1s\n",
            "[CV] END ...................................C=2.3, gamma=1.0; total time=   0.1s\n",
            "[CV] END ...................................C=2.3, gamma=1.0; total time=   0.1s\n",
            "[CV] END ...................................C=2.3, gamma=1.1; total time=   0.1s\n",
            "[CV] END ...................................C=2.3, gamma=1.1; total time=   0.1s\n",
            "[CV] END ...................................C=2.3, gamma=1.2; total time=   0.1s\n",
            "[CV] END ...................................C=2.3, gamma=1.2; total time=   0.1s\n",
            "[CV] END ...................................C=2.3, gamma=1.3; total time=   0.1s\n",
            "[CV] END ...................................C=2.3, gamma=1.3; total time=   0.1s\n",
            "[CV] END ...................................C=2.3, gamma=1.4; total time=   0.1s\n",
            "[CV] END ...................................C=2.3, gamma=1.4; total time=   0.1s\n",
            "[CV] END ...................................C=2.3, gamma=1.5; total time=   0.1s\n",
            "[CV] END ...................................C=2.3, gamma=1.5; total time=   0.1s\n",
            "[CV] END ...................................C=2.3, gamma=1.6; total time=   0.1s\n",
            "[CV] END ...................................C=2.3, gamma=1.6; total time=   0.1s\n",
            "[CV] END ...................................C=2.3, gamma=1.7; total time=   0.1s\n",
            "[CV] END ...................................C=2.3, gamma=1.7; total time=   0.1s\n",
            "[CV] END ...................................C=2.3, gamma=1.8; total time=   0.1s\n",
            "[CV] END ...................................C=2.3, gamma=1.8; total time=   0.1s\n",
            "[CV] END ...................................C=2.3, gamma=1.9; total time=   0.1s\n",
            "[CV] END ...................................C=2.3, gamma=1.9; total time=   0.1s\n",
            "[CV] END ...................................C=2.3, gamma=2.0; total time=   0.1s\n",
            "[CV] END ...................................C=2.3, gamma=2.0; total time=   0.1s\n",
            "[CV] END ...................................C=2.4, gamma=0.1; total time=   0.1s\n",
            "[CV] END ...................................C=2.4, gamma=0.1; total time=   0.1s\n",
            "[CV] END ...................................C=2.4, gamma=0.2; total time=   0.1s\n",
            "[CV] END ...................................C=2.4, gamma=0.2; total time=   0.1s\n",
            "[CV] END ...................................C=2.4, gamma=0.3; total time=   0.1s\n",
            "[CV] END ...................................C=2.4, gamma=0.3; total time=   0.1s\n"
          ]
        },
        {
          "name": "stdout",
          "output_type": "stream",
          "text": [
            "[CV] END ...................................C=2.4, gamma=0.4; total time=   0.1s\n",
            "[CV] END ...................................C=2.4, gamma=0.4; total time=   0.1s\n",
            "[CV] END ...................................C=2.4, gamma=0.5; total time=   0.1s\n",
            "[CV] END ...................................C=2.4, gamma=0.5; total time=   0.1s\n",
            "[CV] END ...................................C=2.4, gamma=0.6; total time=   0.1s\n",
            "[CV] END ...................................C=2.4, gamma=0.6; total time=   0.1s\n",
            "[CV] END ...................................C=2.4, gamma=0.7; total time=   0.1s\n",
            "[CV] END ...................................C=2.4, gamma=0.7; total time=   0.1s\n",
            "[CV] END ...................................C=2.4, gamma=0.8; total time=   0.1s\n",
            "[CV] END ...................................C=2.4, gamma=0.8; total time=   0.1s\n",
            "[CV] END ...................................C=2.4, gamma=0.9; total time=   0.1s\n",
            "[CV] END ...................................C=2.4, gamma=0.9; total time=   0.1s\n",
            "[CV] END ...................................C=2.4, gamma=1.0; total time=   0.1s\n",
            "[CV] END ...................................C=2.4, gamma=1.0; total time=   0.1s\n",
            "[CV] END ...................................C=2.4, gamma=1.1; total time=   0.1s\n",
            "[CV] END ...................................C=2.4, gamma=1.1; total time=   0.1s\n",
            "[CV] END ...................................C=2.4, gamma=1.2; total time=   0.1s\n",
            "[CV] END ...................................C=2.4, gamma=1.2; total time=   0.1s\n",
            "[CV] END ...................................C=2.4, gamma=1.3; total time=   0.1s\n",
            "[CV] END ...................................C=2.4, gamma=1.3; total time=   0.1s\n",
            "[CV] END ...................................C=2.4, gamma=1.4; total time=   0.1s\n",
            "[CV] END ...................................C=2.4, gamma=1.4; total time=   0.1s\n",
            "[CV] END ...................................C=2.4, gamma=1.5; total time=   0.1s\n",
            "[CV] END ...................................C=2.4, gamma=1.5; total time=   0.1s\n",
            "[CV] END ...................................C=2.4, gamma=1.6; total time=   0.1s\n",
            "[CV] END ...................................C=2.4, gamma=1.6; total time=   0.1s\n",
            "[CV] END ...................................C=2.4, gamma=1.7; total time=   0.1s\n",
            "[CV] END ...................................C=2.4, gamma=1.7; total time=   0.1s\n",
            "[CV] END ...................................C=2.4, gamma=1.8; total time=   0.1s\n",
            "[CV] END ...................................C=2.4, gamma=1.8; total time=   0.1s\n",
            "[CV] END ...................................C=2.4, gamma=1.9; total time=   0.1s\n",
            "[CV] END ...................................C=2.4, gamma=1.9; total time=   0.1s\n",
            "[CV] END ...................................C=2.4, gamma=2.0; total time=   0.1s\n",
            "[CV] END ...................................C=2.4, gamma=2.0; total time=   0.1s\n",
            "[CV] END ...................................C=2.5, gamma=0.1; total time=   0.1s\n",
            "[CV] END ...................................C=2.5, gamma=0.1; total time=   0.1s\n",
            "[CV] END ...................................C=2.5, gamma=0.2; total time=   0.1s\n",
            "[CV] END ...................................C=2.5, gamma=0.2; total time=   0.1s\n",
            "[CV] END ...................................C=2.5, gamma=0.3; total time=   0.1s\n",
            "[CV] END ...................................C=2.5, gamma=0.3; total time=   0.1s\n",
            "[CV] END ...................................C=2.5, gamma=0.4; total time=   0.1s\n",
            "[CV] END ...................................C=2.5, gamma=0.4; total time=   0.1s\n",
            "[CV] END ...................................C=2.5, gamma=0.5; total time=   0.1s\n",
            "[CV] END ...................................C=2.5, gamma=0.5; total time=   0.1s\n",
            "[CV] END ...................................C=2.5, gamma=0.6; total time=   0.1s\n",
            "[CV] END ...................................C=2.5, gamma=0.6; total time=   0.1s\n",
            "[CV] END ...................................C=2.5, gamma=0.7; total time=   0.1s\n",
            "[CV] END ...................................C=2.5, gamma=0.7; total time=   0.1s\n",
            "[CV] END ...................................C=2.5, gamma=0.8; total time=   0.1s\n",
            "[CV] END ...................................C=2.5, gamma=0.8; total time=   0.1s\n",
            "[CV] END ...................................C=2.5, gamma=0.9; total time=   0.1s\n",
            "[CV] END ...................................C=2.5, gamma=0.9; total time=   0.1s\n",
            "[CV] END ...................................C=2.5, gamma=1.0; total time=   0.1s\n",
            "[CV] END ...................................C=2.5, gamma=1.0; total time=   0.1s\n",
            "[CV] END ...................................C=2.5, gamma=1.1; total time=   0.1s\n",
            "[CV] END ...................................C=2.5, gamma=1.1; total time=   0.1s\n",
            "[CV] END ...................................C=2.5, gamma=1.2; total time=   0.1s\n",
            "[CV] END ...................................C=2.5, gamma=1.2; total time=   0.1s\n",
            "[CV] END ...................................C=2.5, gamma=1.3; total time=   0.1s\n",
            "[CV] END ...................................C=2.5, gamma=1.3; total time=   0.1s\n",
            "[CV] END ...................................C=2.5, gamma=1.4; total time=   0.1s\n",
            "[CV] END ...................................C=2.5, gamma=1.4; total time=   0.1s\n",
            "[CV] END ...................................C=2.5, gamma=1.5; total time=   0.1s\n",
            "[CV] END ...................................C=2.5, gamma=1.5; total time=   0.1s\n",
            "[CV] END ...................................C=2.5, gamma=1.6; total time=   0.1s\n",
            "[CV] END ...................................C=2.5, gamma=1.6; total time=   0.1s\n",
            "[CV] END ...................................C=2.5, gamma=1.7; total time=   0.1s\n",
            "[CV] END ...................................C=2.5, gamma=1.7; total time=   0.1s\n",
            "[CV] END ...................................C=2.5, gamma=1.8; total time=   0.1s\n",
            "[CV] END ...................................C=2.5, gamma=1.8; total time=   0.1s\n",
            "[CV] END ...................................C=2.5, gamma=1.9; total time=   0.1s\n",
            "[CV] END ...................................C=2.5, gamma=1.9; total time=   0.1s\n",
            "[CV] END ...................................C=2.5, gamma=2.0; total time=   0.1s\n",
            "[CV] END ...................................C=2.5, gamma=2.0; total time=   0.1s\n",
            "[CV] END ...................................C=2.6, gamma=0.1; total time=   0.1s\n",
            "[CV] END ...................................C=2.6, gamma=0.1; total time=   0.1s\n",
            "[CV] END ...................................C=2.6, gamma=0.2; total time=   0.1s\n",
            "[CV] END ...................................C=2.6, gamma=0.2; total time=   0.1s\n",
            "[CV] END ...................................C=2.6, gamma=0.3; total time=   0.1s\n",
            "[CV] END ...................................C=2.6, gamma=0.3; total time=   0.1s\n",
            "[CV] END ...................................C=2.6, gamma=0.4; total time=   0.1s\n",
            "[CV] END ...................................C=2.6, gamma=0.4; total time=   0.1s\n",
            "[CV] END ...................................C=2.6, gamma=0.5; total time=   0.1s\n",
            "[CV] END ...................................C=2.6, gamma=0.5; total time=   0.1s\n",
            "[CV] END ...................................C=2.6, gamma=0.6; total time=   0.1s\n",
            "[CV] END ...................................C=2.6, gamma=0.6; total time=   0.1s\n",
            "[CV] END ...................................C=2.6, gamma=0.7; total time=   0.1s\n",
            "[CV] END ...................................C=2.6, gamma=0.7; total time=   0.1s\n",
            "[CV] END ...................................C=2.6, gamma=0.8; total time=   0.1s\n",
            "[CV] END ...................................C=2.6, gamma=0.8; total time=   0.3s\n",
            "[CV] END ...................................C=2.6, gamma=0.9; total time=   0.1s\n",
            "[CV] END ...................................C=2.6, gamma=0.9; total time=   0.1s\n",
            "[CV] END ...................................C=2.6, gamma=1.0; total time=   0.1s\n",
            "[CV] END ...................................C=2.6, gamma=1.0; total time=   0.1s\n",
            "[CV] END ...................................C=2.6, gamma=1.1; total time=   0.1s\n",
            "[CV] END ...................................C=2.6, gamma=1.1; total time=   0.1s\n",
            "[CV] END ...................................C=2.6, gamma=1.2; total time=   0.1s\n",
            "[CV] END ...................................C=2.6, gamma=1.2; total time=   0.1s\n",
            "[CV] END ...................................C=2.6, gamma=1.3; total time=   0.1s\n",
            "[CV] END ...................................C=2.6, gamma=1.3; total time=   0.1s\n",
            "[CV] END ...................................C=2.6, gamma=1.4; total time=   0.1s\n",
            "[CV] END ...................................C=2.6, gamma=1.4; total time=   0.1s\n",
            "[CV] END ...................................C=2.6, gamma=1.5; total time=   0.1s\n",
            "[CV] END ...................................C=2.6, gamma=1.5; total time=   0.1s\n"
          ]
        },
        {
          "name": "stdout",
          "output_type": "stream",
          "text": [
            "[CV] END ...................................C=2.6, gamma=1.6; total time=   0.1s\n",
            "[CV] END ...................................C=2.6, gamma=1.6; total time=   0.1s\n",
            "[CV] END ...................................C=2.6, gamma=1.7; total time=   0.1s\n",
            "[CV] END ...................................C=2.6, gamma=1.7; total time=   0.1s\n",
            "[CV] END ...................................C=2.6, gamma=1.8; total time=   0.1s\n",
            "[CV] END ...................................C=2.6, gamma=1.8; total time=   0.1s\n",
            "[CV] END ...................................C=2.6, gamma=1.9; total time=   0.1s\n",
            "[CV] END ...................................C=2.6, gamma=1.9; total time=   0.3s\n",
            "[CV] END ...................................C=2.6, gamma=2.0; total time=   0.1s\n",
            "[CV] END ...................................C=2.6, gamma=2.0; total time=   0.1s\n",
            "[CV] END ...................................C=2.7, gamma=0.1; total time=   0.2s\n",
            "[CV] END ...................................C=2.7, gamma=0.1; total time=   0.1s\n",
            "[CV] END ...................................C=2.7, gamma=0.2; total time=   0.1s\n",
            "[CV] END ...................................C=2.7, gamma=0.2; total time=   0.1s\n",
            "[CV] END ...................................C=2.7, gamma=0.3; total time=   0.1s\n",
            "[CV] END ...................................C=2.7, gamma=0.3; total time=   0.1s\n",
            "[CV] END ...................................C=2.7, gamma=0.4; total time=   0.1s\n",
            "[CV] END ...................................C=2.7, gamma=0.4; total time=   0.1s\n",
            "[CV] END ...................................C=2.7, gamma=0.5; total time=   0.1s\n",
            "[CV] END ...................................C=2.7, gamma=0.5; total time=   0.1s\n",
            "[CV] END ...................................C=2.7, gamma=0.6; total time=   0.1s\n",
            "[CV] END ...................................C=2.7, gamma=0.6; total time=   0.1s\n",
            "[CV] END ...................................C=2.7, gamma=0.7; total time=   0.1s\n",
            "[CV] END ...................................C=2.7, gamma=0.7; total time=   0.1s\n",
            "[CV] END ...................................C=2.7, gamma=0.8; total time=   0.1s\n",
            "[CV] END ...................................C=2.7, gamma=0.8; total time=   0.1s\n",
            "[CV] END ...................................C=2.7, gamma=0.9; total time=   0.1s\n",
            "[CV] END ...................................C=2.7, gamma=0.9; total time=   0.1s\n",
            "[CV] END ...................................C=2.7, gamma=1.0; total time=   0.1s\n",
            "[CV] END ...................................C=2.7, gamma=1.0; total time=   0.1s\n",
            "[CV] END ...................................C=2.7, gamma=1.1; total time=   0.1s\n",
            "[CV] END ...................................C=2.7, gamma=1.1; total time=   0.1s\n",
            "[CV] END ...................................C=2.7, gamma=1.2; total time=   0.1s\n",
            "[CV] END ...................................C=2.7, gamma=1.2; total time=   0.1s\n",
            "[CV] END ...................................C=2.7, gamma=1.3; total time=   0.1s\n",
            "[CV] END ...................................C=2.7, gamma=1.3; total time=   0.1s\n",
            "[CV] END ...................................C=2.7, gamma=1.4; total time=   0.1s\n",
            "[CV] END ...................................C=2.7, gamma=1.4; total time=   0.1s\n",
            "[CV] END ...................................C=2.7, gamma=1.5; total time=   0.1s\n",
            "[CV] END ...................................C=2.7, gamma=1.5; total time=   0.1s\n",
            "[CV] END ...................................C=2.7, gamma=1.6; total time=   0.1s\n",
            "[CV] END ...................................C=2.7, gamma=1.6; total time=   0.1s\n",
            "[CV] END ...................................C=2.7, gamma=1.7; total time=   0.1s\n",
            "[CV] END ...................................C=2.7, gamma=1.7; total time=   0.1s\n",
            "[CV] END ...................................C=2.7, gamma=1.8; total time=   0.1s\n",
            "[CV] END ...................................C=2.7, gamma=1.8; total time=   0.1s\n",
            "[CV] END ...................................C=2.7, gamma=1.9; total time=   0.1s\n",
            "[CV] END ...................................C=2.7, gamma=1.9; total time=   0.1s\n",
            "[CV] END ...................................C=2.7, gamma=2.0; total time=   0.1s\n",
            "[CV] END ...................................C=2.7, gamma=2.0; total time=   0.1s\n",
            "[CV] END ...................................C=2.8, gamma=0.1; total time=   0.1s\n",
            "[CV] END ...................................C=2.8, gamma=0.1; total time=   0.1s\n",
            "[CV] END ...................................C=2.8, gamma=0.2; total time=   0.1s\n",
            "[CV] END ...................................C=2.8, gamma=0.2; total time=   0.1s\n",
            "[CV] END ...................................C=2.8, gamma=0.3; total time=   0.1s\n",
            "[CV] END ...................................C=2.8, gamma=0.3; total time=   0.1s\n",
            "[CV] END ...................................C=2.8, gamma=0.4; total time=   0.1s\n",
            "[CV] END ...................................C=2.8, gamma=0.4; total time=   0.1s\n",
            "[CV] END ...................................C=2.8, gamma=0.5; total time=   0.1s\n",
            "[CV] END ...................................C=2.8, gamma=0.5; total time=   0.1s\n",
            "[CV] END ...................................C=2.8, gamma=0.6; total time=   0.1s\n",
            "[CV] END ...................................C=2.8, gamma=0.6; total time=   0.1s\n",
            "[CV] END ...................................C=2.8, gamma=0.7; total time=   0.1s\n",
            "[CV] END ...................................C=2.8, gamma=0.7; total time=   0.1s\n",
            "[CV] END ...................................C=2.8, gamma=0.8; total time=   0.1s\n",
            "[CV] END ...................................C=2.8, gamma=0.8; total time=   0.1s\n",
            "[CV] END ...................................C=2.8, gamma=0.9; total time=   0.1s\n",
            "[CV] END ...................................C=2.8, gamma=0.9; total time=   0.1s\n",
            "[CV] END ...................................C=2.8, gamma=1.0; total time=   0.1s\n",
            "[CV] END ...................................C=2.8, gamma=1.0; total time=   0.1s\n",
            "[CV] END ...................................C=2.8, gamma=1.1; total time=   0.1s\n",
            "[CV] END ...................................C=2.8, gamma=1.1; total time=   0.1s\n",
            "[CV] END ...................................C=2.8, gamma=1.2; total time=   0.1s\n",
            "[CV] END ...................................C=2.8, gamma=1.2; total time=   0.1s\n",
            "[CV] END ...................................C=2.8, gamma=1.3; total time=   0.1s\n",
            "[CV] END ...................................C=2.8, gamma=1.3; total time=   0.1s\n",
            "[CV] END ...................................C=2.8, gamma=1.4; total time=   0.1s\n",
            "[CV] END ...................................C=2.8, gamma=1.4; total time=   0.1s\n",
            "[CV] END ...................................C=2.8, gamma=1.5; total time=   0.1s\n",
            "[CV] END ...................................C=2.8, gamma=1.5; total time=   0.1s\n",
            "[CV] END ...................................C=2.8, gamma=1.6; total time=   0.1s\n",
            "[CV] END ...................................C=2.8, gamma=1.6; total time=   0.1s\n",
            "[CV] END ...................................C=2.8, gamma=1.7; total time=   0.1s\n",
            "[CV] END ...................................C=2.8, gamma=1.7; total time=   0.1s\n",
            "[CV] END ...................................C=2.8, gamma=1.8; total time=   0.1s\n",
            "[CV] END ...................................C=2.8, gamma=1.8; total time=   0.1s\n",
            "[CV] END ...................................C=2.8, gamma=1.9; total time=   0.1s\n",
            "[CV] END ...................................C=2.8, gamma=1.9; total time=   0.1s\n",
            "[CV] END ...................................C=2.8, gamma=2.0; total time=   0.1s\n",
            "[CV] END ...................................C=2.8, gamma=2.0; total time=   0.1s\n",
            "[CV] END ...................................C=2.9, gamma=0.1; total time=   0.1s\n",
            "[CV] END ...................................C=2.9, gamma=0.1; total time=   0.1s\n",
            "[CV] END ...................................C=2.9, gamma=0.2; total time=   0.1s\n",
            "[CV] END ...................................C=2.9, gamma=0.2; total time=   0.1s\n",
            "[CV] END ...................................C=2.9, gamma=0.3; total time=   0.1s\n",
            "[CV] END ...................................C=2.9, gamma=0.3; total time=   0.1s\n",
            "[CV] END ...................................C=2.9, gamma=0.4; total time=   0.1s\n",
            "[CV] END ...................................C=2.9, gamma=0.4; total time=   0.1s\n",
            "[CV] END ...................................C=2.9, gamma=0.5; total time=   0.1s\n",
            "[CV] END ...................................C=2.9, gamma=0.5; total time=   0.1s\n",
            "[CV] END ...................................C=2.9, gamma=0.6; total time=   0.1s\n",
            "[CV] END ...................................C=2.9, gamma=0.6; total time=   0.1s\n"
          ]
        },
        {
          "name": "stdout",
          "output_type": "stream",
          "text": [
            "[CV] END ...................................C=2.9, gamma=0.7; total time=   0.1s\n",
            "[CV] END ...................................C=2.9, gamma=0.7; total time=   0.1s\n",
            "[CV] END ...................................C=2.9, gamma=0.8; total time=   0.1s\n",
            "[CV] END ...................................C=2.9, gamma=0.8; total time=   0.1s\n",
            "[CV] END ...................................C=2.9, gamma=0.9; total time=   0.1s\n",
            "[CV] END ...................................C=2.9, gamma=0.9; total time=   0.1s\n",
            "[CV] END ...................................C=2.9, gamma=1.0; total time=   0.1s\n",
            "[CV] END ...................................C=2.9, gamma=1.0; total time=   0.1s\n",
            "[CV] END ...................................C=2.9, gamma=1.1; total time=   0.1s\n",
            "[CV] END ...................................C=2.9, gamma=1.1; total time=   0.1s\n",
            "[CV] END ...................................C=2.9, gamma=1.2; total time=   0.1s\n",
            "[CV] END ...................................C=2.9, gamma=1.2; total time=   0.1s\n",
            "[CV] END ...................................C=2.9, gamma=1.3; total time=   0.1s\n",
            "[CV] END ...................................C=2.9, gamma=1.3; total time=   0.1s\n",
            "[CV] END ...................................C=2.9, gamma=1.4; total time=   0.1s\n",
            "[CV] END ...................................C=2.9, gamma=1.4; total time=   0.1s\n",
            "[CV] END ...................................C=2.9, gamma=1.5; total time=   0.1s\n",
            "[CV] END ...................................C=2.9, gamma=1.5; total time=   0.1s\n",
            "[CV] END ...................................C=2.9, gamma=1.6; total time=   0.1s\n",
            "[CV] END ...................................C=2.9, gamma=1.6; total time=   0.1s\n",
            "[CV] END ...................................C=2.9, gamma=1.7; total time=   0.1s\n",
            "[CV] END ...................................C=2.9, gamma=1.7; total time=   0.1s\n",
            "[CV] END ...................................C=2.9, gamma=1.8; total time=   0.1s\n",
            "[CV] END ...................................C=2.9, gamma=1.8; total time=   0.1s\n",
            "[CV] END ...................................C=2.9, gamma=1.9; total time=   0.1s\n",
            "[CV] END ...................................C=2.9, gamma=1.9; total time=   0.5s\n",
            "[CV] END ...................................C=2.9, gamma=2.0; total time=   0.3s\n",
            "[CV] END ...................................C=2.9, gamma=2.0; total time=   0.3s\n",
            "[CV] END ...................................C=3.0, gamma=0.1; total time=   0.1s\n",
            "[CV] END ...................................C=3.0, gamma=0.1; total time=   0.1s\n",
            "[CV] END ...................................C=3.0, gamma=0.2; total time=   0.2s\n",
            "[CV] END ...................................C=3.0, gamma=0.2; total time=   0.1s\n",
            "[CV] END ...................................C=3.0, gamma=0.3; total time=   0.1s\n",
            "[CV] END ...................................C=3.0, gamma=0.3; total time=   0.2s\n",
            "[CV] END ...................................C=3.0, gamma=0.4; total time=   0.4s\n",
            "[CV] END ...................................C=3.0, gamma=0.4; total time=   0.2s\n",
            "[CV] END ...................................C=3.0, gamma=0.5; total time=   0.3s\n",
            "[CV] END ...................................C=3.0, gamma=0.5; total time=   0.4s\n",
            "[CV] END ...................................C=3.0, gamma=0.6; total time=   0.1s\n",
            "[CV] END ...................................C=3.0, gamma=0.6; total time=   0.1s\n",
            "[CV] END ...................................C=3.0, gamma=0.7; total time=   0.2s\n",
            "[CV] END ...................................C=3.0, gamma=0.7; total time=   0.1s\n",
            "[CV] END ...................................C=3.0, gamma=0.8; total time=   0.1s\n",
            "[CV] END ...................................C=3.0, gamma=0.8; total time=   0.1s\n",
            "[CV] END ...................................C=3.0, gamma=0.9; total time=   0.1s\n",
            "[CV] END ...................................C=3.0, gamma=0.9; total time=   0.1s\n",
            "[CV] END ...................................C=3.0, gamma=1.0; total time=   0.1s\n",
            "[CV] END ...................................C=3.0, gamma=1.0; total time=   0.1s\n",
            "[CV] END ...................................C=3.0, gamma=1.1; total time=   0.1s\n",
            "[CV] END ...................................C=3.0, gamma=1.1; total time=   0.1s\n",
            "[CV] END ...................................C=3.0, gamma=1.2; total time=   0.1s\n",
            "[CV] END ...................................C=3.0, gamma=1.2; total time=   0.1s\n",
            "[CV] END ...................................C=3.0, gamma=1.3; total time=   0.1s\n",
            "[CV] END ...................................C=3.0, gamma=1.3; total time=   0.1s\n",
            "[CV] END ...................................C=3.0, gamma=1.4; total time=   0.1s\n",
            "[CV] END ...................................C=3.0, gamma=1.4; total time=   0.1s\n",
            "[CV] END ...................................C=3.0, gamma=1.5; total time=   0.1s\n",
            "[CV] END ...................................C=3.0, gamma=1.5; total time=   0.1s\n",
            "[CV] END ...................................C=3.0, gamma=1.6; total time=   0.1s\n",
            "[CV] END ...................................C=3.0, gamma=1.6; total time=   0.1s\n",
            "[CV] END ...................................C=3.0, gamma=1.7; total time=   0.1s\n",
            "[CV] END ...................................C=3.0, gamma=1.7; total time=   0.1s\n",
            "[CV] END ...................................C=3.0, gamma=1.8; total time=   0.1s\n",
            "[CV] END ...................................C=3.0, gamma=1.8; total time=   0.1s\n",
            "[CV] END ...................................C=3.0, gamma=1.9; total time=   0.1s\n",
            "[CV] END ...................................C=3.0, gamma=1.9; total time=   0.1s\n",
            "[CV] END ...................................C=3.0, gamma=2.0; total time=   0.1s\n",
            "[CV] END ...................................C=3.0, gamma=2.0; total time=   0.1s\n"
          ]
        },
        {
          "data": {
            "text/html": [
              "<style>#sk-container-id-4 {color: black;}#sk-container-id-4 pre{padding: 0;}#sk-container-id-4 div.sk-toggleable {background-color: white;}#sk-container-id-4 label.sk-toggleable__label {cursor: pointer;display: block;width: 100%;margin-bottom: 0;padding: 0.3em;box-sizing: border-box;text-align: center;}#sk-container-id-4 label.sk-toggleable__label-arrow:before {content: \"▸\";float: left;margin-right: 0.25em;color: #696969;}#sk-container-id-4 label.sk-toggleable__label-arrow:hover:before {color: black;}#sk-container-id-4 div.sk-estimator:hover label.sk-toggleable__label-arrow:before {color: black;}#sk-container-id-4 div.sk-toggleable__content {max-height: 0;max-width: 0;overflow: hidden;text-align: left;background-color: #f0f8ff;}#sk-container-id-4 div.sk-toggleable__content pre {margin: 0.2em;color: black;border-radius: 0.25em;background-color: #f0f8ff;}#sk-container-id-4 input.sk-toggleable__control:checked~div.sk-toggleable__content {max-height: 200px;max-width: 100%;overflow: auto;}#sk-container-id-4 input.sk-toggleable__control:checked~label.sk-toggleable__label-arrow:before {content: \"▾\";}#sk-container-id-4 div.sk-estimator input.sk-toggleable__control:checked~label.sk-toggleable__label {background-color: #d4ebff;}#sk-container-id-4 div.sk-label input.sk-toggleable__control:checked~label.sk-toggleable__label {background-color: #d4ebff;}#sk-container-id-4 input.sk-hidden--visually {border: 0;clip: rect(1px 1px 1px 1px);clip: rect(1px, 1px, 1px, 1px);height: 1px;margin: -1px;overflow: hidden;padding: 0;position: absolute;width: 1px;}#sk-container-id-4 div.sk-estimator {font-family: monospace;background-color: #f0f8ff;border: 1px dotted black;border-radius: 0.25em;box-sizing: border-box;margin-bottom: 0.5em;}#sk-container-id-4 div.sk-estimator:hover {background-color: #d4ebff;}#sk-container-id-4 div.sk-parallel-item::after {content: \"\";width: 100%;border-bottom: 1px solid gray;flex-grow: 1;}#sk-container-id-4 div.sk-label:hover label.sk-toggleable__label {background-color: #d4ebff;}#sk-container-id-4 div.sk-serial::before {content: \"\";position: absolute;border-left: 1px solid gray;box-sizing: border-box;top: 0;bottom: 0;left: 50%;z-index: 0;}#sk-container-id-4 div.sk-serial {display: flex;flex-direction: column;align-items: center;background-color: white;padding-right: 0.2em;padding-left: 0.2em;position: relative;}#sk-container-id-4 div.sk-item {position: relative;z-index: 1;}#sk-container-id-4 div.sk-parallel {display: flex;align-items: stretch;justify-content: center;background-color: white;position: relative;}#sk-container-id-4 div.sk-item::before, #sk-container-id-4 div.sk-parallel-item::before {content: \"\";position: absolute;border-left: 1px solid gray;box-sizing: border-box;top: 0;bottom: 0;left: 50%;z-index: -1;}#sk-container-id-4 div.sk-parallel-item {display: flex;flex-direction: column;z-index: 1;position: relative;background-color: white;}#sk-container-id-4 div.sk-parallel-item:first-child::after {align-self: flex-end;width: 50%;}#sk-container-id-4 div.sk-parallel-item:last-child::after {align-self: flex-start;width: 50%;}#sk-container-id-4 div.sk-parallel-item:only-child::after {width: 0;}#sk-container-id-4 div.sk-dashed-wrapped {border: 1px dashed gray;margin: 0 0.4em 0.5em 0.4em;box-sizing: border-box;padding-bottom: 0.4em;background-color: white;}#sk-container-id-4 div.sk-label label {font-family: monospace;font-weight: bold;display: inline-block;line-height: 1.2em;}#sk-container-id-4 div.sk-label-container {text-align: center;}#sk-container-id-4 div.sk-container {/* jupyter's `normalize.less` sets `[hidden] { display: none; }` but bootstrap.min.css set `[hidden] { display: none !important; }` so we also need the `!important` here to be able to override the default hidden behavior on the sphinx rendered scikit-learn.org. See: https://github.com/scikit-learn/scikit-learn/issues/21755 */display: inline-block !important;position: relative;}#sk-container-id-4 div.sk-text-repr-fallback {display: none;}</style><div id=\"sk-container-id-4\" class=\"sk-top-container\"><div class=\"sk-text-repr-fallback\"><pre>GridSearchCV(cv=2, estimator=SVC(random_state=7),\n",
              "             param_grid={&#x27;C&#x27;: [0.1, 0.2, 0.3, 0.4, 0.5, 0.6, 0.7, 0.8, 0.9, 1.0,\n",
              "                               1.1, 1.2, 1.3, 1.4, 1.5, 1.6, 1.7, 1.8, 1.9, 2.0,\n",
              "                               2.1, 2.2, 2.3, 2.4, 2.5, 2.6, 2.7, 2.8, 2.9,\n",
              "                               3.0],\n",
              "                         &#x27;gamma&#x27;: [0.1, 0.2, 0.3, 0.4, 0.5, 0.6, 0.7, 0.8, 0.9,\n",
              "                                   1.0, 1.1, 1.2, 1.3, 1.4, 1.5, 1.6, 1.7, 1.8,\n",
              "                                   1.9, 2.0]},\n",
              "             verbose=2)</pre><b>In a Jupyter environment, please rerun this cell to show the HTML representation or trust the notebook. <br />On GitHub, the HTML representation is unable to render, please try loading this page with nbviewer.org.</b></div><div class=\"sk-container\" hidden><div class=\"sk-item sk-dashed-wrapped\"><div class=\"sk-label-container\"><div class=\"sk-label sk-toggleable\"><input class=\"sk-toggleable__control sk-hidden--visually\" id=\"sk-estimator-id-6\" type=\"checkbox\" ><label for=\"sk-estimator-id-6\" class=\"sk-toggleable__label sk-toggleable__label-arrow\">GridSearchCV</label><div class=\"sk-toggleable__content\"><pre>GridSearchCV(cv=2, estimator=SVC(random_state=7),\n",
              "             param_grid={&#x27;C&#x27;: [0.1, 0.2, 0.3, 0.4, 0.5, 0.6, 0.7, 0.8, 0.9, 1.0,\n",
              "                               1.1, 1.2, 1.3, 1.4, 1.5, 1.6, 1.7, 1.8, 1.9, 2.0,\n",
              "                               2.1, 2.2, 2.3, 2.4, 2.5, 2.6, 2.7, 2.8, 2.9,\n",
              "                               3.0],\n",
              "                         &#x27;gamma&#x27;: [0.1, 0.2, 0.3, 0.4, 0.5, 0.6, 0.7, 0.8, 0.9,\n",
              "                                   1.0, 1.1, 1.2, 1.3, 1.4, 1.5, 1.6, 1.7, 1.8,\n",
              "                                   1.9, 2.0]},\n",
              "             verbose=2)</pre></div></div></div><div class=\"sk-parallel\"><div class=\"sk-parallel-item\"><div class=\"sk-item\"><div class=\"sk-label-container\"><div class=\"sk-label sk-toggleable\"><input class=\"sk-toggleable__control sk-hidden--visually\" id=\"sk-estimator-id-7\" type=\"checkbox\" ><label for=\"sk-estimator-id-7\" class=\"sk-toggleable__label sk-toggleable__label-arrow\">estimator: SVC</label><div class=\"sk-toggleable__content\"><pre>SVC(random_state=7)</pre></div></div></div><div class=\"sk-serial\"><div class=\"sk-item\"><div class=\"sk-estimator sk-toggleable\"><input class=\"sk-toggleable__control sk-hidden--visually\" id=\"sk-estimator-id-8\" type=\"checkbox\" ><label for=\"sk-estimator-id-8\" class=\"sk-toggleable__label sk-toggleable__label-arrow\">SVC</label><div class=\"sk-toggleable__content\"><pre>SVC(random_state=7)</pre></div></div></div></div></div></div></div></div></div></div>"
            ],
            "text/plain": [
              "GridSearchCV(cv=2, estimator=SVC(random_state=7),\n",
              "             param_grid={'C': [0.1, 0.2, 0.3, 0.4, 0.5, 0.6, 0.7, 0.8, 0.9, 1.0,\n",
              "                               1.1, 1.2, 1.3, 1.4, 1.5, 1.6, 1.7, 1.8, 1.9, 2.0,\n",
              "                               2.1, 2.2, 2.3, 2.4, 2.5, 2.6, 2.7, 2.8, 2.9,\n",
              "                               3.0],\n",
              "                         'gamma': [0.1, 0.2, 0.3, 0.4, 0.5, 0.6, 0.7, 0.8, 0.9,\n",
              "                                   1.0, 1.1, 1.2, 1.3, 1.4, 1.5, 1.6, 1.7, 1.8,\n",
              "                                   1.9, 2.0]},\n",
              "             verbose=2)"
            ]
          },
          "execution_count": 52,
          "metadata": {},
          "output_type": "execute_result"
        }
      ],
      "source": [
        "from sklearn.svm import SVC\n",
        "param_grid = {\n",
        "    \"C\" : [x/10 for x in range(1,31,1)],\n",
        "    \"gamma\" : [x/10 for x in range(1,21,1)]\n",
        "}\n",
        "\n",
        "gscv = GridSearchCV(SVC(random_state=7), param_grid, cv=2, verbose=2)\n",
        "gscv.fit(x_train,y_train)"
      ]
    },
    {
      "cell_type": "code",
      "execution_count": null,
      "id": "7a424316",
      "metadata": {
        "id": "7a424316",
        "outputId": "fb22c922-0690-4790-8f90-71067eee9700"
      },
      "outputs": [
        {
          "name": "stdout",
          "output_type": "stream",
          "text": [
            "0.8201438848920863\n",
            "The best parameters are: \n",
            "{'C': 0.8, 'gamma': 0.4}\n"
          ]
        }
      ],
      "source": [
        "print(gscv.best_score_)\n",
        "print(\"The best parameters are: \")\n",
        "print(gscv.best_params_)"
      ]
    },
    {
      "cell_type": "code",
      "execution_count": null,
      "id": "74dbb2b0",
      "metadata": {
        "id": "74dbb2b0"
      },
      "outputs": [],
      "source": [
        "svc = SVC(C=0.8,gamma = 0.4,random_state=7)"
      ]
    },
    {
      "cell_type": "code",
      "execution_count": null,
      "id": "a9d1946b",
      "metadata": {
        "id": "a9d1946b",
        "outputId": "32c9790a-a542-449f-ce6c-5d2be5b598f6"
      },
      "outputs": [
        {
          "data": {
            "text/html": [
              "<style>#sk-container-id-5 {color: black;}#sk-container-id-5 pre{padding: 0;}#sk-container-id-5 div.sk-toggleable {background-color: white;}#sk-container-id-5 label.sk-toggleable__label {cursor: pointer;display: block;width: 100%;margin-bottom: 0;padding: 0.3em;box-sizing: border-box;text-align: center;}#sk-container-id-5 label.sk-toggleable__label-arrow:before {content: \"▸\";float: left;margin-right: 0.25em;color: #696969;}#sk-container-id-5 label.sk-toggleable__label-arrow:hover:before {color: black;}#sk-container-id-5 div.sk-estimator:hover label.sk-toggleable__label-arrow:before {color: black;}#sk-container-id-5 div.sk-toggleable__content {max-height: 0;max-width: 0;overflow: hidden;text-align: left;background-color: #f0f8ff;}#sk-container-id-5 div.sk-toggleable__content pre {margin: 0.2em;color: black;border-radius: 0.25em;background-color: #f0f8ff;}#sk-container-id-5 input.sk-toggleable__control:checked~div.sk-toggleable__content {max-height: 200px;max-width: 100%;overflow: auto;}#sk-container-id-5 input.sk-toggleable__control:checked~label.sk-toggleable__label-arrow:before {content: \"▾\";}#sk-container-id-5 div.sk-estimator input.sk-toggleable__control:checked~label.sk-toggleable__label {background-color: #d4ebff;}#sk-container-id-5 div.sk-label input.sk-toggleable__control:checked~label.sk-toggleable__label {background-color: #d4ebff;}#sk-container-id-5 input.sk-hidden--visually {border: 0;clip: rect(1px 1px 1px 1px);clip: rect(1px, 1px, 1px, 1px);height: 1px;margin: -1px;overflow: hidden;padding: 0;position: absolute;width: 1px;}#sk-container-id-5 div.sk-estimator {font-family: monospace;background-color: #f0f8ff;border: 1px dotted black;border-radius: 0.25em;box-sizing: border-box;margin-bottom: 0.5em;}#sk-container-id-5 div.sk-estimator:hover {background-color: #d4ebff;}#sk-container-id-5 div.sk-parallel-item::after {content: \"\";width: 100%;border-bottom: 1px solid gray;flex-grow: 1;}#sk-container-id-5 div.sk-label:hover label.sk-toggleable__label {background-color: #d4ebff;}#sk-container-id-5 div.sk-serial::before {content: \"\";position: absolute;border-left: 1px solid gray;box-sizing: border-box;top: 0;bottom: 0;left: 50%;z-index: 0;}#sk-container-id-5 div.sk-serial {display: flex;flex-direction: column;align-items: center;background-color: white;padding-right: 0.2em;padding-left: 0.2em;position: relative;}#sk-container-id-5 div.sk-item {position: relative;z-index: 1;}#sk-container-id-5 div.sk-parallel {display: flex;align-items: stretch;justify-content: center;background-color: white;position: relative;}#sk-container-id-5 div.sk-item::before, #sk-container-id-5 div.sk-parallel-item::before {content: \"\";position: absolute;border-left: 1px solid gray;box-sizing: border-box;top: 0;bottom: 0;left: 50%;z-index: -1;}#sk-container-id-5 div.sk-parallel-item {display: flex;flex-direction: column;z-index: 1;position: relative;background-color: white;}#sk-container-id-5 div.sk-parallel-item:first-child::after {align-self: flex-end;width: 50%;}#sk-container-id-5 div.sk-parallel-item:last-child::after {align-self: flex-start;width: 50%;}#sk-container-id-5 div.sk-parallel-item:only-child::after {width: 0;}#sk-container-id-5 div.sk-dashed-wrapped {border: 1px dashed gray;margin: 0 0.4em 0.5em 0.4em;box-sizing: border-box;padding-bottom: 0.4em;background-color: white;}#sk-container-id-5 div.sk-label label {font-family: monospace;font-weight: bold;display: inline-block;line-height: 1.2em;}#sk-container-id-5 div.sk-label-container {text-align: center;}#sk-container-id-5 div.sk-container {/* jupyter's `normalize.less` sets `[hidden] { display: none; }` but bootstrap.min.css set `[hidden] { display: none !important; }` so we also need the `!important` here to be able to override the default hidden behavior on the sphinx rendered scikit-learn.org. See: https://github.com/scikit-learn/scikit-learn/issues/21755 */display: inline-block !important;position: relative;}#sk-container-id-5 div.sk-text-repr-fallback {display: none;}</style><div id=\"sk-container-id-5\" class=\"sk-top-container\"><div class=\"sk-text-repr-fallback\"><pre>SVC(C=0.8, gamma=0.4, random_state=7)</pre><b>In a Jupyter environment, please rerun this cell to show the HTML representation or trust the notebook. <br />On GitHub, the HTML representation is unable to render, please try loading this page with nbviewer.org.</b></div><div class=\"sk-container\" hidden><div class=\"sk-item\"><div class=\"sk-estimator sk-toggleable\"><input class=\"sk-toggleable__control sk-hidden--visually\" id=\"sk-estimator-id-9\" type=\"checkbox\" checked><label for=\"sk-estimator-id-9\" class=\"sk-toggleable__label sk-toggleable__label-arrow\">SVC</label><div class=\"sk-toggleable__content\"><pre>SVC(C=0.8, gamma=0.4, random_state=7)</pre></div></div></div></div></div>"
            ],
            "text/plain": [
              "SVC(C=0.8, gamma=0.4, random_state=7)"
            ]
          },
          "execution_count": 55,
          "metadata": {},
          "output_type": "execute_result"
        }
      ],
      "source": [
        "svc.fit(x_train,y_train)"
      ]
    },
    {
      "cell_type": "code",
      "execution_count": null,
      "id": "978e108e",
      "metadata": {
        "id": "978e108e"
      },
      "outputs": [],
      "source": [
        "y_pred_svc = svc.predict(x_test)"
      ]
    },
    {
      "cell_type": "code",
      "execution_count": null,
      "id": "8554bb8f",
      "metadata": {
        "id": "8554bb8f",
        "outputId": "bc6486b4-9dfa-4b9a-a467-dfe00429911c"
      },
      "outputs": [
        {
          "name": "stdout",
          "output_type": "stream",
          "text": [
            "              precision    recall  f1-score   support\n",
            "\n",
            "           0       0.80      0.95      0.87       384\n",
            "           1       0.86      0.58      0.69       213\n",
            "\n",
            "    accuracy                           0.82       597\n",
            "   macro avg       0.83      0.77      0.78       597\n",
            "weighted avg       0.82      0.82      0.81       597\n",
            "\n"
          ]
        }
      ],
      "source": [
        "print(classification_report(y_test,y_pred_svc))"
      ]
    },
    {
      "cell_type": "markdown",
      "id": "cc50151e",
      "metadata": {
        "id": "cc50151e"
      },
      "source": [
        "## Observations:\n",
        "- Accurcy of SVM is 82%"
      ]
    },
    {
      "cell_type": "markdown",
      "id": "fbd729fb",
      "metadata": {
        "id": "fbd729fb"
      },
      "source": [
        "## Random Forest model"
      ]
    },
    {
      "cell_type": "code",
      "execution_count": null,
      "id": "dd25aa71",
      "metadata": {
        "id": "dd25aa71",
        "outputId": "e6bdd1d0-80da-46fa-bd6c-dbacd29a105b"
      },
      "outputs": [
        {
          "name": "stdout",
          "output_type": "stream",
          "text": [
            "Fitting 2 folds for each of 180 candidates, totalling 360 fits\n",
            "[CV] END ...................max_samples=0.1, n_estimators=10; total time=   0.0s\n",
            "[CV] END ...................max_samples=0.1, n_estimators=10; total time=   0.0s\n",
            "[CV] END ...................max_samples=0.1, n_estimators=20; total time=   0.1s\n",
            "[CV] END ...................max_samples=0.1, n_estimators=20; total time=   0.1s\n",
            "[CV] END ...................max_samples=0.1, n_estimators=30; total time=   0.1s\n",
            "[CV] END ...................max_samples=0.1, n_estimators=30; total time=   0.1s\n",
            "[CV] END ...................max_samples=0.1, n_estimators=40; total time=   0.1s\n",
            "[CV] END ...................max_samples=0.1, n_estimators=40; total time=   0.1s\n",
            "[CV] END ...................max_samples=0.1, n_estimators=50; total time=   0.1s\n",
            "[CV] END ...................max_samples=0.1, n_estimators=50; total time=   0.1s\n",
            "[CV] END ...................max_samples=0.1, n_estimators=60; total time=   0.1s\n",
            "[CV] END ...................max_samples=0.1, n_estimators=60; total time=   0.2s\n",
            "[CV] END ...................max_samples=0.1, n_estimators=70; total time=   0.2s\n",
            "[CV] END ...................max_samples=0.1, n_estimators=70; total time=   0.2s\n",
            "[CV] END ...................max_samples=0.1, n_estimators=80; total time=   0.2s\n",
            "[CV] END ...................max_samples=0.1, n_estimators=80; total time=   0.2s\n",
            "[CV] END ...................max_samples=0.1, n_estimators=90; total time=   0.2s\n",
            "[CV] END ...................max_samples=0.1, n_estimators=90; total time=   0.3s\n",
            "[CV] END ..................max_samples=0.1, n_estimators=100; total time=   0.2s\n",
            "[CV] END ..................max_samples=0.1, n_estimators=100; total time=   0.3s\n",
            "[CV] END ..................max_samples=0.1, n_estimators=110; total time=   0.2s\n",
            "[CV] END ..................max_samples=0.1, n_estimators=110; total time=   0.2s\n",
            "[CV] END ..................max_samples=0.1, n_estimators=120; total time=   0.3s\n",
            "[CV] END ..................max_samples=0.1, n_estimators=120; total time=   0.3s\n",
            "[CV] END ..................max_samples=0.1, n_estimators=130; total time=   0.3s\n",
            "[CV] END ..................max_samples=0.1, n_estimators=130; total time=   0.3s\n",
            "[CV] END ..................max_samples=0.1, n_estimators=140; total time=   0.3s\n",
            "[CV] END ..................max_samples=0.1, n_estimators=140; total time=   0.3s\n",
            "[CV] END ..................max_samples=0.1, n_estimators=150; total time=   0.3s\n",
            "[CV] END ..................max_samples=0.1, n_estimators=150; total time=   0.3s\n",
            "[CV] END ..................max_samples=0.1, n_estimators=160; total time=   0.3s\n",
            "[CV] END ..................max_samples=0.1, n_estimators=160; total time=   0.3s\n",
            "[CV] END ..................max_samples=0.1, n_estimators=170; total time=   0.3s\n",
            "[CV] END ..................max_samples=0.1, n_estimators=170; total time=   0.3s\n",
            "[CV] END ..................max_samples=0.1, n_estimators=180; total time=   0.4s\n",
            "[CV] END ..................max_samples=0.1, n_estimators=180; total time=   0.4s\n",
            "[CV] END ..................max_samples=0.1, n_estimators=190; total time=   0.4s\n",
            "[CV] END ..................max_samples=0.1, n_estimators=190; total time=   0.4s\n",
            "[CV] END ..................max_samples=0.1, n_estimators=200; total time=   0.4s\n",
            "[CV] END ..................max_samples=0.1, n_estimators=200; total time=   0.4s\n",
            "[CV] END ...................max_samples=0.2, n_estimators=10; total time=   0.0s\n",
            "[CV] END ...................max_samples=0.2, n_estimators=10; total time=   0.0s\n",
            "[CV] END ...................max_samples=0.2, n_estimators=20; total time=   0.0s\n",
            "[CV] END ...................max_samples=0.2, n_estimators=20; total time=   0.0s\n",
            "[CV] END ...................max_samples=0.2, n_estimators=30; total time=   0.1s\n",
            "[CV] END ...................max_samples=0.2, n_estimators=30; total time=   0.1s\n",
            "[CV] END ...................max_samples=0.2, n_estimators=40; total time=   0.1s\n",
            "[CV] END ...................max_samples=0.2, n_estimators=40; total time=   0.1s\n",
            "[CV] END ...................max_samples=0.2, n_estimators=50; total time=   0.2s\n",
            "[CV] END ...................max_samples=0.2, n_estimators=50; total time=   0.1s\n",
            "[CV] END ...................max_samples=0.2, n_estimators=60; total time=   0.1s\n",
            "[CV] END ...................max_samples=0.2, n_estimators=60; total time=   0.2s\n",
            "[CV] END ...................max_samples=0.2, n_estimators=70; total time=   0.2s\n",
            "[CV] END ...................max_samples=0.2, n_estimators=70; total time=   0.3s\n",
            "[CV] END ...................max_samples=0.2, n_estimators=80; total time=   0.3s\n",
            "[CV] END ...................max_samples=0.2, n_estimators=80; total time=   0.3s\n",
            "[CV] END ...................max_samples=0.2, n_estimators=90; total time=   0.3s\n",
            "[CV] END ...................max_samples=0.2, n_estimators=90; total time=   0.4s\n",
            "[CV] END ..................max_samples=0.2, n_estimators=100; total time=   0.5s\n",
            "[CV] END ..................max_samples=0.2, n_estimators=100; total time=   0.4s\n",
            "[CV] END ..................max_samples=0.2, n_estimators=110; total time=   0.3s\n",
            "[CV] END ..................max_samples=0.2, n_estimators=110; total time=   0.3s\n",
            "[CV] END ..................max_samples=0.2, n_estimators=120; total time=   0.3s\n",
            "[CV] END ..................max_samples=0.2, n_estimators=120; total time=   0.4s\n",
            "[CV] END ..................max_samples=0.2, n_estimators=130; total time=   0.3s\n",
            "[CV] END ..................max_samples=0.2, n_estimators=130; total time=   0.3s\n",
            "[CV] END ..................max_samples=0.2, n_estimators=140; total time=   0.3s\n",
            "[CV] END ..................max_samples=0.2, n_estimators=140; total time=   0.4s\n",
            "[CV] END ..................max_samples=0.2, n_estimators=150; total time=   0.4s\n",
            "[CV] END ..................max_samples=0.2, n_estimators=150; total time=   0.4s\n",
            "[CV] END ..................max_samples=0.2, n_estimators=160; total time=   0.4s\n",
            "[CV] END ..................max_samples=0.2, n_estimators=160; total time=   0.4s\n",
            "[CV] END ..................max_samples=0.2, n_estimators=170; total time=   0.4s\n",
            "[CV] END ..................max_samples=0.2, n_estimators=170; total time=   0.4s\n",
            "[CV] END ..................max_samples=0.2, n_estimators=180; total time=   0.4s\n",
            "[CV] END ..................max_samples=0.2, n_estimators=180; total time=   0.4s\n",
            "[CV] END ..................max_samples=0.2, n_estimators=190; total time=   0.4s\n",
            "[CV] END ..................max_samples=0.2, n_estimators=190; total time=   0.4s\n",
            "[CV] END ..................max_samples=0.2, n_estimators=200; total time=   0.4s\n",
            "[CV] END ..................max_samples=0.2, n_estimators=200; total time=   0.4s\n",
            "[CV] END ...................max_samples=0.3, n_estimators=10; total time=   0.0s\n",
            "[CV] END ...................max_samples=0.3, n_estimators=10; total time=   0.0s\n",
            "[CV] END ...................max_samples=0.3, n_estimators=20; total time=   0.1s\n",
            "[CV] END ...................max_samples=0.3, n_estimators=20; total time=   0.1s\n",
            "[CV] END ...................max_samples=0.3, n_estimators=30; total time=   0.1s\n",
            "[CV] END ...................max_samples=0.3, n_estimators=30; total time=   0.1s\n",
            "[CV] END ...................max_samples=0.3, n_estimators=40; total time=   0.1s\n",
            "[CV] END ...................max_samples=0.3, n_estimators=40; total time=   0.1s\n",
            "[CV] END ...................max_samples=0.3, n_estimators=50; total time=   0.2s\n",
            "[CV] END ...................max_samples=0.3, n_estimators=50; total time=   0.1s\n",
            "[CV] END ...................max_samples=0.3, n_estimators=60; total time=   0.1s\n",
            "[CV] END ...................max_samples=0.3, n_estimators=60; total time=   0.1s\n",
            "[CV] END ...................max_samples=0.3, n_estimators=70; total time=   0.2s\n",
            "[CV] END ...................max_samples=0.3, n_estimators=70; total time=   0.1s\n",
            "[CV] END ...................max_samples=0.3, n_estimators=80; total time=   0.2s\n",
            "[CV] END ...................max_samples=0.3, n_estimators=80; total time=   0.2s\n",
            "[CV] END ...................max_samples=0.3, n_estimators=90; total time=   0.2s\n",
            "[CV] END ...................max_samples=0.3, n_estimators=90; total time=   0.2s\n",
            "[CV] END ..................max_samples=0.3, n_estimators=100; total time=   0.2s\n",
            "[CV] END ..................max_samples=0.3, n_estimators=100; total time=   0.2s\n",
            "[CV] END ..................max_samples=0.3, n_estimators=110; total time=   0.2s\n"
          ]
        },
        {
          "name": "stdout",
          "output_type": "stream",
          "text": [
            "[CV] END ..................max_samples=0.3, n_estimators=110; total time=   0.2s\n",
            "[CV] END ..................max_samples=0.3, n_estimators=120; total time=   0.2s\n",
            "[CV] END ..................max_samples=0.3, n_estimators=120; total time=   0.3s\n",
            "[CV] END ..................max_samples=0.3, n_estimators=130; total time=   0.4s\n",
            "[CV] END ..................max_samples=0.3, n_estimators=130; total time=   0.3s\n",
            "[CV] END ..................max_samples=0.3, n_estimators=140; total time=   0.4s\n",
            "[CV] END ..................max_samples=0.3, n_estimators=140; total time=   0.3s\n",
            "[CV] END ..................max_samples=0.3, n_estimators=150; total time=   0.4s\n",
            "[CV] END ..................max_samples=0.3, n_estimators=150; total time=   0.5s\n",
            "[CV] END ..................max_samples=0.3, n_estimators=160; total time=   0.5s\n",
            "[CV] END ..................max_samples=0.3, n_estimators=160; total time=   0.5s\n",
            "[CV] END ..................max_samples=0.3, n_estimators=170; total time=   0.9s\n",
            "[CV] END ..................max_samples=0.3, n_estimators=170; total time=   0.7s\n",
            "[CV] END ..................max_samples=0.3, n_estimators=180; total time=   0.8s\n",
            "[CV] END ..................max_samples=0.3, n_estimators=180; total time=   0.6s\n",
            "[CV] END ..................max_samples=0.3, n_estimators=190; total time=   0.7s\n",
            "[CV] END ..................max_samples=0.3, n_estimators=190; total time=   0.9s\n",
            "[CV] END ..................max_samples=0.3, n_estimators=200; total time=   0.7s\n",
            "[CV] END ..................max_samples=0.3, n_estimators=200; total time=   0.6s\n",
            "[CV] END ...................max_samples=0.4, n_estimators=10; total time=   0.1s\n",
            "[CV] END ...................max_samples=0.4, n_estimators=10; total time=   0.0s\n",
            "[CV] END ...................max_samples=0.4, n_estimators=20; total time=   0.1s\n",
            "[CV] END ...................max_samples=0.4, n_estimators=20; total time=   0.1s\n",
            "[CV] END ...................max_samples=0.4, n_estimators=30; total time=   0.1s\n",
            "[CV] END ...................max_samples=0.4, n_estimators=30; total time=   0.1s\n",
            "[CV] END ...................max_samples=0.4, n_estimators=40; total time=   0.1s\n",
            "[CV] END ...................max_samples=0.4, n_estimators=40; total time=   0.2s\n",
            "[CV] END ...................max_samples=0.4, n_estimators=50; total time=   0.2s\n",
            "[CV] END ...................max_samples=0.4, n_estimators=50; total time=   0.3s\n",
            "[CV] END ...................max_samples=0.4, n_estimators=60; total time=   0.2s\n",
            "[CV] END ...................max_samples=0.4, n_estimators=60; total time=   0.2s\n",
            "[CV] END ...................max_samples=0.4, n_estimators=70; total time=   0.2s\n",
            "[CV] END ...................max_samples=0.4, n_estimators=70; total time=   0.2s\n",
            "[CV] END ...................max_samples=0.4, n_estimators=80; total time=   0.3s\n",
            "[CV] END ...................max_samples=0.4, n_estimators=80; total time=   0.3s\n",
            "[CV] END ...................max_samples=0.4, n_estimators=90; total time=   0.3s\n",
            "[CV] END ...................max_samples=0.4, n_estimators=90; total time=   0.3s\n",
            "[CV] END ..................max_samples=0.4, n_estimators=100; total time=   0.3s\n",
            "[CV] END ..................max_samples=0.4, n_estimators=100; total time=   0.3s\n",
            "[CV] END ..................max_samples=0.4, n_estimators=110; total time=   0.3s\n",
            "[CV] END ..................max_samples=0.4, n_estimators=110; total time=   0.2s\n",
            "[CV] END ..................max_samples=0.4, n_estimators=120; total time=   0.3s\n",
            "[CV] END ..................max_samples=0.4, n_estimators=120; total time=   0.3s\n",
            "[CV] END ..................max_samples=0.4, n_estimators=130; total time=   0.3s\n",
            "[CV] END ..................max_samples=0.4, n_estimators=130; total time=   0.3s\n",
            "[CV] END ..................max_samples=0.4, n_estimators=140; total time=   0.4s\n",
            "[CV] END ..................max_samples=0.4, n_estimators=140; total time=   0.3s\n",
            "[CV] END ..................max_samples=0.4, n_estimators=150; total time=   0.4s\n",
            "[CV] END ..................max_samples=0.4, n_estimators=150; total time=   0.3s\n",
            "[CV] END ..................max_samples=0.4, n_estimators=160; total time=   0.4s\n",
            "[CV] END ..................max_samples=0.4, n_estimators=160; total time=   0.6s\n",
            "[CV] END ..................max_samples=0.4, n_estimators=170; total time=   0.4s\n",
            "[CV] END ..................max_samples=0.4, n_estimators=170; total time=   0.4s\n",
            "[CV] END ..................max_samples=0.4, n_estimators=180; total time=   0.6s\n",
            "[CV] END ..................max_samples=0.4, n_estimators=180; total time=   0.5s\n",
            "[CV] END ..................max_samples=0.4, n_estimators=190; total time=   0.5s\n",
            "[CV] END ..................max_samples=0.4, n_estimators=190; total time=   1.0s\n",
            "[CV] END ..................max_samples=0.4, n_estimators=200; total time=   0.9s\n",
            "[CV] END ..................max_samples=0.4, n_estimators=200; total time=   1.0s\n",
            "[CV] END ...................max_samples=0.5, n_estimators=10; total time=   0.0s\n",
            "[CV] END ...................max_samples=0.5, n_estimators=10; total time=   0.1s\n",
            "[CV] END ...................max_samples=0.5, n_estimators=20; total time=   0.1s\n",
            "[CV] END ...................max_samples=0.5, n_estimators=20; total time=   0.1s\n",
            "[CV] END ...................max_samples=0.5, n_estimators=30; total time=   0.1s\n",
            "[CV] END ...................max_samples=0.5, n_estimators=30; total time=   0.1s\n",
            "[CV] END ...................max_samples=0.5, n_estimators=40; total time=   0.2s\n",
            "[CV] END ...................max_samples=0.5, n_estimators=40; total time=   0.2s\n",
            "[CV] END ...................max_samples=0.5, n_estimators=50; total time=   0.2s\n",
            "[CV] END ...................max_samples=0.5, n_estimators=50; total time=   0.2s\n",
            "[CV] END ...................max_samples=0.5, n_estimators=60; total time=   0.3s\n",
            "[CV] END ...................max_samples=0.5, n_estimators=60; total time=   0.2s\n",
            "[CV] END ...................max_samples=0.5, n_estimators=70; total time=   0.3s\n",
            "[CV] END ...................max_samples=0.5, n_estimators=70; total time=   0.3s\n",
            "[CV] END ...................max_samples=0.5, n_estimators=80; total time=   0.2s\n",
            "[CV] END ...................max_samples=0.5, n_estimators=80; total time=   0.2s\n",
            "[CV] END ...................max_samples=0.5, n_estimators=90; total time=   0.2s\n",
            "[CV] END ...................max_samples=0.5, n_estimators=90; total time=   0.2s\n",
            "[CV] END ..................max_samples=0.5, n_estimators=100; total time=   0.2s\n",
            "[CV] END ..................max_samples=0.5, n_estimators=100; total time=   0.2s\n",
            "[CV] END ..................max_samples=0.5, n_estimators=110; total time=   0.2s\n",
            "[CV] END ..................max_samples=0.5, n_estimators=110; total time=   0.2s\n",
            "[CV] END ..................max_samples=0.5, n_estimators=120; total time=   0.3s\n",
            "[CV] END ..................max_samples=0.5, n_estimators=120; total time=   0.3s\n",
            "[CV] END ..................max_samples=0.5, n_estimators=130; total time=   0.3s\n",
            "[CV] END ..................max_samples=0.5, n_estimators=130; total time=   0.3s\n",
            "[CV] END ..................max_samples=0.5, n_estimators=140; total time=   0.3s\n",
            "[CV] END ..................max_samples=0.5, n_estimators=140; total time=   0.3s\n",
            "[CV] END ..................max_samples=0.5, n_estimators=150; total time=   0.3s\n",
            "[CV] END ..................max_samples=0.5, n_estimators=150; total time=   0.3s\n",
            "[CV] END ..................max_samples=0.5, n_estimators=160; total time=   0.3s\n",
            "[CV] END ..................max_samples=0.5, n_estimators=160; total time=   0.4s\n",
            "[CV] END ..................max_samples=0.5, n_estimators=170; total time=   0.4s\n",
            "[CV] END ..................max_samples=0.5, n_estimators=170; total time=   0.4s\n",
            "[CV] END ..................max_samples=0.5, n_estimators=180; total time=   0.5s\n",
            "[CV] END ..................max_samples=0.5, n_estimators=180; total time=   0.4s\n",
            "[CV] END ..................max_samples=0.5, n_estimators=190; total time=   0.5s\n",
            "[CV] END ..................max_samples=0.5, n_estimators=190; total time=   0.5s\n",
            "[CV] END ..................max_samples=0.5, n_estimators=200; total time=   0.5s\n",
            "[CV] END ..................max_samples=0.5, n_estimators=200; total time=   0.8s\n",
            "[CV] END ...................max_samples=0.6, n_estimators=10; total time=   0.0s\n",
            "[CV] END ...................max_samples=0.6, n_estimators=10; total time=   0.0s\n",
            "[CV] END ...................max_samples=0.6, n_estimators=20; total time=   0.0s\n",
            "[CV] END ...................max_samples=0.6, n_estimators=20; total time=   0.0s\n"
          ]
        },
        {
          "name": "stdout",
          "output_type": "stream",
          "text": [
            "[CV] END ...................max_samples=0.6, n_estimators=30; total time=   0.1s\n",
            "[CV] END ...................max_samples=0.6, n_estimators=30; total time=   0.1s\n",
            "[CV] END ...................max_samples=0.6, n_estimators=40; total time=   0.1s\n",
            "[CV] END ...................max_samples=0.6, n_estimators=40; total time=   0.1s\n",
            "[CV] END ...................max_samples=0.6, n_estimators=50; total time=   0.1s\n",
            "[CV] END ...................max_samples=0.6, n_estimators=50; total time=   0.1s\n",
            "[CV] END ...................max_samples=0.6, n_estimators=60; total time=   0.1s\n",
            "[CV] END ...................max_samples=0.6, n_estimators=60; total time=   0.2s\n",
            "[CV] END ...................max_samples=0.6, n_estimators=70; total time=   0.1s\n",
            "[CV] END ...................max_samples=0.6, n_estimators=70; total time=   0.2s\n",
            "[CV] END ...................max_samples=0.6, n_estimators=80; total time=   0.3s\n",
            "[CV] END ...................max_samples=0.6, n_estimators=80; total time=   0.3s\n",
            "[CV] END ...................max_samples=0.6, n_estimators=90; total time=   0.3s\n",
            "[CV] END ...................max_samples=0.6, n_estimators=90; total time=   0.4s\n",
            "[CV] END ..................max_samples=0.6, n_estimators=100; total time=   0.4s\n",
            "[CV] END ..................max_samples=0.6, n_estimators=100; total time=   0.4s\n",
            "[CV] END ..................max_samples=0.6, n_estimators=110; total time=   0.3s\n",
            "[CV] END ..................max_samples=0.6, n_estimators=110; total time=   0.3s\n",
            "[CV] END ..................max_samples=0.6, n_estimators=120; total time=   0.3s\n",
            "[CV] END ..................max_samples=0.6, n_estimators=120; total time=   0.6s\n",
            "[CV] END ..................max_samples=0.6, n_estimators=130; total time=   0.6s\n",
            "[CV] END ..................max_samples=0.6, n_estimators=130; total time=   0.3s\n",
            "[CV] END ..................max_samples=0.6, n_estimators=140; total time=   0.4s\n",
            "[CV] END ..................max_samples=0.6, n_estimators=140; total time=   0.4s\n",
            "[CV] END ..................max_samples=0.6, n_estimators=150; total time=   0.4s\n",
            "[CV] END ..................max_samples=0.6, n_estimators=150; total time=   0.4s\n",
            "[CV] END ..................max_samples=0.6, n_estimators=160; total time=   0.4s\n",
            "[CV] END ..................max_samples=0.6, n_estimators=160; total time=   0.3s\n",
            "[CV] END ..................max_samples=0.6, n_estimators=170; total time=   0.4s\n",
            "[CV] END ..................max_samples=0.6, n_estimators=170; total time=   0.4s\n",
            "[CV] END ..................max_samples=0.6, n_estimators=180; total time=   0.4s\n",
            "[CV] END ..................max_samples=0.6, n_estimators=180; total time=   0.4s\n",
            "[CV] END ..................max_samples=0.6, n_estimators=190; total time=   0.4s\n",
            "[CV] END ..................max_samples=0.6, n_estimators=190; total time=   0.4s\n",
            "[CV] END ..................max_samples=0.6, n_estimators=200; total time=   0.4s\n",
            "[CV] END ..................max_samples=0.6, n_estimators=200; total time=   0.5s\n",
            "[CV] END ...................max_samples=0.7, n_estimators=10; total time=   0.0s\n",
            "[CV] END ...................max_samples=0.7, n_estimators=10; total time=   0.1s\n",
            "[CV] END ...................max_samples=0.7, n_estimators=20; total time=   0.1s\n",
            "[CV] END ...................max_samples=0.7, n_estimators=20; total time=   0.1s\n",
            "[CV] END ...................max_samples=0.7, n_estimators=30; total time=   0.1s\n",
            "[CV] END ...................max_samples=0.7, n_estimators=30; total time=   0.1s\n",
            "[CV] END ...................max_samples=0.7, n_estimators=40; total time=   0.1s\n",
            "[CV] END ...................max_samples=0.7, n_estimators=40; total time=   0.1s\n",
            "[CV] END ...................max_samples=0.7, n_estimators=50; total time=   0.1s\n",
            "[CV] END ...................max_samples=0.7, n_estimators=50; total time=   0.1s\n",
            "[CV] END ...................max_samples=0.7, n_estimators=60; total time=   0.3s\n",
            "[CV] END ...................max_samples=0.7, n_estimators=60; total time=   0.2s\n",
            "[CV] END ...................max_samples=0.7, n_estimators=70; total time=   0.3s\n",
            "[CV] END ...................max_samples=0.7, n_estimators=70; total time=   0.2s\n",
            "[CV] END ...................max_samples=0.7, n_estimators=80; total time=   0.3s\n",
            "[CV] END ...................max_samples=0.7, n_estimators=80; total time=   0.2s\n",
            "[CV] END ...................max_samples=0.7, n_estimators=90; total time=   0.2s\n",
            "[CV] END ...................max_samples=0.7, n_estimators=90; total time=   0.2s\n",
            "[CV] END ..................max_samples=0.7, n_estimators=100; total time=   0.2s\n",
            "[CV] END ..................max_samples=0.7, n_estimators=100; total time=   0.2s\n",
            "[CV] END ..................max_samples=0.7, n_estimators=110; total time=   0.3s\n",
            "[CV] END ..................max_samples=0.7, n_estimators=110; total time=   0.2s\n",
            "[CV] END ..................max_samples=0.7, n_estimators=120; total time=   0.3s\n",
            "[CV] END ..................max_samples=0.7, n_estimators=120; total time=   0.3s\n",
            "[CV] END ..................max_samples=0.7, n_estimators=130; total time=   0.3s\n",
            "[CV] END ..................max_samples=0.7, n_estimators=130; total time=   0.3s\n",
            "[CV] END ..................max_samples=0.7, n_estimators=140; total time=   0.4s\n",
            "[CV] END ..................max_samples=0.7, n_estimators=140; total time=   0.5s\n",
            "[CV] END ..................max_samples=0.7, n_estimators=150; total time=   0.3s\n",
            "[CV] END ..................max_samples=0.7, n_estimators=150; total time=   0.5s\n",
            "[CV] END ..................max_samples=0.7, n_estimators=160; total time=   0.5s\n",
            "[CV] END ..................max_samples=0.7, n_estimators=160; total time=   0.4s\n",
            "[CV] END ..................max_samples=0.7, n_estimators=170; total time=   0.4s\n",
            "[CV] END ..................max_samples=0.7, n_estimators=170; total time=   0.4s\n",
            "[CV] END ..................max_samples=0.7, n_estimators=180; total time=   0.6s\n",
            "[CV] END ..................max_samples=0.7, n_estimators=180; total time=   0.4s\n",
            "[CV] END ..................max_samples=0.7, n_estimators=190; total time=   0.4s\n",
            "[CV] END ..................max_samples=0.7, n_estimators=190; total time=   0.4s\n",
            "[CV] END ..................max_samples=0.7, n_estimators=200; total time=   0.4s\n",
            "[CV] END ..................max_samples=0.7, n_estimators=200; total time=   0.4s\n",
            "[CV] END ...................max_samples=0.8, n_estimators=10; total time=   0.0s\n",
            "[CV] END ...................max_samples=0.8, n_estimators=10; total time=   0.0s\n",
            "[CV] END ...................max_samples=0.8, n_estimators=20; total time=   0.0s\n",
            "[CV] END ...................max_samples=0.8, n_estimators=20; total time=   0.0s\n",
            "[CV] END ...................max_samples=0.8, n_estimators=30; total time=   0.1s\n",
            "[CV] END ...................max_samples=0.8, n_estimators=30; total time=   0.1s\n",
            "[CV] END ...................max_samples=0.8, n_estimators=40; total time=   0.1s\n",
            "[CV] END ...................max_samples=0.8, n_estimators=40; total time=   0.1s\n",
            "[CV] END ...................max_samples=0.8, n_estimators=50; total time=   0.1s\n",
            "[CV] END ...................max_samples=0.8, n_estimators=50; total time=   0.1s\n",
            "[CV] END ...................max_samples=0.8, n_estimators=60; total time=   0.1s\n",
            "[CV] END ...................max_samples=0.8, n_estimators=60; total time=   0.1s\n",
            "[CV] END ...................max_samples=0.8, n_estimators=70; total time=   0.3s\n",
            "[CV] END ...................max_samples=0.8, n_estimators=70; total time=   0.4s\n",
            "[CV] END ...................max_samples=0.8, n_estimators=80; total time=   0.3s\n",
            "[CV] END ...................max_samples=0.8, n_estimators=80; total time=   0.3s\n",
            "[CV] END ...................max_samples=0.8, n_estimators=90; total time=   0.2s\n",
            "[CV] END ...................max_samples=0.8, n_estimators=90; total time=   0.3s\n",
            "[CV] END ..................max_samples=0.8, n_estimators=100; total time=   0.5s\n",
            "[CV] END ..................max_samples=0.8, n_estimators=100; total time=   0.4s\n",
            "[CV] END ..................max_samples=0.8, n_estimators=110; total time=   0.3s\n",
            "[CV] END ..................max_samples=0.8, n_estimators=110; total time=   0.3s\n",
            "[CV] END ..................max_samples=0.8, n_estimators=120; total time=   0.6s\n",
            "[CV] END ..................max_samples=0.8, n_estimators=120; total time=   0.4s\n",
            "[CV] END ..................max_samples=0.8, n_estimators=130; total time=   0.5s\n",
            "[CV] END ..................max_samples=0.8, n_estimators=130; total time=   0.5s\n"
          ]
        },
        {
          "name": "stdout",
          "output_type": "stream",
          "text": [
            "[CV] END ..................max_samples=0.8, n_estimators=140; total time=   0.3s\n",
            "[CV] END ..................max_samples=0.8, n_estimators=140; total time=   0.3s\n",
            "[CV] END ..................max_samples=0.8, n_estimators=150; total time=   0.6s\n",
            "[CV] END ..................max_samples=0.8, n_estimators=150; total time=   0.5s\n",
            "[CV] END ..................max_samples=0.8, n_estimators=160; total time=   0.4s\n",
            "[CV] END ..................max_samples=0.8, n_estimators=160; total time=   0.3s\n",
            "[CV] END ..................max_samples=0.8, n_estimators=170; total time=   0.4s\n",
            "[CV] END ..................max_samples=0.8, n_estimators=170; total time=   0.4s\n",
            "[CV] END ..................max_samples=0.8, n_estimators=180; total time=   0.4s\n",
            "[CV] END ..................max_samples=0.8, n_estimators=180; total time=   0.4s\n",
            "[CV] END ..................max_samples=0.8, n_estimators=190; total time=   0.4s\n",
            "[CV] END ..................max_samples=0.8, n_estimators=190; total time=   0.4s\n",
            "[CV] END ..................max_samples=0.8, n_estimators=200; total time=   0.4s\n",
            "[CV] END ..................max_samples=0.8, n_estimators=200; total time=   0.4s\n",
            "[CV] END ...................max_samples=0.9, n_estimators=10; total time=   0.0s\n",
            "[CV] END ...................max_samples=0.9, n_estimators=10; total time=   0.0s\n",
            "[CV] END ...................max_samples=0.9, n_estimators=20; total time=   0.0s\n",
            "[CV] END ...................max_samples=0.9, n_estimators=20; total time=   0.0s\n"
          ]
        },
        {
          "name": "stderr",
          "output_type": "stream",
          "text": [
            "/Users/swapnilsahebraowaghmare/anaconda3/lib/python3.11/site-packages/sklearn/ensemble/_forest.py:578: UserWarning: Some inputs do not have OOB scores. This probably means too few trees were used to compute any reliable OOB estimates.\n",
            "  warn(\n",
            "/Users/swapnilsahebraowaghmare/anaconda3/lib/python3.11/site-packages/sklearn/ensemble/_forest.py:578: UserWarning: Some inputs do not have OOB scores. This probably means too few trees were used to compute any reliable OOB estimates.\n",
            "  warn(\n"
          ]
        },
        {
          "name": "stdout",
          "output_type": "stream",
          "text": [
            "[CV] END ...................max_samples=0.9, n_estimators=30; total time=   0.1s\n",
            "[CV] END ...................max_samples=0.9, n_estimators=30; total time=   0.1s\n",
            "[CV] END ...................max_samples=0.9, n_estimators=40; total time=   0.1s\n",
            "[CV] END ...................max_samples=0.9, n_estimators=40; total time=   0.1s\n",
            "[CV] END ...................max_samples=0.9, n_estimators=50; total time=   0.1s\n",
            "[CV] END ...................max_samples=0.9, n_estimators=50; total time=   0.1s\n",
            "[CV] END ...................max_samples=0.9, n_estimators=60; total time=   0.1s\n",
            "[CV] END ...................max_samples=0.9, n_estimators=60; total time=   0.1s\n",
            "[CV] END ...................max_samples=0.9, n_estimators=70; total time=   0.1s\n",
            "[CV] END ...................max_samples=0.9, n_estimators=70; total time=   0.2s\n",
            "[CV] END ...................max_samples=0.9, n_estimators=80; total time=   0.2s\n",
            "[CV] END ...................max_samples=0.9, n_estimators=80; total time=   0.2s\n",
            "[CV] END ...................max_samples=0.9, n_estimators=90; total time=   0.2s\n",
            "[CV] END ...................max_samples=0.9, n_estimators=90; total time=   0.2s\n",
            "[CV] END ..................max_samples=0.9, n_estimators=100; total time=   0.2s\n",
            "[CV] END ..................max_samples=0.9, n_estimators=100; total time=   0.2s\n",
            "[CV] END ..................max_samples=0.9, n_estimators=110; total time=   0.2s\n",
            "[CV] END ..................max_samples=0.9, n_estimators=110; total time=   0.3s\n",
            "[CV] END ..................max_samples=0.9, n_estimators=120; total time=   0.3s\n",
            "[CV] END ..................max_samples=0.9, n_estimators=120; total time=   0.2s\n",
            "[CV] END ..................max_samples=0.9, n_estimators=130; total time=   0.3s\n",
            "[CV] END ..................max_samples=0.9, n_estimators=130; total time=   0.3s\n",
            "[CV] END ..................max_samples=0.9, n_estimators=140; total time=   0.3s\n",
            "[CV] END ..................max_samples=0.9, n_estimators=140; total time=   0.3s\n",
            "[CV] END ..................max_samples=0.9, n_estimators=150; total time=   0.3s\n",
            "[CV] END ..................max_samples=0.9, n_estimators=150; total time=   0.3s\n",
            "[CV] END ..................max_samples=0.9, n_estimators=160; total time=   0.3s\n",
            "[CV] END ..................max_samples=0.9, n_estimators=160; total time=   0.3s\n",
            "[CV] END ..................max_samples=0.9, n_estimators=170; total time=   0.3s\n",
            "[CV] END ..................max_samples=0.9, n_estimators=170; total time=   0.3s\n",
            "[CV] END ..................max_samples=0.9, n_estimators=180; total time=   0.4s\n",
            "[CV] END ..................max_samples=0.9, n_estimators=180; total time=   0.4s\n",
            "[CV] END ..................max_samples=0.9, n_estimators=190; total time=   0.5s\n",
            "[CV] END ..................max_samples=0.9, n_estimators=190; total time=   0.5s\n",
            "[CV] END ..................max_samples=0.9, n_estimators=200; total time=   0.5s\n",
            "[CV] END ..................max_samples=0.9, n_estimators=200; total time=   0.4s\n"
          ]
        },
        {
          "data": {
            "text/html": [
              "<style>#sk-container-id-6 {color: black;}#sk-container-id-6 pre{padding: 0;}#sk-container-id-6 div.sk-toggleable {background-color: white;}#sk-container-id-6 label.sk-toggleable__label {cursor: pointer;display: block;width: 100%;margin-bottom: 0;padding: 0.3em;box-sizing: border-box;text-align: center;}#sk-container-id-6 label.sk-toggleable__label-arrow:before {content: \"▸\";float: left;margin-right: 0.25em;color: #696969;}#sk-container-id-6 label.sk-toggleable__label-arrow:hover:before {color: black;}#sk-container-id-6 div.sk-estimator:hover label.sk-toggleable__label-arrow:before {color: black;}#sk-container-id-6 div.sk-toggleable__content {max-height: 0;max-width: 0;overflow: hidden;text-align: left;background-color: #f0f8ff;}#sk-container-id-6 div.sk-toggleable__content pre {margin: 0.2em;color: black;border-radius: 0.25em;background-color: #f0f8ff;}#sk-container-id-6 input.sk-toggleable__control:checked~div.sk-toggleable__content {max-height: 200px;max-width: 100%;overflow: auto;}#sk-container-id-6 input.sk-toggleable__control:checked~label.sk-toggleable__label-arrow:before {content: \"▾\";}#sk-container-id-6 div.sk-estimator input.sk-toggleable__control:checked~label.sk-toggleable__label {background-color: #d4ebff;}#sk-container-id-6 div.sk-label input.sk-toggleable__control:checked~label.sk-toggleable__label {background-color: #d4ebff;}#sk-container-id-6 input.sk-hidden--visually {border: 0;clip: rect(1px 1px 1px 1px);clip: rect(1px, 1px, 1px, 1px);height: 1px;margin: -1px;overflow: hidden;padding: 0;position: absolute;width: 1px;}#sk-container-id-6 div.sk-estimator {font-family: monospace;background-color: #f0f8ff;border: 1px dotted black;border-radius: 0.25em;box-sizing: border-box;margin-bottom: 0.5em;}#sk-container-id-6 div.sk-estimator:hover {background-color: #d4ebff;}#sk-container-id-6 div.sk-parallel-item::after {content: \"\";width: 100%;border-bottom: 1px solid gray;flex-grow: 1;}#sk-container-id-6 div.sk-label:hover label.sk-toggleable__label {background-color: #d4ebff;}#sk-container-id-6 div.sk-serial::before {content: \"\";position: absolute;border-left: 1px solid gray;box-sizing: border-box;top: 0;bottom: 0;left: 50%;z-index: 0;}#sk-container-id-6 div.sk-serial {display: flex;flex-direction: column;align-items: center;background-color: white;padding-right: 0.2em;padding-left: 0.2em;position: relative;}#sk-container-id-6 div.sk-item {position: relative;z-index: 1;}#sk-container-id-6 div.sk-parallel {display: flex;align-items: stretch;justify-content: center;background-color: white;position: relative;}#sk-container-id-6 div.sk-item::before, #sk-container-id-6 div.sk-parallel-item::before {content: \"\";position: absolute;border-left: 1px solid gray;box-sizing: border-box;top: 0;bottom: 0;left: 50%;z-index: -1;}#sk-container-id-6 div.sk-parallel-item {display: flex;flex-direction: column;z-index: 1;position: relative;background-color: white;}#sk-container-id-6 div.sk-parallel-item:first-child::after {align-self: flex-end;width: 50%;}#sk-container-id-6 div.sk-parallel-item:last-child::after {align-self: flex-start;width: 50%;}#sk-container-id-6 div.sk-parallel-item:only-child::after {width: 0;}#sk-container-id-6 div.sk-dashed-wrapped {border: 1px dashed gray;margin: 0 0.4em 0.5em 0.4em;box-sizing: border-box;padding-bottom: 0.4em;background-color: white;}#sk-container-id-6 div.sk-label label {font-family: monospace;font-weight: bold;display: inline-block;line-height: 1.2em;}#sk-container-id-6 div.sk-label-container {text-align: center;}#sk-container-id-6 div.sk-container {/* jupyter's `normalize.less` sets `[hidden] { display: none; }` but bootstrap.min.css set `[hidden] { display: none !important; }` so we also need the `!important` here to be able to override the default hidden behavior on the sphinx rendered scikit-learn.org. See: https://github.com/scikit-learn/scikit-learn/issues/21755 */display: inline-block !important;position: relative;}#sk-container-id-6 div.sk-text-repr-fallback {display: none;}</style><div id=\"sk-container-id-6\" class=\"sk-top-container\"><div class=\"sk-text-repr-fallback\"><pre>GridSearchCV(cv=2,\n",
              "             estimator=RandomForestClassifier(class_weight=&#x27;balanced&#x27;,\n",
              "                                              max_depth=4, oob_score=True,\n",
              "                                              random_state=7),\n",
              "             param_grid={&#x27;max_samples&#x27;: [0.1, 0.2, 0.3, 0.4, 0.5, 0.6, 0.7, 0.8,\n",
              "                                         0.9],\n",
              "                         &#x27;n_estimators&#x27;: [10, 20, 30, 40, 50, 60, 70, 80, 90,\n",
              "                                          100, 110, 120, 130, 140, 150, 160,\n",
              "                                          170, 180, 190, 200]},\n",
              "             verbose=2)</pre><b>In a Jupyter environment, please rerun this cell to show the HTML representation or trust the notebook. <br />On GitHub, the HTML representation is unable to render, please try loading this page with nbviewer.org.</b></div><div class=\"sk-container\" hidden><div class=\"sk-item sk-dashed-wrapped\"><div class=\"sk-label-container\"><div class=\"sk-label sk-toggleable\"><input class=\"sk-toggleable__control sk-hidden--visually\" id=\"sk-estimator-id-10\" type=\"checkbox\" ><label for=\"sk-estimator-id-10\" class=\"sk-toggleable__label sk-toggleable__label-arrow\">GridSearchCV</label><div class=\"sk-toggleable__content\"><pre>GridSearchCV(cv=2,\n",
              "             estimator=RandomForestClassifier(class_weight=&#x27;balanced&#x27;,\n",
              "                                              max_depth=4, oob_score=True,\n",
              "                                              random_state=7),\n",
              "             param_grid={&#x27;max_samples&#x27;: [0.1, 0.2, 0.3, 0.4, 0.5, 0.6, 0.7, 0.8,\n",
              "                                         0.9],\n",
              "                         &#x27;n_estimators&#x27;: [10, 20, 30, 40, 50, 60, 70, 80, 90,\n",
              "                                          100, 110, 120, 130, 140, 150, 160,\n",
              "                                          170, 180, 190, 200]},\n",
              "             verbose=2)</pre></div></div></div><div class=\"sk-parallel\"><div class=\"sk-parallel-item\"><div class=\"sk-item\"><div class=\"sk-label-container\"><div class=\"sk-label sk-toggleable\"><input class=\"sk-toggleable__control sk-hidden--visually\" id=\"sk-estimator-id-11\" type=\"checkbox\" ><label for=\"sk-estimator-id-11\" class=\"sk-toggleable__label sk-toggleable__label-arrow\">estimator: RandomForestClassifier</label><div class=\"sk-toggleable__content\"><pre>RandomForestClassifier(class_weight=&#x27;balanced&#x27;, max_depth=4, oob_score=True,\n",
              "                       random_state=7)</pre></div></div></div><div class=\"sk-serial\"><div class=\"sk-item\"><div class=\"sk-estimator sk-toggleable\"><input class=\"sk-toggleable__control sk-hidden--visually\" id=\"sk-estimator-id-12\" type=\"checkbox\" ><label for=\"sk-estimator-id-12\" class=\"sk-toggleable__label sk-toggleable__label-arrow\">RandomForestClassifier</label><div class=\"sk-toggleable__content\"><pre>RandomForestClassifier(class_weight=&#x27;balanced&#x27;, max_depth=4, oob_score=True,\n",
              "                       random_state=7)</pre></div></div></div></div></div></div></div></div></div></div>"
            ],
            "text/plain": [
              "GridSearchCV(cv=2,\n",
              "             estimator=RandomForestClassifier(class_weight='balanced',\n",
              "                                              max_depth=4, oob_score=True,\n",
              "                                              random_state=7),\n",
              "             param_grid={'max_samples': [0.1, 0.2, 0.3, 0.4, 0.5, 0.6, 0.7, 0.8,\n",
              "                                         0.9],\n",
              "                         'n_estimators': [10, 20, 30, 40, 50, 60, 70, 80, 90,\n",
              "                                          100, 110, 120, 130, 140, 150, 160,\n",
              "                                          170, 180, 190, 200]},\n",
              "             verbose=2)"
            ]
          },
          "execution_count": 58,
          "metadata": {},
          "output_type": "execute_result"
        }
      ],
      "source": [
        "param_grid = {\n",
        "    'n_estimators': [x for x in range(10,201,10)],\n",
        "    'max_samples': [x/10 for x in range(1,10,1)]\n",
        "}\n",
        "\n",
        "gscv = GridSearchCV(RandomForestClassifier(max_depth = 4,\n",
        "                                           oob_score=True,\n",
        "                                           class_weight='balanced',\n",
        "                                           random_state=7),\n",
        "                    param_grid, cv=2, verbose=2)\n",
        "\n",
        "gscv.fit(x_train,y_train)"
      ]
    },
    {
      "cell_type": "code",
      "execution_count": null,
      "id": "cac1088d",
      "metadata": {
        "id": "cac1088d",
        "outputId": "54ebc5a2-5fd9-4962-87cb-11d88eeed5db"
      },
      "outputs": [
        {
          "name": "stdout",
          "output_type": "stream",
          "text": [
            "0.8201438848920863\n",
            "The best parameters are:\n",
            "{'max_samples': 0.8, 'n_estimators': 20}\n"
          ]
        }
      ],
      "source": [
        "print(gscv.best_score_)\n",
        "print(\"The best parameters are:\")\n",
        "print(gscv.best_params_)"
      ]
    },
    {
      "cell_type": "code",
      "execution_count": null,
      "id": "17e62b8c",
      "metadata": {
        "id": "17e62b8c"
      },
      "outputs": [],
      "source": [
        "rfc = RandomForestClassifier(max_depth = 4,max_samples=0.8, n_estimators= 20,\n",
        "                       oob_score=True,class_weight='balanced',random_state=7)"
      ]
    },
    {
      "cell_type": "code",
      "execution_count": null,
      "id": "389a58a2",
      "metadata": {
        "id": "389a58a2",
        "outputId": "31c29b68-6e06-4dac-b980-9c48f88451f2"
      },
      "outputs": [
        {
          "data": {
            "text/html": [
              "<style>#sk-container-id-7 {color: black;}#sk-container-id-7 pre{padding: 0;}#sk-container-id-7 div.sk-toggleable {background-color: white;}#sk-container-id-7 label.sk-toggleable__label {cursor: pointer;display: block;width: 100%;margin-bottom: 0;padding: 0.3em;box-sizing: border-box;text-align: center;}#sk-container-id-7 label.sk-toggleable__label-arrow:before {content: \"▸\";float: left;margin-right: 0.25em;color: #696969;}#sk-container-id-7 label.sk-toggleable__label-arrow:hover:before {color: black;}#sk-container-id-7 div.sk-estimator:hover label.sk-toggleable__label-arrow:before {color: black;}#sk-container-id-7 div.sk-toggleable__content {max-height: 0;max-width: 0;overflow: hidden;text-align: left;background-color: #f0f8ff;}#sk-container-id-7 div.sk-toggleable__content pre {margin: 0.2em;color: black;border-radius: 0.25em;background-color: #f0f8ff;}#sk-container-id-7 input.sk-toggleable__control:checked~div.sk-toggleable__content {max-height: 200px;max-width: 100%;overflow: auto;}#sk-container-id-7 input.sk-toggleable__control:checked~label.sk-toggleable__label-arrow:before {content: \"▾\";}#sk-container-id-7 div.sk-estimator input.sk-toggleable__control:checked~label.sk-toggleable__label {background-color: #d4ebff;}#sk-container-id-7 div.sk-label input.sk-toggleable__control:checked~label.sk-toggleable__label {background-color: #d4ebff;}#sk-container-id-7 input.sk-hidden--visually {border: 0;clip: rect(1px 1px 1px 1px);clip: rect(1px, 1px, 1px, 1px);height: 1px;margin: -1px;overflow: hidden;padding: 0;position: absolute;width: 1px;}#sk-container-id-7 div.sk-estimator {font-family: monospace;background-color: #f0f8ff;border: 1px dotted black;border-radius: 0.25em;box-sizing: border-box;margin-bottom: 0.5em;}#sk-container-id-7 div.sk-estimator:hover {background-color: #d4ebff;}#sk-container-id-7 div.sk-parallel-item::after {content: \"\";width: 100%;border-bottom: 1px solid gray;flex-grow: 1;}#sk-container-id-7 div.sk-label:hover label.sk-toggleable__label {background-color: #d4ebff;}#sk-container-id-7 div.sk-serial::before {content: \"\";position: absolute;border-left: 1px solid gray;box-sizing: border-box;top: 0;bottom: 0;left: 50%;z-index: 0;}#sk-container-id-7 div.sk-serial {display: flex;flex-direction: column;align-items: center;background-color: white;padding-right: 0.2em;padding-left: 0.2em;position: relative;}#sk-container-id-7 div.sk-item {position: relative;z-index: 1;}#sk-container-id-7 div.sk-parallel {display: flex;align-items: stretch;justify-content: center;background-color: white;position: relative;}#sk-container-id-7 div.sk-item::before, #sk-container-id-7 div.sk-parallel-item::before {content: \"\";position: absolute;border-left: 1px solid gray;box-sizing: border-box;top: 0;bottom: 0;left: 50%;z-index: -1;}#sk-container-id-7 div.sk-parallel-item {display: flex;flex-direction: column;z-index: 1;position: relative;background-color: white;}#sk-container-id-7 div.sk-parallel-item:first-child::after {align-self: flex-end;width: 50%;}#sk-container-id-7 div.sk-parallel-item:last-child::after {align-self: flex-start;width: 50%;}#sk-container-id-7 div.sk-parallel-item:only-child::after {width: 0;}#sk-container-id-7 div.sk-dashed-wrapped {border: 1px dashed gray;margin: 0 0.4em 0.5em 0.4em;box-sizing: border-box;padding-bottom: 0.4em;background-color: white;}#sk-container-id-7 div.sk-label label {font-family: monospace;font-weight: bold;display: inline-block;line-height: 1.2em;}#sk-container-id-7 div.sk-label-container {text-align: center;}#sk-container-id-7 div.sk-container {/* jupyter's `normalize.less` sets `[hidden] { display: none; }` but bootstrap.min.css set `[hidden] { display: none !important; }` so we also need the `!important` here to be able to override the default hidden behavior on the sphinx rendered scikit-learn.org. See: https://github.com/scikit-learn/scikit-learn/issues/21755 */display: inline-block !important;position: relative;}#sk-container-id-7 div.sk-text-repr-fallback {display: none;}</style><div id=\"sk-container-id-7\" class=\"sk-top-container\"><div class=\"sk-text-repr-fallback\"><pre>RandomForestClassifier(class_weight=&#x27;balanced&#x27;, max_depth=4, max_samples=0.8,\n",
              "                       n_estimators=20, oob_score=True, random_state=7)</pre><b>In a Jupyter environment, please rerun this cell to show the HTML representation or trust the notebook. <br />On GitHub, the HTML representation is unable to render, please try loading this page with nbviewer.org.</b></div><div class=\"sk-container\" hidden><div class=\"sk-item\"><div class=\"sk-estimator sk-toggleable\"><input class=\"sk-toggleable__control sk-hidden--visually\" id=\"sk-estimator-id-13\" type=\"checkbox\" checked><label for=\"sk-estimator-id-13\" class=\"sk-toggleable__label sk-toggleable__label-arrow\">RandomForestClassifier</label><div class=\"sk-toggleable__content\"><pre>RandomForestClassifier(class_weight=&#x27;balanced&#x27;, max_depth=4, max_samples=0.8,\n",
              "                       n_estimators=20, oob_score=True, random_state=7)</pre></div></div></div></div></div>"
            ],
            "text/plain": [
              "RandomForestClassifier(class_weight='balanced', max_depth=4, max_samples=0.8,\n",
              "                       n_estimators=20, oob_score=True, random_state=7)"
            ]
          },
          "execution_count": 61,
          "metadata": {},
          "output_type": "execute_result"
        }
      ],
      "source": [
        "rfc.fit(x_train,y_train)"
      ]
    },
    {
      "cell_type": "code",
      "execution_count": null,
      "id": "d3ec4fad",
      "metadata": {
        "id": "d3ec4fad"
      },
      "outputs": [],
      "source": [
        "y_pred_rfc = rfc.predict(x_test)"
      ]
    },
    {
      "cell_type": "code",
      "execution_count": null,
      "id": "01c05e8c",
      "metadata": {
        "id": "01c05e8c",
        "outputId": "4b4b4f4b-8068-438b-dfe4-de42054f877b"
      },
      "outputs": [
        {
          "name": "stdout",
          "output_type": "stream",
          "text": [
            "              precision    recall  f1-score   support\n",
            "\n",
            "           0       0.81      0.96      0.88       384\n",
            "           1       0.89      0.61      0.72       213\n",
            "\n",
            "    accuracy                           0.83       597\n",
            "   macro avg       0.85      0.78      0.80       597\n",
            "weighted avg       0.84      0.83      0.82       597\n",
            "\n"
          ]
        }
      ],
      "source": [
        "print(classification_report(y_test,y_pred_rfc))"
      ]
    },
    {
      "cell_type": "markdown",
      "id": "e6b73934",
      "metadata": {
        "id": "e6b73934"
      },
      "source": [
        "## Observations\n",
        "- accuracy of random forest classifier is 83%"
      ]
    },
    {
      "cell_type": "markdown",
      "id": "dc439c88",
      "metadata": {
        "id": "dc439c88"
      },
      "source": [
        "### Among the three classifiers i.e.\n",
        "- logistic regression\n",
        "- support vector machine\n",
        "- random forest\n",
        "### the maximum accuracry is of random forest model (83%)"
      ]
    },
    {
      "cell_type": "code",
      "execution_count": null,
      "id": "1389ea3a",
      "metadata": {
        "id": "1389ea3a"
      },
      "outputs": [],
      "source": []
    }
  ],
  "metadata": {
    "kernelspec": {
      "display_name": "Python 3 (ipykernel)",
      "language": "python",
      "name": "python3"
    },
    "language_info": {
      "codemirror_mode": {
        "name": "ipython",
        "version": 3
      },
      "file_extension": ".py",
      "mimetype": "text/x-python",
      "name": "python",
      "nbconvert_exporter": "python",
      "pygments_lexer": "ipython3",
      "version": "3.11.4"
    },
    "colab": {
      "provenance": []
    }
  },
  "nbformat": 4,
  "nbformat_minor": 5
}